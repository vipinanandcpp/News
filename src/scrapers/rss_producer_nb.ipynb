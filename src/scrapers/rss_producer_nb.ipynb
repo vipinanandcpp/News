{
 "cells": [
  {
   "cell_type": "code",
   "execution_count": 1,
   "metadata": {
    "collapsed": false
   },
   "outputs": [
    {
     "name": "stdout",
     "output_type": "stream",
     "text": [
      "\n",
      "running via ipython -> not running continously"
     ]
    }
   ],
   "source": [
    "%run rss_producer.py"
   ]
  },
  {
   "cell_type": "code",
   "execution_count": 2,
   "metadata": {
    "collapsed": false
   },
   "outputs": [
    {
     "name": "stdout",
     "output_type": "stream",
     "text": [
      "\n",
      "successfullly opened /Users/vipinanand/news/data/daily/20170221/rss/Zerohedge_0_json.txt.gz\n",
      " Parsing articles is disallowed using listener for Zerohedge\n"
     ]
    }
   ],
   "source": [
    "rss_producer = RSS_PRODUCER(domain='Zerohedge', test_mode=True, start_producer=False)"
   ]
  },
  {
   "cell_type": "code",
   "execution_count": 3,
   "metadata": {
    "collapsed": true
   },
   "outputs": [],
   "source": [
    "source_url = \"http://feeds.feedburner.com/zerohedge/feed\""
   ]
  },
  {
   "cell_type": "code",
   "execution_count": 11,
   "metadata": {
    "collapsed": false,
    "scrolled": true
   },
   "outputs": [
    {
     "name": "stderr",
     "output_type": "stream",
     "text": [
      "02/21/2017 07:44:01 AM EST Starting new HTTP connection (1): feedproxy.google.com\n",
      "02/21/2017 07:44:01 AM EST Starting new HTTP connection (1): feedproxy.google.com\n",
      "02/21/2017 07:44:01 AM EST Starting new HTTP connection (1): feedproxy.google.com\n",
      "02/21/2017 07:44:01 AM EST Starting new HTTP connection (1): feedproxy.google.com\n",
      "02/21/2017 07:44:01 AM EST Starting new HTTP connection (1): feedproxy.google.com\n",
      "02/21/2017 07:44:01 AM EST Starting new HTTP connection (1): feedproxy.google.com\n",
      "02/21/2017 07:44:01 AM EST Starting new HTTP connection (1): feedproxy.google.com\n",
      "02/21/2017 07:44:01 AM EST Starting new HTTP connection (1): feedproxy.google.com\n",
      "02/21/2017 07:44:01 AM EST Starting new HTTP connection (1): feedproxy.google.com\n",
      "02/21/2017 07:44:01 AM EST Starting new HTTP connection (1): feedproxy.google.com\n",
      "02/21/2017 07:44:02 AM EST \"GET /~r/zerohedge/feed/~3/JiEUfRE_-ik/israeli-soldier-sentenced-18-months-prison-killing-wounded-palestinian-assailant HTTP/1.1\" 301 None\n",
      "02/21/2017 07:44:02 AM EST \"GET /~r/zerohedge/feed/~3/kbxKDlcWHY0/wal-mart-rises-after-earnings-comps-guidance-beat-expectations-sales-miss HTTP/1.1\" 301 None\n",
      "02/21/2017 07:44:02 AM EST \"GET /~r/zerohedge/feed/~3/D18IK2Gcc5A/alan-greenspan-ron-paul-was-right-about-gold-standard HTTP/1.1\" 301 None\n",
      "02/21/2017 07:44:02 AM EST \"GET /~r/zerohedge/feed/~3/6EUHyy1jHXE/death-venture-capital HTTP/1.1\" 301 None\n",
      "02/21/2017 07:44:02 AM EST \"GET /~r/zerohedge/feed/~3/j4XTgUsw4C8/plus-%C3%A7a-change-oui-ou-non HTTP/1.1\" 301 None\n",
      "02/21/2017 07:44:02 AM EST \"GET /~r/zerohedge/feed/~3/5wZU0LlGj70/putin-gold-buying-back-%E2%80%93-buys-one-million-ounces-january HTTP/1.1\" 301 None\n",
      "02/21/2017 07:44:02 AM EST \"GET /~r/zerohedge/feed/~3/KtzSi2zLj9E/us-futures-european-stocks-rise-despite-hsbc-plunge-dollar-oil-jump HTTP/1.1\" 301 None\n",
      "02/21/2017 07:44:02 AM EST \"GET /~r/zerohedge/feed/~3/-PFMePdUcbQ/frontrunning-february-21 HTTP/1.1\" 301 None\n",
      "02/21/2017 07:44:02 AM EST \"GET /~r/zerohedge/feed/~3/T0_m2k0xwTk/meanwhile-rioting-breaks-out-sweden HTTP/1.1\" 301 None\n",
      "02/21/2017 07:44:02 AM EST \"GET /~r/zerohedge/feed/~3/1vc5WycufQo/frances-muslim-demographic-future HTTP/1.1\" 301 None\n",
      "02/21/2017 07:44:02 AM EST Starting new HTTP connection (1): www.zerohedge.com\n",
      "02/21/2017 07:44:02 AM EST Starting new HTTP connection (1): www.zerohedge.com\n",
      "02/21/2017 07:44:02 AM EST Starting new HTTP connection (1): www.zerohedge.com\n",
      "02/21/2017 07:44:02 AM EST Starting new HTTP connection (1): www.zerohedge.com\n",
      "02/21/2017 07:44:02 AM EST Starting new HTTP connection (1): www.zerohedge.com\n",
      "02/21/2017 07:44:02 AM EST Starting new HTTP connection (1): www.zerohedge.com\n",
      "02/21/2017 07:44:02 AM EST Starting new HTTP connection (1): www.zerohedge.com\n",
      "02/21/2017 07:44:02 AM EST Starting new HTTP connection (1): www.zerohedge.com\n",
      "02/21/2017 07:44:02 AM EST Starting new HTTP connection (1): www.zerohedge.com\n",
      "02/21/2017 07:44:02 AM EST Starting new HTTP connection (1): www.zerohedge.com\n",
      "02/21/2017 07:44:04 AM EST \"GET /news/2017-02-21/israeli-soldier-sentenced-18-months-prison-killing-wounded-palestinian-assailant?utm_source=feedburner&utm_medium=feed&utm_campaign=Feed%3A+zerohedge%2Ffeed+%28zero+hedge+-+on+a+long+enough+timeline%2C+the+survival+rate+for+everyone+drops+to+zero%29 HTTP/1.1\" 200 None\n",
      "02/21/2017 07:44:04 AM EST \"GET /news/2017-02-21/plus-%C3%A7a-change-oui-ou-non?utm_source=feedburner&utm_medium=feed&utm_campaign=Feed%3A+zerohedge%2Ffeed+%28zero+hedge+-+on+a+long+enough+timeline%2C+the+survival+rate+for+everyone+drops+to+zero%29 HTTP/1.1\" 200 48281\n",
      "02/21/2017 07:44:04 AM EST \"GET /news/2017-02-21/wal-mart-rises-after-earnings-comps-guidance-beat-expectations-sales-miss?utm_source=feedburner&utm_medium=feed&utm_campaign=Feed%3A+zerohedge%2Ffeed+%28zero+hedge+-+on+a+long+enough+timeline%2C+the+survival+rate+for+everyone+drops+to+zero%29 HTTP/1.1\" 200 None\n",
      "02/21/2017 07:44:04 AM EST \"GET /news/2017-02-20/death-venture-capital?utm_source=feedburner&utm_medium=feed&utm_campaign=Feed%3A+zerohedge%2Ffeed+%28zero+hedge+-+on+a+long+enough+timeline%2C+the+survival+rate+for+everyone+drops+to+zero%29 HTTP/1.1\" 200 60723\n",
      "02/21/2017 07:44:04 AM EST \"GET /news/2017-02-20/alan-greenspan-ron-paul-was-right-about-gold-standard?utm_source=feedburner&utm_medium=feed&utm_campaign=Feed%3A+zerohedge%2Ffeed+%28zero+hedge+-+on+a+long+enough+timeline%2C+the+survival+rate+for+everyone+drops+to+zero%29 HTTP/1.1\" 200 None\n",
      "02/21/2017 07:44:04 AM EST \"GET /news/2017-02-20/frances-muslim-demographic-future?utm_source=feedburner&utm_medium=feed&utm_campaign=Feed%3A+zerohedge%2Ffeed+%28zero+hedge+-+on+a+long+enough+timeline%2C+the+survival+rate+for+everyone+drops+to+zero%29 HTTP/1.1\" 200 None\n",
      "02/21/2017 07:44:04 AM EST \"GET /news/2017-02-21/us-futures-european-stocks-rise-despite-hsbc-plunge-dollar-oil-jump?utm_source=feedburner&utm_medium=feed&utm_campaign=Feed%3A+zerohedge%2Ffeed+%28zero+hedge+-+on+a+long+enough+timeline%2C+the+survival+rate+for+everyone+drops+to+zero%29 HTTP/1.1\" 200 None\n",
      "02/21/2017 07:44:04 AM EST \"GET /news/2017-02-21/putin-gold-buying-back-%E2%80%93-buys-one-million-ounces-january?utm_source=feedburner&utm_medium=feed&utm_campaign=Feed%3A+zerohedge%2Ffeed+%28zero+hedge+-+on+a+long+enough+timeline%2C+the+survival+rate+for+everyone+drops+to+zero%29 HTTP/1.1\" 200 None\n",
      "02/21/2017 07:44:04 AM EST \"GET /news/2017-02-20/meanwhile-rioting-breaks-out-sweden?utm_source=feedburner&utm_medium=feed&utm_campaign=Feed%3A+zerohedge%2Ffeed+%28zero+hedge+-+on+a+long+enough+timeline%2C+the+survival+rate+for+everyone+drops+to+zero%29 HTTP/1.1\" 200 None\n",
      "02/21/2017 07:44:04 AM EST \"GET /news/2017-02-21/frontrunning-february-21?utm_source=feedburner&utm_medium=feed&utm_campaign=Feed%3A+zerohedge%2Ffeed+%28zero+hedge+-+on+a+long+enough+timeline%2C+the+survival+rate+for+everyone+drops+to+zero%29 HTTP/1.1\" 200 None\n",
      "02/21/2017 07:44:09 AM EST ignore dims http://www.zerohedge.com/sites/default/files/images/user3303/imageroot/2017/02/19/20170220_VC2_0.jpg\n",
      "02/21/2017 07:44:09 AM EST ignore little http://www.zerohedge.com/sites/default/files/pictures/picture-237925.jpg\n",
      "02/21/2017 07:44:10 AM EST ignore little http://www.zerohedge.com/sites/default/files/pictures/picture-237925.jpg\n",
      "02/21/2017 07:44:11 AM EST ignore little http://www.zerohedge.com/sites/default/files/pictures/picture-173873.jpg\n",
      "02/21/2017 07:44:11 AM EST error while fetching: http://feedproxy.google.com/sites/all/themes/zero_hedge/images/logo_mobile.svg refer: http://feedproxy.google.com/~r/zerohedge/feed/~3/j4XTgUsw4C8/plus-%C3%A7a-change-oui-ou-non\n",
      "02/21/2017 07:44:11 AM EST error while fetching: http://feedproxy.google.com/sites/all/themes/zero_hedge/images/logo_mobile.svg refer: http://feedproxy.google.com/~r/zerohedge/feed/~3/-PFMePdUcbQ/frontrunning-february-21\n",
      "02/21/2017 07:44:13 AM EST ignore little http://www.zerohedge.com/sites/default/files/pictures/picture-237925.jpg\n",
      "02/21/2017 07:44:15 AM EST ignore little http://www.zerohedge.com/sites/default/files/pictures/picture-6258.png\n",
      "02/21/2017 07:44:15 AM EST error while fetching: http://feedproxy.google.com/sites/all/themes/zero_hedge/images/bagicon.png refer: http://feedproxy.google.com/~r/zerohedge/feed/~3/j4XTgUsw4C8/plus-%C3%A7a-change-oui-ou-non\n",
      "02/21/2017 07:44:15 AM EST error while fetching: http://feedproxy.google.com/sites/all/themes/zero_hedge/images/bagicon.png refer: http://feedproxy.google.com/~r/zerohedge/feed/~3/-PFMePdUcbQ/frontrunning-february-21\n",
      "02/21/2017 07:44:17 AM EST ignore little http://www.zerohedge.com/sites/default/files/pictures/picture-203940.jpg\n",
      "02/21/2017 07:44:17 AM EST ignore little http://www.zerohedge.com/sites/default/files/pictures/picture-234204.jpg\n",
      "02/21/2017 07:44:17 AM EST ignore little http://www.zerohedge.com/sites/default/files/pictures/picture-234204.jpg\n",
      "02/21/2017 07:44:20 AM EST ignore little http://www.zerohedge.com/sites/default/files/pictures/picture-5.jpg\n",
      "02/21/2017 07:44:21 AM EST error while fetching: http://feedproxy.google.com/sites/default/files/images/user6/imageroot/2011/08/live_commentary_button_big.png refer: http://feedproxy.google.com/~r/zerohedge/feed/~3/j4XTgUsw4C8/plus-%C3%A7a-change-oui-ou-non\n",
      "02/21/2017 07:44:21 AM EST error while fetching: http://feedproxy.google.com/sites/all/themes/zero_hedge/images/logo_mobile.svg refer: http://feedproxy.google.com/~r/zerohedge/feed/~3/6EUHyy1jHXE/death-venture-capital\n",
      "02/21/2017 07:44:23 AM EST ignore little http://www.zerohedge.com/sites/default/files/pictures/picture-209763.jpg\n",
      "02/21/2017 07:44:24 AM EST error while fetching: http://feedproxy.google.com/sites/default/files/images/user6/imageroot/2011/08/live_commentary_button_big.png refer: http://feedproxy.google.com/~r/zerohedge/feed/~3/-PFMePdUcbQ/frontrunning-february-21\n",
      "02/21/2017 07:44:25 AM EST ignore little http://www.zerohedge.com/sites/default/files/pictures/picture-206118.png\n",
      "02/21/2017 07:44:25 AM EST error while fetching: http://feedproxy.google.com/sites/all/themes/zero_hedge/images/logo_full.svg refer: http://feedproxy.google.com/~r/zerohedge/feed/~3/j4XTgUsw4C8/plus-%C3%A7a-change-oui-ou-non\n",
      "02/21/2017 07:44:27 AM EST ignore little http://www.zerohedge.com/sites/default/files/pictures/picture-2965.jpg\n",
      "02/21/2017 07:44:27 AM EST jpeg error with PIL, cannot concatenate 'str' and 'NoneType' objects\n",
      "02/21/2017 07:44:28 AM EST error while fetching: http://feedproxy.google.com/sites/all/themes/zero_hedge/images/logo_full.svg refer: http://feedproxy.google.com/~r/zerohedge/feed/~3/-PFMePdUcbQ/frontrunning-february-21\n",
      "02/21/2017 07:44:28 AM EST jpeg error with PIL, cannot concatenate 'str' and 'NoneType' objects\n",
      "02/21/2017 07:44:29 AM EST error while fetching: http://feedproxy.google.com/sites/all/themes/zero_hedge/images/bagicon.png refer: http://feedproxy.google.com/~r/zerohedge/feed/~3/6EUHyy1jHXE/death-venture-capital\n",
      "02/21/2017 07:44:31 AM EST ignore little http://www.zerohedge.com/sites/default/files/pictures/picture-234204.jpg\n",
      "02/21/2017 07:44:33 AM EST ignore dims http://www.zerohedge.com/sites/default/files/images/user3303/imageroot/2017/02/19/20170220_VC2_0.jpg\n",
      "02/21/2017 07:44:36 AM EST ignore little http://www.zerohedge.com/sites/default/files/pictures/picture-5.jpg\n",
      "02/21/2017 07:44:40 AM EST error while fetching: http://feedproxy.google.com/sites/default/files/images/user6/imageroot/2011/08/live_commentary_button_big.png refer: http://feedproxy.google.com/~r/zerohedge/feed/~3/6EUHyy1jHXE/death-venture-capital\n",
      "02/21/2017 07:44:44 AM EST error while fetching: http://feedproxy.google.com/sites/all/themes/zero_hedge/images/logo_full.svg refer: http://feedproxy.google.com/~r/zerohedge/feed/~3/6EUHyy1jHXE/death-venture-capital\n",
      "02/21/2017 07:44:44 AM EST using max img http://www.zerohedge.com/sites/default/files/images/user3303/imageroot/2017/02/19/20170220_VC1_0.jpg\n"
     ]
    }
   ],
   "source": [
    "alerts = rss_producer.parse_start_page(source_url)"
   ]
  },
  {
   "cell_type": "code",
   "execution_count": 8,
   "metadata": {
    "collapsed": false
   },
   "outputs": [],
   "source": [
    "data = RSS_PRODUCER.call_feedparser(source_url)"
   ]
  },
  {
   "cell_type": "code",
   "execution_count": 10,
   "metadata": {
    "collapsed": false
   },
   "outputs": [
    {
     "data": {
      "text/plain": [
       "{'bozo': 0,\n",
       " 'debug_message': 'The feed has not changed since you last checked, so the server sent no data.  This is a feature, not a bug!',\n",
       " 'entries': [],\n",
       " 'feed': {},\n",
       " 'headers': {'connection': 'close',\n",
       "  'date': 'Tue, 21 Feb 2017 12:42:00 GMT',\n",
       "  'server': 'GSE'},\n",
       " 'href': u'http://feeds.feedburner.com/zerohedge/feed',\n",
       " 'status': 304,\n",
       " 'version': u''}"
      ]
     },
     "execution_count": 10,
     "metadata": {},
     "output_type": "execute_result"
    }
   ],
   "source": [
    "data"
   ]
  },
  {
   "cell_type": "code",
   "execution_count": 12,
   "metadata": {
    "collapsed": false
   },
   "outputs": [
    {
     "data": {
      "text/plain": [
       "10"
      ]
     },
     "execution_count": 12,
     "metadata": {},
     "output_type": "execute_result"
    }
   ],
   "source": [
    "len(alerts)"
   ]
  },
  {
   "cell_type": "code",
   "execution_count": null,
   "metadata": {
    "collapsed": true
   },
   "outputs": [],
   "source": []
  }
 ],
 "metadata": {
  "kernelspec": {
   "display_name": "Python 2",
   "language": "python",
   "name": "python2"
  },
  "language_info": {
   "codemirror_mode": {
    "name": "ipython",
    "version": 2
   },
   "file_extension": ".py",
   "mimetype": "text/x-python",
   "name": "python",
   "nbconvert_exporter": "python",
   "pygments_lexer": "ipython2",
   "version": "2.7.11"
  }
 },
 "nbformat": 4,
 "nbformat_minor": 0
}

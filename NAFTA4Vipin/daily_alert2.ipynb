{
 "cells": [
  {
   "cell_type": "code",
   "execution_count": 1,
   "metadata": {
    "collapsed": false
   },
   "outputs": [],
   "source": [
    "from apscheduler.schedulers.blocking import BlockingScheduler\n",
    "from pyquery import PyQuery\n",
    "import pandas as pd\n",
    "\n",
    "import smtplib\n",
    "\n",
    "from email.mime.multipart import MIMEMultipart\n",
    "from email.mime.text import MIMEText\n",
    "\n",
    "# In[2]:\n",
    "import time\n",
    "import datetime\n",
    "#import win32com.client\n",
    "import numpy as np\n",
    "import collections\n",
    "#import pythoncom\n",
    "\n",
    "import logging\n",
    "\n",
    "sched = BlockingScheduler()\n",
    "logging.basicConfig()\n",
    "\n",
    "\n",
    "# In[3]:\n",
    "\n",
    "import sys, logging, traceback\n",
    "import concurrent.futures as cf\n",
    "from concurrent.futures import ThreadPoolExecutor\n",
    "from goose import Goose"
   ]
  },
  {
   "cell_type": "code",
   "execution_count": 2,
   "metadata": {
    "collapsed": true
   },
   "outputs": [],
   "source": [
    "import sys, logging, traceback\n",
    "import concurrent.futures as cf\n",
    "from concurrent.futures import ThreadPoolExecutor\n",
    "from goose import Goose\n"
   ]
  },
  {
   "cell_type": "code",
   "execution_count": 3,
   "metadata": {
    "collapsed": true
   },
   "outputs": [],
   "source": [
    "class URLProcessor(object):\n",
    "\tg = Goose()\n",
    "\n",
    "\tdef __init__(self, max_workers=50):\n",
    "\t\tself.max_workers = max_workers\n",
    "\n",
    "\t@staticmethod\n",
    "\tdef run_extraction(url):\n",
    "\t\textracted = None\n",
    "\t\ttry:\n",
    "\t\t\textracted = URLProcessor.g.extract(url = url)\n",
    "\t\texcept Exception as e:\n",
    "\t\t\tsys.stderr.write('\\n\\t' + str(traceback.print_exc()))\n",
    "\t\t\tlogging.error(e, exc_info=1)\n",
    "\t\t\textracted = None\n",
    "\t\treturn extracted\n",
    "\n",
    "\tdef process_url(self, url):\n",
    "\t\treturn URLProcessor.run_extraction(url)\n",
    "\n",
    "\tdef process_urls(self, urls, timeout = 600):\n",
    "\t\tresults = {}\n",
    "\t\twith ThreadPoolExecutor(max_workers=self.max_workers) as executor:\n",
    "\t\t\tfutures = {executor.submit(self.process_url, url):url for url in urls}\n",
    "\t\t\tfor future in cf.as_completed(futures, timeout=timeout):\n",
    "\t\t\t\tif future.result() is not None:\n",
    "\t\t\t\t\turl = futures[future]\n",
    "\t\t\t\t\ttry:\n",
    "\t\t\t\t\t\tresults[url] = future.result()\n",
    "\t\t\t\t\texcept Exception as e:\n",
    "\t\t\t\t\t\tsys.stderr.write('\\n\\t' + str(traceback.print_exc()))\n",
    "\t\t\t\t\t\tlogging.error(e, exc_info=1)\n",
    "\t\treturn results\n",
    "url_processor = URLProcessor()"
   ]
  },
  {
   "cell_type": "code",
   "execution_count": 4,
   "metadata": {
    "collapsed": true
   },
   "outputs": [],
   "source": [
    "def prepare_html(liston,color):\n",
    "    liston_out=list()\n",
    "    for headline,url in liston:\n",
    "        if(len(headline)>0):\n",
    "            out1_jose = \"<tr><td BGCOLOR=\"+color+\">\" + headline + \"<td align=center>\" + url +  \"</tr>\";\n",
    "            #out1_jose = \"<tr><td BGCOLOR=#F7BE81>\" + headline + \"<td align=center>\" + url +  \"</tr>\";\n",
    "            liston_out.append(out1_jose)\n",
    "    return liston_out"
   ]
  },
  {
   "cell_type": "code",
   "execution_count": 19,
   "metadata": {
    "collapsed": false
   },
   "outputs": [],
   "source": [
    "def prepare_wsj():\n",
    "    pq = PyQuery('http://www.wsj.com/news/heard-on-the-street')\n",
    "\n",
    "    base_url = 'http://www.wsj.com/'\n",
    "    \n",
    "    blog_url='http://blogs.wsj.com/'\n",
    "\n",
    "    urls = []\n",
    "\n",
    "\n",
    "    for item in pq('.headline-container .headline a').items():\n",
    "        href  = item.attr['href']\n",
    "        if base_url in href:\n",
    "            urls.append(href)\n",
    "        else:\n",
    "            if blog_url not in href:\n",
    "                urls.append(base_url+href)\n",
    "            else:\n",
    "                urls.append(href)\n",
    "\n",
    "    #url_processor = URLProcessor()\n",
    "\n",
    "    liston_wsj=list()\n",
    "    \n",
    "    for elem in urls:\n",
    "        article=url_processor.process_url(elem)\n",
    "        liston_wsj.append((article.title,elem))\n",
    "\n",
    "    return liston_wsj    \n",
    "\n",
    "    \n",
    "    "
   ]
  },
  {
   "cell_type": "code",
   "execution_count": 6,
   "metadata": {
    "collapsed": true
   },
   "outputs": [],
   "source": [
    "def prepare_bb():\n",
    "    pq = PyQuery('http://www.bloomberg.com')\n",
    "\n",
    "    base_url = 'http://www.bloomberg.com/'\n",
    "\n",
    "    urls = []\n",
    "\n",
    "\n",
    "    for item in pq('.hero-v6-story__info-container .hero-v6-story__info a').items():\n",
    "        href  = item.attr['href']\n",
    "        if base_url in href:\n",
    "            urls.append(href)\n",
    "        else:\n",
    "            urls.append(base_url+href)\n",
    "\n",
    "    liston_bb=list()\n",
    "\n",
    "\n",
    "    for elem in urls:\n",
    "        article=url_processor.process_url(elem)\n",
    "        liston_bb.append((article.title,elem))\n",
    "\n",
    "    return liston_bb"
   ]
  },
  {
   "cell_type": "code",
   "execution_count": 7,
   "metadata": {
    "collapsed": true
   },
   "outputs": [],
   "source": [
    "def prepare_cnn():\n",
    "    pq = PyQuery(\"http://money.cnn.com/news/economy/\")\n",
    "\n",
    "\n",
    "    #\n",
    "    base_url = 'http://money.cnn.com/'\n",
    "\n",
    "\n",
    "    urls = []\n",
    "\n",
    "\n",
    "    for item in pq('article  a').items():\n",
    "        href  = item.attr['href']\n",
    "        if base_url in href:\n",
    "            urls.append(href)\n",
    "        else:\n",
    "            urls.append(base_url+href)\n",
    "\n",
    "    talla=len(urls)\n",
    "\n",
    "    limite=min(talla,5)\n",
    "\n",
    "    liston_cnn=list()\n",
    "\n",
    "\n",
    "\n",
    "    for elem in urls[0:limite]:\n",
    "        article=url_processor.process_url(elem)\n",
    "        liston_cnn.append((article.title,elem))\n",
    "\n",
    "    return liston_cnn"
   ]
  },
  {
   "cell_type": "code",
   "execution_count": 8,
   "metadata": {
    "collapsed": true
   },
   "outputs": [],
   "source": [
    "def prepare_bi():\n",
    "    pq = PyQuery(\"http://www.businessinsider.com.au/category/10-things-before-opening-bell\")\n",
    "\n",
    "\n",
    "    #\n",
    "    base_url = 'http://www.businessinsider.com.au/'\n",
    "\n",
    "\n",
    "    urls = []\n",
    "\n",
    "\n",
    "    for item in pq('.post-description .post-title a').items():\n",
    "        href  = item.attr['href']\n",
    "        if base_url in href:\n",
    "            urls.append(href)\n",
    "        else:\n",
    "            urls.append(base_url+href)\n",
    "\n",
    "    talla=len(urls)\n",
    "\n",
    "    limite=min(talla,2)\n",
    "\n",
    "    liston_bi=list()\n",
    "\n",
    "\n",
    "\n",
    "    for elem in urls[0:limite]:\n",
    "        article=url_processor.process_url(elem)\n",
    "        liston_bi.append((article.title,elem))\n",
    "\n",
    "    return liston_bi"
   ]
  },
  {
   "cell_type": "code",
   "execution_count": 173,
   "metadata": {
    "collapsed": false
   },
   "outputs": [],
   "source": [
    "def prepare_financiero():\n",
    "    urls=[]\n",
    "    texto=[]\n",
    "    base_url = 'http://www.elfinanciero.com.mx'\n",
    "    pq = PyQuery('http://www.elfinanciero.com.mx/economia/')\n",
    "\n",
    "    for item in pq('.category-main-news .title a'):\n",
    "        #print item.text\n",
    "        href  = item.attrib['href']\n",
    "        if base_url in href:\n",
    "            urls.append(href)\n",
    "            texto.append(item.text)\n",
    "        else:\n",
    "            urls.append(base_url+href)\n",
    "            texto.append(item.text)\n",
    "    liston_financiero=list()\n",
    "    \n",
    "    for aux  in range(len(urls)):\n",
    "        liston_financiero.append((texto[aux],urls[aux]))\n",
    "    return  liston_financiero  \n",
    "        \n",
    "        \n",
    "        \n",
    "        \n",
    "        \n",
    "    \n"
   ]
  },
  {
   "cell_type": "code",
   "execution_count": 170,
   "metadata": {
    "collapsed": true
   },
   "outputs": [],
   "source": [
    "def prepare_universal():\n",
    "    urls=[]\n",
    "    urls=[]\n",
    "    texto=[]\n",
    "    base_url='http://www.eluniversal.com.mx'\n",
    "    pq = PyQuery('http://www.eluniversal.com.mx/cartera/economia/')\n",
    "    \n",
    "    #for item in pq(' .field-content a'):\n",
    "    for item in pq('.field-content a'):\n",
    "        href  = item.attrib['href']\n",
    "        if href is None:\n",
    "            continue\n",
    "        if item.text is None:\n",
    "            continue\n",
    "        if len(item.text)<10:\n",
    "            continue\n",
    "\n",
    "        if base_url in href:\n",
    "            urls.append(href)\n",
    "            texto.append(item.text)\n",
    "        else:\n",
    "            urls.append(base_url+href)\n",
    "            texto.append(item.text)\n",
    "            \n",
    "    liston_universal=list()\n",
    "    \n",
    "    for aux  in range(len(urls)):\n",
    "        liston_universal.append((texto[aux],urls[aux]))\n",
    "    return  liston_universal  \n",
    "        \n",
    "            \n",
    "    "
   ]
  },
  {
   "cell_type": "code",
   "execution_count": 9,
   "metadata": {
    "collapsed": true
   },
   "outputs": [],
   "source": [
    "def prepare_big_csv(big_liston):\n",
    "    path='enter your vipin path'\n",
    "    today=datetime.datetime.now().date()\n",
    "    df_out=pd.DataFrame(columns=['text','url'])\n",
    "    contador=0\n",
    "    for agency in big_liston:\n",
    "        for news in agency:\n",
    "            df_out.loc[contador]=news\n",
    "            contador=contador+1\n",
    "            \n",
    "    df_out.to_csv(path+\"\\\\\"+\"TOP_NEWS_\"+today.strftime('%m%d%Y')+\".csv\",encoding='utf-8')\n",
    "    print \"news done\"\n",
    "           \n",
    "            \n",
    "            \n",
    "        "
   ]
  },
  {
   "cell_type": "code",
   "execution_count": 160,
   "metadata": {
    "collapsed": true
   },
   "outputs": [],
   "source": [
    "def prepare_big_html(big_liston,color):\n",
    "    total = \"<html><body><table border=5 BORDERCOLOR=BLUE><CAPTION><b><u>  NAFTA INSIGHT  </u></b></CAPTION>\";\n",
    "    total = total + \"<tr><td><b>\" + \"TITLE\" + \"</b><td width='230' align=center><b>\"  + \"URL\" + \"</b></tr>\";\n",
    "    tempo=prepare_html(big_liston[0],color[0])\n",
    "    if  len(tempo)>0:\n",
    "        for elem in tempo:\n",
    "            total=total+elem\n",
    "    tempo=prepare_html(big_liston[1],color[1])\n",
    "    if  len(tempo)>0:\n",
    "        for elem in tempo:\n",
    "            total=total+elem\n",
    "    tempo=prepare_html(big_liston[2],color[2])\n",
    "    if  len(tempo)>0:\n",
    "        for elem in tempo:\n",
    "            total=total+elem\n",
    "\n",
    "    tempo=prepare_html(big_liston[3],color[3])\n",
    "    if  len(tempo)>0:\n",
    "        for elem in tempo:\n",
    "            total=total+elem\n",
    "            \n",
    "            \n",
    "    tempo=prepare_html(big_liston[4],color[4])\n",
    "    if  len(tempo)>0:\n",
    "        for elem in tempo:\n",
    "            total=total+elem\n",
    "            \n",
    "    tempo=prepare_html(big_liston[5],color[5])\n",
    "    if  len(tempo)>0:\n",
    "        for elem in tempo:\n",
    "            total=total+elem\n",
    "\n",
    "\n",
    "\n",
    "    total = total + \"</table></body></html>\";\n",
    "\n",
    "    return total\n",
    "        "
   ]
  },
  {
   "cell_type": "code",
   "execution_count": 46,
   "metadata": {
    "collapsed": false
   },
   "outputs": [],
   "source": [
    "def send_email_new(users,total):\n",
    "\ttoday=datetime.datetime.now()\n",
    "\ttext=\"REAL TEST SAMARITAN \"+today.strftime('%m/%d/%Y %H:%M')\n",
    "\t#s = smtplib.SMTP(\"smtp.jose.corp\")\n",
    "\ts = smtplib.SMTP(\"smtp.gmail.com\",587)\n",
    "\t\n",
    "\tme = 'naftainsight1345@gmail.com'\n",
    "\tpwd='emerson1954'\n",
    "\ts.ehlo()\n",
    "\ts.starttls()\n",
    "\ts.login(me, pwd)\n",
    "    \n",
    "\tyou =users\n",
    "\tmsg = MIMEMultipart('alternative')\n",
    "\tmsg['Subject'] =text\n",
    "\tmsg['From'] = me\n",
    "\t#msg['To'] =you\n",
    "\tmsg['Bcc'] =you\n",
    "\t\n",
    "\t#html=total\n",
    "\tpart1 = MIMEText(text, 'plain')\n",
    "\tpart2 = MIMEText(total, 'html','utf-8')\n",
    "\n",
    "\t# Attach parts into message container.\n",
    "\t# According to RFC 2046, the last part of a multipart message, in this case\n",
    "\t# the HTML message, is best and preferred.\n",
    "\tmsg.attach(part1)\n",
    "\tmsg.attach(part2)\n",
    "\ts.sendmail(me, you.split(\";\"), msg.as_string().encode('ascii'))\n",
    "\ts.quit()\n",
    "    print('email sent.')\n"
   ]
  },
  {
   "cell_type": "code",
   "execution_count": 176,
   "metadata": {
    "collapsed": false
   },
   "outputs": [],
   "source": [
    "#brain\n",
    "liston_bi=prepare_bi()\n",
    "liston_wsj=prepare_wsj()\n",
    "liston_bb=prepare_bb()\n",
    "liston_cnn=prepare_cnn()\n",
    "liston_financiero=prepare_financiero()\n",
    "liston_universal=prepare_universal()\n",
    "\n",
    "big_liston=[liston_universal,liston_financiero,liston_bi,liston_cnn,liston_bb,liston_wsj]\n",
    "color=['#809ff7','#f780e3','#ff9900','#00FF00','#00FFFF','#F3F781']\n",
    "\n",
    "total=prepare_big_html(big_liston,color)\n",
    "\n",
    "\n",
    "\n",
    "#users=\"jose.pereza@me.com;vipin.anand.cpp@gmail.com;\"\n",
    "users='jose.pereza@me.com;vipin.anand.cpp@gmail.com;japerez20@gmail.com;juanmanuelhec@gmail.com;salumgreco@hotmail.com'\n",
    "#users=\"jperez@joseatm.com;KAzmoon@joseatm.com\"\n",
    "send_email_new(users,total)\n",
    "#prepare_big_csv(big_liston)"
   ]
  },
  {
   "cell_type": "code",
   "execution_count": null,
   "metadata": {
    "collapsed": true
   },
   "outputs": [],
   "source": []
  },
  {
   "cell_type": "code",
   "execution_count": 22,
   "metadata": {
    "collapsed": true
   },
   "outputs": [],
   "source": [
    "pq = PyQuery(\"http://money.cnn.com/news/economy/\")\n",
    "\n",
    "\n",
    "#\n",
    "base_url = 'http://money.cnn.com/'\n",
    "\n",
    "\n",
    "urls = []\n",
    "\n",
    "\n",
    "for item in pq('article  a').items():\n",
    "    href  = item.attr['href']\n",
    "    if base_url in href:\n",
    "        urls.append(href)\n",
    "    else:\n",
    "        urls.append(base_url+href)\n",
    "\n",
    "talla=len(urls)\n",
    "\n",
    "limite=min(talla,5)\n",
    "\n",
    "liston_cnn=list()\n",
    "\n",
    "\n",
    "\n",
    "for elem in urls[0:limite]:\n",
    "    article=url_processor.process_url(elem)\n",
    "    liston_cnn.append((article.title,elem))\n",
    "\n",
    "    "
   ]
  },
  {
   "cell_type": "code",
   "execution_count": null,
   "metadata": {
    "collapsed": true
   },
   "outputs": [],
   "source": []
  },
  {
   "cell_type": "code",
   "execution_count": 48,
   "metadata": {
    "collapsed": true
   },
   "outputs": [],
   "source": [
    "pq = PyQuery('http://www.wsj.com/news/heard-on-the-street')\n",
    "\n",
    "base_url = 'http://www.wsj.com/'\n",
    "\n",
    "blog_url='http://blogs.wsj.com/'\n",
    "\n",
    "urls = []\n",
    "\n",
    "\n",
    "for item in pq('.headline-container .headline a').items():\n",
    "    href  = item.attr['href']\n",
    "    if base_url in href:\n",
    "        urls.append(href)\n",
    "    else:\n",
    "        if blog_url not in href:\n",
    "            urls.append(base_url+href)\n",
    "        else:\n",
    "            urls.append(href)\n",
    "\n",
    "#url_processor = URLProcessor()\n",
    "\n",
    "liston_wsj=list()\n",
    "\n",
    "for elem in urls:\n",
    "    article=url_processor.process_url(elem)\n",
    "    liston_wsj.append((article.title,elem))"
   ]
  },
  {
   "cell_type": "code",
   "execution_count": 56,
   "metadata": {
    "collapsed": false,
    "scrolled": true
   },
   "outputs": [
    {
     "data": {
      "text/plain": [
       "u'alzheimer\\u2019s,alzheimer\\u2019s disease treatment,biotech,drugmakers,drugs,eli lilly,juno therapeutics,pharmaceuticals,solanezumab,Juno Therapeutics,JUNO,Eli Lilly,LLY,Amgen,AMGN,Regeneron Pharmaceuticals,REGN,regulation,government policy,research,development,corporate,industrial news,new product,service testing,commodity,financial market news,biotechnology,medical equipment,supplies,health care,life sciences,biopharmaceuticals,medical,surgical instruments,apparatus,devices,therapeutic devices,equipment'"
      ]
     },
     "execution_count": 56,
     "metadata": {},
     "output_type": "execute_result"
    }
   ],
   "source": [
    "article.meta_keywords"
   ]
  },
  {
   "cell_type": "code",
   "execution_count": 54,
   "metadata": {
    "collapsed": false
   },
   "outputs": [
    {
     "data": {
      "text/plain": [
       "u'Eli Lilly\\u2019s Alzheimer\\u2019s drug trial failure spotlights the industry\\u2019s main problem.'"
      ]
     },
     "execution_count": 54,
     "metadata": {},
     "output_type": "execute_result"
    }
   ],
   "source": [
    "article.meta_description"
   ]
  },
  {
   "cell_type": "code",
   "execution_count": 28,
   "metadata": {
    "collapsed": false
   },
   "outputs": [
    {
     "data": {
      "text/plain": [
       "\"Brothers Mike and Stan Zappa invested $5,000 on a small stockpile of 100 Hatchimals. They've sold 30 on eBay and already recouped their investment on this year's hottest toy.\""
      ]
     },
     "execution_count": 28,
     "metadata": {},
     "output_type": "execute_result"
    }
   ],
   "source": [
    "article.meta_description"
   ]
  },
  {
   "cell_type": "code",
   "execution_count": 29,
   "metadata": {
    "collapsed": false
   },
   "outputs": [
    {
     "data": {
      "text/plain": [
       "'Hatchimals, toys, Christmas, Hot toys, tech, innovation, Spin Master, Black Friday, Parija Kavilanz, CNNMoney, CNNMoney.com'"
      ]
     },
     "execution_count": 29,
     "metadata": {},
     "output_type": "execute_result"
    }
   ],
   "source": [
    "article.meta_keywords"
   ]
  },
  {
   "cell_type": "raw",
   "metadata": {},
   "source": []
  },
  {
   "cell_type": "code",
   "execution_count": 35,
   "metadata": {
    "collapsed": false
   },
   "outputs": [
    {
     "data": {
      "text/plain": [
       "u''"
      ]
     },
     "execution_count": 35,
     "metadata": {},
     "output_type": "execute_result"
    }
   ],
   "source": [
    "article.cleaned_text"
   ]
  },
  {
   "cell_type": "code",
   "execution_count": 38,
   "metadata": {
    "collapsed": false
   },
   "outputs": [
    {
     "data": {
      "text/plain": [
       "<Element body at 0x114e3a470>"
      ]
     },
     "execution_count": 38,
     "metadata": {},
     "output_type": "execute_result"
    }
   ],
   "source": [
    "article.raw_doc.body."
   ]
  },
  {
   "cell_type": "code",
   "execution_count": 40,
   "metadata": {
    "collapsed": false
   },
   "outputs": [
    {
     "data": {
      "text/plain": [
       "(221, '2.0.0 closing connection 16sm24030283qtn.33 - gsmtp')"
      ]
     },
     "execution_count": 40,
     "metadata": {},
     "output_type": "execute_result"
    }
   ],
   "source": [
    "today=datetime.datetime.now()\n",
    "text=\"TOP NEWS PREMARKET AT \"+today.strftime('%m/%d/%Y %H:%M')\n",
    "#s = smtplib.SMTP(\"smtp.jose.corp\")\n",
    "s = smtplib.SMTP(\"smtp.gmail.com\",587)\n",
    "\n",
    "me = 'naftainsight1345@gmail.com'\n",
    "pwd='emerson1954'\n",
    "s.ehlo()\n",
    "s.starttls()\n",
    "s.login(me, pwd)\n",
    "users='jose.pereza@me.com;vipin.anand.cpp@gmail.com;japerez20@gmail.com;juanmanuelhec@gmail.com'\n",
    "you =users\n",
    "msg = MIMEMultipart('alternative')\n",
    "msg['Subject'] =text\n",
    "msg['From'] = me\n",
    "#msg['To'] =you\n",
    "msg['Bcc'] =you\n",
    "text=\"Real Test  Samaritan\"\n",
    "#html=total\n",
    "part1 = MIMEText(text, 'plain')\n",
    "part2 = MIMEText(total, 'html','utf-8')\n",
    "\n",
    "# Attach parts into message container.\n",
    "# According to RFC 2046, the last part of a multipart message, in this case\n",
    "# the HTML message, is best and preferred.\n",
    "msg.attach(part1)\n",
    "msg.attach(part2)\n",
    "s.sendmail(me, you.split(\";\"), msg.as_string().encode('ascii'))\n",
    "s.quit()"
   ]
  },
  {
   "cell_type": "code",
   "execution_count": null,
   "metadata": {
    "collapsed": true
   },
   "outputs": [],
   "source": [
    "pq = PyQuery('http://www.wsj.com/news/heard-on-the-street')\n",
    "\n",
    "base_url = 'http://www.wsj.com/'\n",
    "\n",
    "blog_url='http://blogs.wsj.com/'\n",
    "\n",
    "urls = []\n",
    "\n",
    "\n",
    "for item in pq('.headline-container .headline a').items():\n",
    "    href  = item.attr['href']\n",
    "    if base_url in href:\n",
    "        urls.append(href)\n",
    "    else:\n",
    "        if blog_url not in href:\n",
    "            urls.append(base_url+href)\n",
    "        else:\n",
    "            urls.append(href)\n",
    "\n",
    "#url_processor = URLProcessor()\n",
    "\n",
    "liston_wsj=list()\n",
    "\n",
    "for elem in urls:\n",
    "    article=url_processor.process_url(elem)\n",
    "    liston_wsj.append((article.title,elem))"
   ]
  },
  {
   "cell_type": "code",
   "execution_count": null,
   "metadata": {
    "collapsed": true
   },
   "outputs": [],
   "source": [
    "pq = PyQuery('http://www.wsj.com/news/heard-on-the-street')\n"
   ]
  },
  {
   "cell_type": "code",
   "execution_count": 57,
   "metadata": {
    "collapsed": true
   },
   "outputs": [],
   "source": [
    "pq = PyQuery('http://www.elfinanciero.com.mx/economia')\n"
   ]
  },
  {
   "cell_type": "code",
   "execution_count": 64,
   "metadata": {
    "collapsed": false
   },
   "outputs": [
    {
     "data": {
      "text/plain": [
       "[<div.title>, <div.title>, <div.title>, <h2.title>]"
      ]
     },
     "execution_count": 64,
     "metadata": {},
     "output_type": "execute_result"
    }
   ],
   "source": [
    "pq('.title')"
   ]
  },
  {
   "cell_type": "code",
   "execution_count": 90,
   "metadata": {
    "collapsed": false
   },
   "outputs": [],
   "source": [
    "urls=[]\n",
    "for item in pq('.article-title .title a'):\n",
    "    href  = item.attr['href']\n",
    "    #urls.append(href)\n",
    "    print href\n",
    "    "
   ]
  },
  {
   "cell_type": "code",
   "execution_count": 95,
   "metadata": {
    "collapsed": false
   },
   "outputs": [],
   "source": [
    "urls=[]\n",
    "for item in pq('.article-title .title a'):\n",
    "    #href  = item.attr['href']\n",
    "    #urls.append(href)\n",
    "    print item.attrib['href']"
   ]
  },
  {
   "cell_type": "code",
   "execution_count": 107,
   "metadata": {
    "collapsed": false
   },
   "outputs": [
    {
     "name": "stdout",
     "output_type": "stream",
     "text": [
      "Se mantienen precios de gasolina y diésel en diciembre: Hacienda\n",
      "Entrada de inversión de cartera extranjera cae a su menor nivel desde 2009\n",
      "Controversia por propuesta sobre salario\n"
     ]
    }
   ],
   "source": [
    "urls=[]\n",
    "texto=[]\n",
    "base_url = 'http://www.elfinanciero.com.mx/economia'\n",
    "\n",
    "for item in pq('.category-main-news .title a'):\n",
    "    print item.text\n",
    "    href  = item.attrib['href']\n",
    "    if base_url in href:\n",
    "        urls.append(href)\n",
    "        texto.append(item.text)\n",
    "    else:\n",
    "        urls.append(base_url+href)\n",
    "        texto.append(texto)\n",
    "    #print href\n",
    "    #urls.append(href)\n",
    "    "
   ]
  },
  {
   "cell_type": "code",
   "execution_count": 103,
   "metadata": {
    "collapsed": false
   },
   "outputs": [
    {
     "data": {
      "text/plain": [
       "['http://www.elfinanciero.com.mx/economia/economia/se-mantienen-precios-de-gasolina-y-diesel-en-diciembre.html',\n",
       " 'http://www.elfinanciero.com.mx/economia/economia/cae-entrada-de-inversion-de-cartera-extranjera-a-su-menor-nivel-desde-2009.html',\n",
       " 'http://www.elfinanciero.com.mx/economia/economia/aumento-al-salario-sin-consenso-provocaria-conflictividad-laboral-stps.html']"
      ]
     },
     "execution_count": 103,
     "metadata": {},
     "output_type": "execute_result"
    }
   ],
   "source": [
    "urls"
   ]
  },
  {
   "cell_type": "code",
   "execution_count": 105,
   "metadata": {
    "collapsed": false
   },
   "outputs": [
    {
     "name": "stderr",
     "output_type": "stream",
     "text": [
      "Traceback (most recent call last):\n",
      "  File \"<ipython-input-3-37df37411729>\", line 11, in run_extraction\n",
      "    extracted = URLProcessor.g.extract(url = url)\n",
      "  File \"/opt/anaconda/lib/python2.7/site-packages/goose_extractor-1.0.25-py2.7.egg/goose/__init__.py\", line 56, in extract\n",
      "    return self.crawl(cc)\n",
      "  File \"/opt/anaconda/lib/python2.7/site-packages/goose_extractor-1.0.25-py2.7.egg/goose/__init__.py\", line 66, in crawl\n",
      "    article = crawler.crawl(crawl_candiate)\n",
      "  File \"/opt/anaconda/lib/python2.7/site-packages/goose_extractor-1.0.25-py2.7.egg/goose/crawler.py\", line 123, in crawl\n",
      "    doc = self.get_document(raw_html)\n",
      "  File \"/opt/anaconda/lib/python2.7/site-packages/goose_extractor-1.0.25-py2.7.egg/goose/crawler.py\", line 259, in get_document\n",
      "    doc = self.parser.fromstring(raw_html)\n",
      "  File \"/opt/anaconda/lib/python2.7/site-packages/goose_extractor-1.0.25-py2.7.egg/goose/parsers.py\", line 54, in fromstring\n",
      "    self.doc = lxml.html.fromstring(html)\n",
      "  File \"/opt/anaconda/lib/python2.7/site-packages/lxml/html/__init__.py\", line 726, in fromstring\n",
      "    doc = document_fromstring(html, parser=parser, base_url=base_url, **kw)\n",
      "  File \"/opt/anaconda/lib/python2.7/site-packages/lxml/html/__init__.py\", line 614, in document_fromstring\n",
      "    value = etree.fromstring(html, parser, **kw)\n",
      "  File \"lxml.etree.pyx\", line 3103, in lxml.etree.fromstring (src/lxml/lxml.etree.c:70569)\n",
      "  File \"parser.pxi\", line 1828, in lxml.etree._parseMemoryDocument (src/lxml/lxml.etree.c:106403)\n",
      "  File \"parser.pxi\", line 1709, in lxml.etree._parseDoc (src/lxml/lxml.etree.c:105106)\n",
      "  File \"parser.pxi\", line 1047, in lxml.etree._BaseParser._parseUnicodeDoc (src/lxml/lxml.etree.c:99534)\n",
      "  File \"parser.pxi\", line 580, in lxml.etree._ParserContext._handleParseResultDoc (src/lxml/lxml.etree.c:94350)\n",
      "  File \"parser.pxi\", line 690, in lxml.etree._handleParseResult (src/lxml/lxml.etree.c:95786)\n",
      "  File \"parser.pxi\", line 629, in lxml.etree._raiseParseError (src/lxml/lxml.etree.c:95015)\n",
      "XMLSyntaxError: line 926: Element script embeds close tag\n",
      "\n",
      "\tNoneERROR:root:line 926: Element script embeds close tag\n",
      "Traceback (most recent call last):\n",
      "  File \"<ipython-input-3-37df37411729>\", line 11, in run_extraction\n",
      "    extracted = URLProcessor.g.extract(url = url)\n",
      "  File \"/opt/anaconda/lib/python2.7/site-packages/goose_extractor-1.0.25-py2.7.egg/goose/__init__.py\", line 56, in extract\n",
      "    return self.crawl(cc)\n",
      "  File \"/opt/anaconda/lib/python2.7/site-packages/goose_extractor-1.0.25-py2.7.egg/goose/__init__.py\", line 66, in crawl\n",
      "    article = crawler.crawl(crawl_candiate)\n",
      "  File \"/opt/anaconda/lib/python2.7/site-packages/goose_extractor-1.0.25-py2.7.egg/goose/crawler.py\", line 123, in crawl\n",
      "    doc = self.get_document(raw_html)\n",
      "  File \"/opt/anaconda/lib/python2.7/site-packages/goose_extractor-1.0.25-py2.7.egg/goose/crawler.py\", line 259, in get_document\n",
      "    doc = self.parser.fromstring(raw_html)\n",
      "  File \"/opt/anaconda/lib/python2.7/site-packages/goose_extractor-1.0.25-py2.7.egg/goose/parsers.py\", line 54, in fromstring\n",
      "    self.doc = lxml.html.fromstring(html)\n",
      "  File \"/opt/anaconda/lib/python2.7/site-packages/lxml/html/__init__.py\", line 726, in fromstring\n",
      "    doc = document_fromstring(html, parser=parser, base_url=base_url, **kw)\n",
      "  File \"/opt/anaconda/lib/python2.7/site-packages/lxml/html/__init__.py\", line 614, in document_fromstring\n",
      "    value = etree.fromstring(html, parser, **kw)\n",
      "  File \"lxml.etree.pyx\", line 3103, in lxml.etree.fromstring (src/lxml/lxml.etree.c:70569)\n",
      "  File \"parser.pxi\", line 1828, in lxml.etree._parseMemoryDocument (src/lxml/lxml.etree.c:106403)\n",
      "  File \"parser.pxi\", line 1709, in lxml.etree._parseDoc (src/lxml/lxml.etree.c:105106)\n",
      "  File \"parser.pxi\", line 1047, in lxml.etree._BaseParser._parseUnicodeDoc (src/lxml/lxml.etree.c:99534)\n",
      "  File \"parser.pxi\", line 580, in lxml.etree._ParserContext._handleParseResultDoc (src/lxml/lxml.etree.c:94350)\n",
      "  File \"parser.pxi\", line 690, in lxml.etree._handleParseResult (src/lxml/lxml.etree.c:95786)\n",
      "  File \"parser.pxi\", line 629, in lxml.etree._raiseParseError (src/lxml/lxml.etree.c:95015)\n",
      "XMLSyntaxError: line 926: Element script embeds close tag\n"
     ]
    }
   ],
   "source": [
    "article=url_processor.process_url(urls[1])"
   ]
  },
  {
   "cell_type": "code",
   "execution_count": 99,
   "metadata": {
    "collapsed": false
   },
   "outputs": [
    {
     "name": "stderr",
     "output_type": "stream",
     "text": [
      "Traceback (most recent call last):\n",
      "  File \"<ipython-input-3-37df37411729>\", line 11, in run_extraction\n",
      "    extracted = URLProcessor.g.extract(url = url)\n",
      "  File \"/opt/anaconda/lib/python2.7/site-packages/goose_extractor-1.0.25-py2.7.egg/goose/__init__.py\", line 56, in extract\n",
      "    return self.crawl(cc)\n",
      "  File \"/opt/anaconda/lib/python2.7/site-packages/goose_extractor-1.0.25-py2.7.egg/goose/__init__.py\", line 66, in crawl\n",
      "    article = crawler.crawl(crawl_candiate)\n",
      "  File \"/opt/anaconda/lib/python2.7/site-packages/goose_extractor-1.0.25-py2.7.egg/goose/crawler.py\", line 123, in crawl\n",
      "    doc = self.get_document(raw_html)\n",
      "  File \"/opt/anaconda/lib/python2.7/site-packages/goose_extractor-1.0.25-py2.7.egg/goose/crawler.py\", line 259, in get_document\n",
      "    doc = self.parser.fromstring(raw_html)\n",
      "  File \"/opt/anaconda/lib/python2.7/site-packages/goose_extractor-1.0.25-py2.7.egg/goose/parsers.py\", line 54, in fromstring\n",
      "    self.doc = lxml.html.fromstring(html)\n",
      "  File \"/opt/anaconda/lib/python2.7/site-packages/lxml/html/__init__.py\", line 726, in fromstring\n",
      "    doc = document_fromstring(html, parser=parser, base_url=base_url, **kw)\n",
      "  File \"/opt/anaconda/lib/python2.7/site-packages/lxml/html/__init__.py\", line 614, in document_fromstring\n",
      "    value = etree.fromstring(html, parser, **kw)\n",
      "  File \"lxml.etree.pyx\", line 3103, in lxml.etree.fromstring (src/lxml/lxml.etree.c:70569)\n",
      "  File \"parser.pxi\", line 1828, in lxml.etree._parseMemoryDocument (src/lxml/lxml.etree.c:106403)\n",
      "  File \"parser.pxi\", line 1709, in lxml.etree._parseDoc (src/lxml/lxml.etree.c:105106)\n",
      "  File \"parser.pxi\", line 1047, in lxml.etree._BaseParser._parseUnicodeDoc (src/lxml/lxml.etree.c:99534)\n",
      "  File \"parser.pxi\", line 580, in lxml.etree._ParserContext._handleParseResultDoc (src/lxml/lxml.etree.c:94350)\n",
      "  File \"parser.pxi\", line 690, in lxml.etree._handleParseResult (src/lxml/lxml.etree.c:95786)\n",
      "  File \"parser.pxi\", line 629, in lxml.etree._raiseParseError (src/lxml/lxml.etree.c:95015)\n",
      "XMLSyntaxError: line 926: Element script embeds close tag\n",
      "\n",
      "\tNoneERROR:root:line 926: Element script embeds close tag\n",
      "Traceback (most recent call last):\n",
      "  File \"<ipython-input-3-37df37411729>\", line 11, in run_extraction\n",
      "    extracted = URLProcessor.g.extract(url = url)\n",
      "  File \"/opt/anaconda/lib/python2.7/site-packages/goose_extractor-1.0.25-py2.7.egg/goose/__init__.py\", line 56, in extract\n",
      "    return self.crawl(cc)\n",
      "  File \"/opt/anaconda/lib/python2.7/site-packages/goose_extractor-1.0.25-py2.7.egg/goose/__init__.py\", line 66, in crawl\n",
      "    article = crawler.crawl(crawl_candiate)\n",
      "  File \"/opt/anaconda/lib/python2.7/site-packages/goose_extractor-1.0.25-py2.7.egg/goose/crawler.py\", line 123, in crawl\n",
      "    doc = self.get_document(raw_html)\n",
      "  File \"/opt/anaconda/lib/python2.7/site-packages/goose_extractor-1.0.25-py2.7.egg/goose/crawler.py\", line 259, in get_document\n",
      "    doc = self.parser.fromstring(raw_html)\n",
      "  File \"/opt/anaconda/lib/python2.7/site-packages/goose_extractor-1.0.25-py2.7.egg/goose/parsers.py\", line 54, in fromstring\n",
      "    self.doc = lxml.html.fromstring(html)\n",
      "  File \"/opt/anaconda/lib/python2.7/site-packages/lxml/html/__init__.py\", line 726, in fromstring\n",
      "    doc = document_fromstring(html, parser=parser, base_url=base_url, **kw)\n",
      "  File \"/opt/anaconda/lib/python2.7/site-packages/lxml/html/__init__.py\", line 614, in document_fromstring\n",
      "    value = etree.fromstring(html, parser, **kw)\n",
      "  File \"lxml.etree.pyx\", line 3103, in lxml.etree.fromstring (src/lxml/lxml.etree.c:70569)\n",
      "  File \"parser.pxi\", line 1828, in lxml.etree._parseMemoryDocument (src/lxml/lxml.etree.c:106403)\n",
      "  File \"parser.pxi\", line 1709, in lxml.etree._parseDoc (src/lxml/lxml.etree.c:105106)\n",
      "  File \"parser.pxi\", line 1047, in lxml.etree._BaseParser._parseUnicodeDoc (src/lxml/lxml.etree.c:99534)\n",
      "  File \"parser.pxi\", line 580, in lxml.etree._ParserContext._handleParseResultDoc (src/lxml/lxml.etree.c:94350)\n",
      "  File \"parser.pxi\", line 690, in lxml.etree._handleParseResult (src/lxml/lxml.etree.c:95786)\n",
      "  File \"parser.pxi\", line 629, in lxml.etree._raiseParseError (src/lxml/lxml.etree.c:95015)\n",
      "XMLSyntaxError: line 926: Element script embeds close tag\n"
     ]
    },
    {
     "ename": "AttributeError",
     "evalue": "'NoneType' object has no attribute 'title'",
     "output_type": "error",
     "traceback": [
      "\u001b[0;31m---------------------------------------------------------------------------\u001b[0m",
      "\u001b[0;31mAttributeError\u001b[0m                            Traceback (most recent call last)",
      "\u001b[0;32m<ipython-input-99-482792b12eb9>\u001b[0m in \u001b[0;36m<module>\u001b[0;34m()\u001b[0m\n\u001b[1;32m      3\u001b[0m \u001b[0;32mfor\u001b[0m \u001b[0melem\u001b[0m \u001b[0;32min\u001b[0m \u001b[0murls\u001b[0m\u001b[0;34m[\u001b[0m\u001b[0;36m0\u001b[0m\u001b[0;34m:\u001b[0m\u001b[0mlimite\u001b[0m\u001b[0;34m]\u001b[0m\u001b[0;34m:\u001b[0m\u001b[0;34m\u001b[0m\u001b[0m\n\u001b[1;32m      4\u001b[0m     \u001b[0marticle\u001b[0m\u001b[0;34m=\u001b[0m\u001b[0murl_processor\u001b[0m\u001b[0;34m.\u001b[0m\u001b[0mprocess_url\u001b[0m\u001b[0;34m(\u001b[0m\u001b[0melem\u001b[0m\u001b[0;34m)\u001b[0m\u001b[0;34m\u001b[0m\u001b[0m\n\u001b[0;32m----> 5\u001b[0;31m     \u001b[0mliston_fn\u001b[0m\u001b[0;34m.\u001b[0m\u001b[0mappend\u001b[0m\u001b[0;34m(\u001b[0m\u001b[0;34m(\u001b[0m\u001b[0marticle\u001b[0m\u001b[0;34m.\u001b[0m\u001b[0mtitle\u001b[0m\u001b[0;34m,\u001b[0m\u001b[0melem\u001b[0m\u001b[0;34m)\u001b[0m\u001b[0;34m)\u001b[0m\u001b[0;34m\u001b[0m\u001b[0m\n\u001b[0m",
      "\u001b[0;31mAttributeError\u001b[0m: 'NoneType' object has no attribute 'title'"
     ]
    }
   ],
   "source": [
    "liston_fn=list()\n",
    "\n",
    "for elem in urls:\n",
    "    article=url_processor.process_url(elem)\n",
    "    liston_fn.append((article.title,elem))"
   ]
  },
  {
   "cell_type": "code",
   "execution_count": 101,
   "metadata": {
    "collapsed": false
   },
   "outputs": [
    {
     "data": {
      "text/plain": [
       "5"
      ]
     },
     "execution_count": 101,
     "metadata": {},
     "output_type": "execute_result"
    }
   ],
   "source": [
    "limite"
   ]
  },
  {
   "cell_type": "code",
   "execution_count": null,
   "metadata": {
    "collapsed": true
   },
   "outputs": [],
   "source": []
  },
  {
   "cell_type": "code",
   "execution_count": 98,
   "metadata": {
    "collapsed": false
   },
   "outputs": [
    {
     "data": {
      "text/plain": [
       "['http://www.elfinanciero.com.mx/economia/economia/se-mantienen-precios-de-gasolina-y-diesel-en-diciembre.html',\n",
       " 'http://www.elfinanciero.com.mx/economia/economia/cae-entrada-de-inversion-de-cartera-extranjera-a-su-menor-nivel-desde-2009.html',\n",
       " 'http://www.elfinanciero.com.mx/economia/economia/aumento-al-salario-sin-consenso-provocaria-conflictividad-laboral-stps.html']"
      ]
     },
     "execution_count": 98,
     "metadata": {},
     "output_type": "execute_result"
    }
   ],
   "source": [
    "urls"
   ]
  },
  {
   "cell_type": "code",
   "execution_count": 59,
   "metadata": {
    "collapsed": false,
    "scrolled": false
   },
   "outputs": [
    {
     "data": {
      "text/plain": [
       "u'\\n    <head>\\n        <meta http-equiv=\"Content-Type\" content=\"text/html; charset=utf-8\"/>\\n                                \\n\\n            <meta http-equiv=\"Refresh\" content=\"660\"/>\\n        <!-- Instant Articles Facebook - @cesarsotoalvarez 18.may.2016 -->\\n        <meta property=\"fb:pages\" content=\"16250043914\"/>\\n        \\n            \\n    <meta name=\"description\" content=\"Lo m\\xe1s actual del sector econ\\xf3mico de M\\xe9xico, Latinoam\\xe9rcia, Estados Unidos y Europa.\"/>\\n<meta name=\"keywords\" content=\"Econom\\xeda, sector econ\\xf3mico, pol\\xedtica monetaria, banco central, noticias econ\\xf3micas\"/>\\n<meta name=\"refresh\" content=\"1200\"/>\\n<meta name=\"robot\" content=\"index,follow\"/>\\n\\n\\n                <title>    \\n                    \\n            El Financiero\\n    </title>\\n                \\n        <link href=\"/css/screen.css?1\" rel=\"stylesheet\" type=\"text/css\" media=\"screen\"/>\\n\\n\\n        <link href=\"/javascripts/lib/jquery/selectbox/jquery.selectbox.css\" rel=\"stylesheet\" type=\"text/css\" media=\"screen\"/>\\n\\n        <link href=\"/javascripts/lib/jquery/mcustom-scrollbar/jquery.mCustomScrollbar.css\" rel=\"stylesheet\" type=\"text/css\" media=\"screen\"/>\\n\\n                <script type=\"text/javascript\" src=\"/javascripts/respond.min.js\"/> \\n        \\n    <script type=\"text/javascript\">\\n        var serverTimezoneOffset = -21600;\\n    </script>\\n    <!-- CDSC-28, #21, @vlopez, @cesarsoto 23.may.2016 -->\\n    <script type=\"text/javascript\" src=\"/javascripts/technical.min.js\"/>\\n    \\n\\n                <script type=\"text/javascript\" src=\"//cdnjs.cloudflare.com/ajax/libs/jquery/1.8.3/jquery.min.js\"/> \\n\\n            <script type=\"text/javascript\" src=\"//cdnjs.cloudflare.com/ajax/libs/underscore.js/1.3.3/underscore-min.js\"/> \\n\\n    \\n        <script type=\"text/javascript\" src=\"/javascripts/public.js\"/> \\n\\n        <script type=\"text/javascript\" src=\"/javascripts/ads.js\"/> \\n\\n        <script type=\"text/javascript\" src=\"/javascripts/lib/jquery/selectbox/jquery.selectbox-0.2.js\"/> \\n\\n        <script type=\"text/javascript\" src=\"/javascripts/lib/jquery/mcustom-scrollbar/jquery.mCustomScrollbar.min.js\"/> \\n\\n        <script type=\"text/javascript\" src=\"/javascripts/lib/util/respond.js\"/> \\n\\n\\n    <!--[if IE]>    <script type=\"text/javascript\" src=\"/javascripts/excanvas.compiled.js\"></script> \\n<![endif]-->\\n        <script type=\"text/javascript\" src=\"/javascripts/lib/jit/treemap-min.js\"/> \\n\\n        <script type=\"text/javascript\" src=\"/javascripts/treemap.js\"/> \\n\\n        <script type=\"text/javascript\" src=\"/javascripts/listingTime.js\"/> \\n\\n        <script type=\"text/javascript\" src=\"/javascripts/video.js\"/> \\n\\n\\n        <script type=\"text/javascript\" src=\"/javascripts/jquery.bxslider.min.js\"/> \\n\\n        <script type=\"text/javascript\" src=\"/javascripts/modal_slider.js\"/> \\n\\n            <script type=\"text/javascript\" src=\"/static/headerjs/category/economia\"/> \\n\\n            <link rel=\"shortcut icon\" href=\"/favicon.ico\"/>\\n                    </head>\\n    <body class=\"section-economia section-page\">\\n        <div class=\"skin-ad-wrapper\">\\n  \\n</div>\\n<div class=\"container\">\\n            \\n        <div class=\"right_main_column\">\\n            <!--Start fixed header-->\\n\\n<div class=\"header minimum\">\\n\\t<div class=\"upper_header fixed\">\\n\\t\\t\\t    \\t<a href=\"/\" class=\"logo\" title=\"EL FINANCIERO\"/>\\n\\t\\t\\n        <div class=\"header-date\">26 de noviembre de 2016</div>\\n\\n\\t\\t<a href=\"#\" class=\"bloomberg-logo\" title=\"Visit Bloomberg\">\\n\\t\\t\\t<img src=\"/images/logos/bloomberg.png\" alt=\"Bloomberg\" title=\"Bloomberg\"/>\\n\\t\\t</a>\\n\\t</div>\\n\\n\\t<div class=\"lower_header\">\\n        <div class=\"main-nav\">\\n        \\t    <ul>\\n  <li class=\"homepage first\">\\n    <a href=\"/\">Home</a>\\n  </li>\\n  <li class=\"economia current expandable\">\\n    <a href=\"/economia\">Econom\\xeda</a>\\n    <ul class=\"menu_level_1\">\\n      <li class=\"link external first\">\\n        <a href=\"http://graficos.elfinanciero.com.mx/2014/glosario-financiero/\" target=\"_blank\">Glosario financiero</a>\\n      </li>\\n      <li class=\"link last\">\\n        <a href=\"http://www.elfinanciero.com.mx/pages/prosuma-calculadora-de-fondos.html\">Calculadora de Fondos</a>\\n      </li>\\n    </ul>\\n  </li>\\n  <li class=\"empresas expandable\">\\n    <a href=\"/empresas\">Empresas</a>\\n    <ul class=\"menu_level_1\">\\n      <li class=\"franquicias first\">\\n        <a href=\"/franquicias\">Franquicias</a>\\n      </li>\\n      <li class=\"link last\">\\n        <a href=\"http://www.elfinanciero.com.mx/empresas/guia\">Gu\\xeda empresas</a>\\n      </li>\\n    </ul>\\n  </li>\\n  <li class=\"nacional\">\\n    <a href=\"/nacional\">Nacional</a>\\n  </li>\\n  <li class=\"tech\">\\n    <a href=\"/tech\">Tech</a>\\n  </li>\\n  <li class=\"mundo\">\\n    <a href=\"/mundo\">Mundo</a>\\n  </li>\\n  <li class=\"link expandable\">\\n    <a href=\"http://www.elfinanciero.com.mx/after-office-grid\">After Office</a>\\n    <ul class=\"menu_level_1\">\\n      <li class=\"link external first\">\\n        <a href=\"http://www.autos-ef.com/\" target=\"_blank\">Autos</a>\\n      </li>\\n      <li class=\"link external last\">\\n        <a href=\"http://sibarita-ef.com/\" target=\"_blank\">Sibarita</a>\\n      </li>\\n    </ul>\\n  </li>\\n  <li class=\"mis-finanzas\">\\n    <a href=\"/mis-finanzas\">Mis Finanzas</a>\\n  </li>\\n  <li class=\"link\">\\n    <a href=\"http://www.elfinanciero.com.mx/pages/opinion.html\">Opini\\xf3n</a>\\n  </li>\\n  <li class=\"ef-menu-light link external\">\\n    <a href=\"http://suscripciones.elfinanciero.com.mx\" target=\"_blank\">Suscr\\xedbete</a>\\n  </li>\\n  <li class=\"link external expandable last\">\\n    <a href=\"#\" target=\"_blank\">M\\xe1s</a>\\n    <ul class=\"menu_level_1\">\\n      <li class=\"video first\">\\n        <a href=\"/video\">Videos</a>\\n      </li>\\n      <li class=\"link\">\\n        <a href=\"http://www.elfinanciero.com.mx/pages/widgets-y-apps-de-el-financiero.html\">Apps y widgets</a>\\n      </li>\\n      <li class=\"link\">\\n        <a href=\"http://www.elfinanciero.com.mx/pages/interactivos.html\">Interactivos</a>\\n      </li>\\n      <li class=\"blogs\">\\n        <a href=\"/blogs\">Blogs</a>\\n      </li>\\n      <li class=\"fotogalerias\">\\n        <a href=\"/fotogalerias\">Fotogaler\\xedas</a>\\n      </li>\\n      <li class=\"new-york-times-syndicate\">\\n        <a href=\"/new-york-times-syndicate\">NYT</a>\\n      </li>\\n      <li class=\"link\">\\n        <a href=\"/financial-times\">Financial Times</a>\\n      </li>\\n      <li class=\"power-tools\">\\n        <a href=\"/power-tools\">Power Tools</a>\\n      </li>\\n      <li class=\"bajio\">\\n        <a href=\"/bajio\">Baj\\xedo</a>\\n      </li>\\n      <li class=\"monterrey\">\\n        <a href=\"/monterrey\">Monterrey</a>\\n      </li>\\n      <li class=\"Informaci\\xf3n de las universidades universidades\">\\n        <a href=\"/universidades\">Universidades</a>\\n      </li>\\n      <li class=\"mundo-empresa\">\\n        <a href=\"/mundo-empresa\">Mundo Empresa</a>\\n      </li>\\n      <li class=\"texas\">\\n        <a href=\"/texas\">Texas</a>\\n      </li>\\n      <li class=\"suplementos last\">\\n        <a href=\"/suplementos\">Suplementos</a>\\n      </li>\\n    </ul>\\n  </li>\\n</ul>\\n\\n\\n        </div>\\n\\t</div>\\n</div>\\n<div class=\"content-columns2\">\\n\\t<div class=\"top-ads-wrapper2\">\\n\\t\\t<div class=\"leaderboard ad-unit ad-processed\" style=\"width: 940px;\">\\n\\n<script type=\"text/javascript\">\\n    \\nOAS_AD(\\'x32\\');\\n</script>\\n\\t\\t</div>\\n\\t</div>\\n</div>\\n<div class=\"header\">\\n\\n\\t<div class=\"upper_header\">\\n\\n\\t\\t<div class=\"left_upper_header\">\\n\\n\\t\\t\\t\\t\\t\\t\\t<ul class=\"web_nav\">\\n  <li class=\"active first\">\\n    <a href=\"/\"><span class=\"heavy\">El</span> Financiero</a>\\n  </li>\\n  <li>\\n    <a href=\"/mercados\"><span class=\"heavy\">EF</span> MERCADOS</a>\\n  </li>\\n  <li>\\n    <a href=\"/paper\"><span class=\"heavy\">EF</span> EPAPER</a>\\n  </li>\\n  <li class=\"last\">\\n    <a href=\"/tv\"><span class=\"heavy\">EF</span> TELEVISI\\xd3N</a>\\n  </li>\\n</ul>\\n\\n            \\n\\t\\t</div>\\n\\n\\t\\t<div class=\"right_upper_header\">\\n\\n\\t\\t\\t<div class=\"right-header-part\">\\n                <ul class=\"social_nav\">\\n    <li class=\"list-before\">S\\xedguenos</li>\\n    <li><a class=\"addthis_button_twitter_follow\" addthis:userid=\"ELFinanciero_Mx\">\\n            <div class=\"twitter\"/>\\n    </a></li>\\n    <li><a class=\"addthis_button_facebook_follow\" addthis:userid=\"ElFinancieroMx\">\\n            <div class=\"facebook\"/>\\n    </a></li>\\n    <li><a class=\"addthis_button_linkedin_follow\" addthis:userid=\"el-financiero\" addthis:usertype=\"company\">\\n            <div class=\"linkedin\"/>\\n    </a></li>\\n    <li><a class=\"addthis_button_google_follow\" addthis:userid=\"+elfinanciero\">\\n            <div class=\"googleplus\"/>\\n    </a></li>\\n    <script type=\"text/javascript\" src=\"//s7.addthis.com/js/300/addthis_widget.js#pubid=xa-525d4d6b779504f3\"/>\\n</ul>\\n\\n\\t\\t\\t\\t<form class=\"search\" method=\"GET\" action=\"/search\" name=\"search_form\">\\n\\t\\t\\t\\t\\t<input type=\"text\" class=\"main_search\" name=\"query\" placeholder=\"Buscar..\"/>\\n\\n\\t\\t\\t\\t\\t<input type=\"submit\" class=\"submit\" value=\"\"/>\\n\\t\\t\\t\\t</form>\\n\\n\\t\\t\\t</div>\\n\\n\\t\\t</div>\\n\\n\\t</div>\\n\\n\\t<div class=\"middle_header\">\\n\\t\\t<div class=\"logo-c\">\\n\\n\\t\\t\\t\\t    \\t<a href=\"/\" class=\"logo\" title=\"EL FINANCIERO\"/>\\n\\t\\t\\n\\t\\t\\t\\n            <div class=\"header-date\">26 de noviembre de 2016</div>\\n\\n\\t\\t\\t\\t\\t\\t\\t<a href=\"#\" class=\"bloomberg-logo\" title=\"Visit Bloomberg\">\\n\\t\\t\\t\\t\\t<img src=\"/images/logos/bloomberg.png\" alt=\"Bloomberg\" title=\"Bloomberg\"/>\\n\\t\\t\\t\\t</a>\\n        \\t\\t    </div>\\n\\t\\t\\n\\t\\t\\t\\t\\t\\n\\t\\t\\n\\t</div>\\n\\n\\t<div class=\"lower_header\">\\n        <div class=\"main-nav\">\\n        \\t    <ul>\\n  <li class=\"homepage first\">\\n    <a href=\"/\">Home</a>\\n  </li>\\n  <li class=\"economia current expandable\">\\n    <a href=\"/economia\">Econom\\xeda</a>\\n    <ul class=\"menu_level_1\">\\n      <li class=\"link external first\">\\n        <a href=\"http://graficos.elfinanciero.com.mx/2014/glosario-financiero/\" target=\"_blank\">Glosario financiero</a>\\n      </li>\\n      <li class=\"link last\">\\n        <a href=\"http://www.elfinanciero.com.mx/pages/prosuma-calculadora-de-fondos.html\">Calculadora de Fondos</a>\\n      </li>\\n    </ul>\\n  </li>\\n  <li class=\"empresas expandable\">\\n    <a href=\"/empresas\">Empresas</a>\\n    <ul class=\"menu_level_1\">\\n      <li class=\"franquicias first\">\\n        <a href=\"/franquicias\">Franquicias</a>\\n      </li>\\n      <li class=\"link last\">\\n        <a href=\"http://www.elfinanciero.com.mx/empresas/guia\">Gu\\xeda empresas</a>\\n      </li>\\n    </ul>\\n  </li>\\n  <li class=\"nacional\">\\n    <a href=\"/nacional\">Nacional</a>\\n  </li>\\n  <li class=\"tech\">\\n    <a href=\"/tech\">Tech</a>\\n  </li>\\n  <li class=\"mundo\">\\n    <a href=\"/mundo\">Mundo</a>\\n  </li>\\n  <li class=\"link expandable\">\\n    <a href=\"http://www.elfinanciero.com.mx/after-office-grid\">After Office</a>\\n    <ul class=\"menu_level_1\">\\n      <li class=\"link external first\">\\n        <a href=\"http://www.autos-ef.com/\" target=\"_blank\">Autos</a>\\n      </li>\\n      <li class=\"link external last\">\\n        <a href=\"http://sibarita-ef.com/\" target=\"_blank\">Sibarita</a>\\n      </li>\\n    </ul>\\n  </li>\\n  <li class=\"mis-finanzas\">\\n    <a href=\"/mis-finanzas\">Mis Finanzas</a>\\n  </li>\\n  <li class=\"link\">\\n    <a href=\"http://www.elfinanciero.com.mx/pages/opinion.html\">Opini\\xf3n</a>\\n  </li>\\n  <li class=\"ef-menu-light link external\">\\n    <a href=\"http://suscripciones.elfinanciero.com.mx\" target=\"_blank\">Suscr\\xedbete</a>\\n  </li>\\n  <li class=\"link external expandable last\">\\n    <a href=\"#\" target=\"_blank\">M\\xe1s</a>\\n    <ul class=\"menu_level_1\">\\n      <li class=\"video first\">\\n        <a href=\"/video\">Videos</a>\\n      </li>\\n      <li class=\"link\">\\n        <a href=\"http://www.elfinanciero.com.mx/pages/widgets-y-apps-de-el-financiero.html\">Apps y widgets</a>\\n      </li>\\n      <li class=\"link\">\\n        <a href=\"http://www.elfinanciero.com.mx/pages/interactivos.html\">Interactivos</a>\\n      </li>\\n      <li class=\"blogs\">\\n        <a href=\"/blogs\">Blogs</a>\\n      </li>\\n      <li class=\"fotogalerias\">\\n        <a href=\"/fotogalerias\">Fotogaler\\xedas</a>\\n      </li>\\n      <li class=\"new-york-times-syndicate\">\\n        <a href=\"/new-york-times-syndicate\">NYT</a>\\n      </li>\\n      <li class=\"link\">\\n        <a href=\"/financial-times\">Financial Times</a>\\n      </li>\\n      <li class=\"power-tools\">\\n        <a href=\"/power-tools\">Power Tools</a>\\n      </li>\\n      <li class=\"bajio\">\\n        <a href=\"/bajio\">Baj\\xedo</a>\\n      </li>\\n      <li class=\"monterrey\">\\n        <a href=\"/monterrey\">Monterrey</a>\\n      </li>\\n      <li class=\"Informaci\\xf3n de las universidades universidades\">\\n        <a href=\"/universidades\">Universidades</a>\\n      </li>\\n      <li class=\"mundo-empresa\">\\n        <a href=\"/mundo-empresa\">Mundo Empresa</a>\\n      </li>\\n      <li class=\"texas\">\\n        <a href=\"/texas\">Texas</a>\\n      </li>\\n      <li class=\"suplementos last\">\\n        <a href=\"/suplementos\">Suplementos</a>\\n      </li>\\n    </ul>\\n  </li>\\n</ul>\\n\\n        </div>\\n\\t</div>\\n\\n</div>\\n\\n\\n\\n        <div class=\"content\">\\n            \\n                                    \\n                \\n                <div class=\"content-columns\">\\n\\n    \\t\\t\\t\\t    <div class=\"top-ads-wrapper\">\\n            <div class=\"leaderboard ad-unit\">\\n            <div id=\"m107-106-108\"><script type=\"text/javascript\">\\n  OAS_AD(\"Top\");\\n</script></div>\\n</div>\\n            <div class=\"ear ad-unit ad-optional\">\\n            <div id=\"m125-2-126\"><script type=\"text/javascript\">\\n  OAS_AD(\"Top1\");\\n</script></div>\\n</div>\\n        </div>\\n\\n\\t<div class=\"article-title\">\\n\\t\\t<span class=\"main-title\">Econom\\xeda</span>\\n\\t</div>\\n\\n    \\t\\t\\t\\t<div class=\"columns-wrapper\">\\n                    \\n    \\t                    <div class=\"big-column\">\\n                    <div class=\"category-main-news\">\\n\\t\\t<div class=\"article-window article-default big-image large no-caption\" id=\"m420-2-421\">                <div class=\"arrow-wrapper\">                    <div class=\"title\"><a id=\"m424-423-425\" class=\"page-link\" href=\"/economia/se-mantienen-precios-de-gasolina-y-diesel-en-diciembre.html\">Se mantienen precios de gasolina y di\\xe9sel en diciembre: Hacienda</a></div>                    <div class=\"connect-arrow\"/>                    <div class=\"bottom-wrapper\">                        <div class=\"added\"><div id=\"m430-1-431\" class=\"publishDate\" data-timestamp=\"1480090380\">10:13 AM</div></div>                        <div class=\"text-wrapper\">                            <div class=\"frame\">\\n<a id=\"m436-2-437\" class=\"image page-link\" href=\"/economia/se-mantienen-precios-de-gasolina-y-diesel-en-diciembre.html\" style=\"background: none;\"><img alt=\"gasolina M\\xe9xico\" src=\"/files/article_home_bigger/uploads/2016/11/25/583862c2c5ee8.jpg\"/></a><div id=\"m443-3-444\" class=\"caption\">Introduzca el texto aqu\\xed</div>\\n</div>                        <p id=\"m449-4-450\" class=\"standard\">La Secretar\\xeda de Hacienda inform\\xf3 que el litro de Magna se mantendr\\xe1 en diciembre sin modificaci\\xf3n a lo presentado en noviembre, con un costo de 13.98 pesos.</p>\\n<ul class=\"collection page-collection\" id=\"m455-5-456\">\\n<div class=\"page-anchor\" id=\"m540-539-541\" data-collection=\"m455-5-456\"><a href=\"/monterrey/gasolina-a-15-50-con-la-apertura-energetica.html\" class=\"page-item-link\" id=\"m544-543-545\">Gasolina a $15.50 con la apertura energ\\xe9tica</a></div>\\n<div class=\"page-anchor\" id=\"m554-553-555\" data-collection=\"m455-5-456\"><a href=\"/economia/precios-de-gasolina-subiran-para-inicios-de-2017-estima-finamex.html\" class=\"page-item-link\" id=\"m558-557-559\">Precios de gasolina subir\\xe1n 8% para inicios de 2017, estima Finamex</a></div>\\n<div class=\"page-anchor\" id=\"m568-567-569\" data-collection=\"m455-5-456\"><a href=\"/economia/gasolina-no-subira-de-precio-por-razon-tributaria-meade.html\" class=\"page-item-link\" id=\"m572-571-573\">Gasolina no subir\\xe1 de precio por raz\\xf3n tributaria: Meade</a></div>\\n</ul>\\n</div>                    </div>                </div>            </div>\\n<div class=\"article-window article-default big-image no-related no-caption\" id=\"m328-1-329\" style=\"position: relative; opacity: 1; background-color: rgba(0, 0, 0, 0); top: 0px; left: 0px;\">                <div class=\"arrow-wrapper\">                    <div class=\"title\"><a id=\"m332-331-333\" class=\"page-link\" href=\"/economia/cae-entrada-de-inversion-de-cartera-extranjera-a-su-menor-nivel-desde-2009.html\">Entrada de inversi\\xf3n de cartera extranjera cae a su menor nivel desde 2009</a></div>                    <div class=\"connect-arrow\"/>                    <div class=\"bottom-wrapper\">                        <div class=\"added\"><div id=\"m338-1-339\" class=\"publishDate\" data-timestamp=\"1480087800\">09:30 AM</div></div>                        <div class=\"text-wrapper\">                            <div class=\"frame\">\\n<a id=\"m344-2-345\" class=\"image page-link\" href=\"/economia/cae-entrada-de-inversion-de-cartera-extranjera-a-su-menor-nivel-desde-2009.html\" style=\"background: none;\"><img alt=\"intermodal\" src=\"/files/article_home_bigger/uploads/2015/10/23/562a929e8bfaa.jpg\"/></a><div id=\"m351-3-352\" class=\"caption\">Introduzca el texto aqu\\xed</div>\\n</div>                        <p id=\"m357-4-358\" class=\"standard\">Entre enero y septiembre de este a\\xf1o el pa\\xeds capt\\xf3 17 mil 643 millones de d\\xf3lares en inversi\\xf3n de cartera extranjera, de acuerdo con cifras del Banco de M\\xe9xico.</p>\\n<ul class=\"collection page-collection\" id=\"m363-5-364\"/>\\n</div>                    </div>                </div>            </div>\\n<div class=\"article-window article-default big-image no-related no-caption\" id=\"m278-277-279\" style=\"position: relative; opacity: 1; background-color: rgba(0, 0, 0, 0); top: 0px; left: 0px;\">                <div class=\"arrow-wrapper\">                    <div class=\"title\"><a id=\"m282-281-283\" class=\"page-link\" href=\"/economia/aumento-al-salario-sin-consenso-provocaria-conflictividad-laboral-stps.html\">Controversia por propuesta sobre salario</a></div>                    <div class=\"connect-arrow\"/>                    <div class=\"bottom-wrapper\">                        <div class=\"added\"><div id=\"m288-1-289\" class=\"publishDate\" data-timestamp=\"1480027440\">16:44 PM</div></div>                        <div class=\"text-wrapper\">                            <div class=\"frame\">\\n<a id=\"m294-2-295\" class=\"image page-link\" href=\"/economia/aumento-al-salario-sin-consenso-provocaria-conflictividad-laboral-stps.html\" style=\"background: none;\"><img alt=\"[Arturo Monroy/El Financiero]\\xa0La Comisi\\xf3n de Cambios decidi\\xf3 suspender las subastas de d\\xf3lares a precio m\\xednimo.\\xa0\" src=\"/files/article_home_bigger/uploads/2014/02/12/52fb5adabbacb.jpg\"/></a><div id=\"m301-3-302\" class=\"caption\">Introduzca el texto aqu\\xed</div>\\n</div>                        <p id=\"m307-4-308\" class=\"standard\">Alfonso Navarrete, titular de la STPS celebr\\xf3 que haya una propuesta de aumento salarial para discutirla en el pleno de la Conasami; sin embargo, dijo que buscar\\xe1 reunirse con c\\xe1maras empresariales para conocer sus \\xa0 \\xa0 \\xa0 \\xa0 \\xa0 \\xa0 \\xa0 \\xa0 \\xa0 \\xa0 \\xa0 \\xa0 \\xa0 \\xa0 \\xa0 \\xa0 \\xa0 \\xa0 \\xa0 \\xa0 \\xa0 \\xa0 \\xa0 \\xa0 \\xa0 \\xa0 \\xa0 \\xa0 \\xa0 \\xa0 \\xa0 \\xa0 \\xa0 \\xa0 \\xa0 \\xa0 \\xa0 propuestas.</p>\\n<ul class=\"collection page-collection\" id=\"m313-5-314\"/>\\n</div>                    </div>                </div>            </div>\\n</div>\\n        \\n    \\t        \\t<ul class=\"section-list\">\\n    \\n            <li class=\"article-window\">\\n            <span class=\"publishDate\" data-timestamp=\"1480158300\">\\n        26 noviembre 2016 5:5\\n    </span>\\n\\n        <a href=\"/economia/precio-de-los-inmuebles-en-londres-se-abaratas-tras-brexit.html\" class=\"news-title\">Precio de los inmuebles en Londres se abaratan tras Brexit</a>\\n    </li>\\n\\n    \\n            <li class=\"article-window\">\\n            <span class=\"publishDate\" data-timestamp=\"1480158000\">\\n        26 noviembre 2016 5:0\\n    </span>\\n\\n        <a href=\"/mundo/suiza-decidira-el-domingo-si-abandona-la-energia-nuclear.html\" class=\"news-title\">Suiza votar\\xe1 para definir si abandona energ\\xeda nuclear este domingo</a>\\n    </li>\\n\\n    \\n            <li class=\"article-window\">\\n            <span class=\"publishDate\" data-timestamp=\"1480130580\">\\n        25 noviembre 2016 21:23\\n    </span>\\n\\n        <a href=\"/economia/black-friday-dispara-ventas-en-linea-y-baja-afluencia-en-tiendas.html\" class=\"news-title\">Black Friday dispara ventas en l\\xednea y baja afluencia en tiendas</a>\\n    </li>\\n\\n    \\n            <li class=\"article-window\">\\n            <span class=\"publishDate\" data-timestamp=\"1480110360\">\\n        25 noviembre 2016 15:46\\n    </span>\\n\\n        <a href=\"/economia/salen-100-mdd-diarios-a-bancos-extranjeros-en-los-que-va-del-ano.html\" class=\"news-title\">Salen 100 mdd diarios a bancos extranjeros en los que va del a\\xf1o</a>\\n    </li>\\n\\n    \\n            <li class=\"article-window\">\\n            <span class=\"publishDate\" data-timestamp=\"1480103700\">\\n        25 noviembre 2016 13:55\\n    </span>\\n\\n        <a href=\"/economia/guia-para-sobrevivir-en-un-hospital-de-guerra-en-venezuela.html\" class=\"news-title\">Gu\\xeda para sobrevivir en un \"hospital de guerra\" en Venezuela</a>\\n    </li>\\n\\n    \\n            <li class=\"article-window\">\\n            <span class=\"publishDate\" data-timestamp=\"1480102800\">\\n        25 noviembre 2016 13:40\\n    </span>\\n\\n        <a href=\"/mercados/afores-no-se-suben-a-la-ola-de-sustentabilidad-por-moda-sino-para-crear-valor-financiero.html\" class=\"news-title\">Afores no se suben a la \\'ola\\' de sustentabilidad por moda, sino para crear valor financiero</a>\\n    </li>\\n\\n    \\n            <li class=\"article-window\">\\n            <span class=\"publishDate\" data-timestamp=\"1480098600\">\\n        25 noviembre 2016 12:30\\n    </span>\\n\\n        <a href=\"/economia/abrira-pemex-sus-ductos-y-almacenamiento-a-la-ip-a-partir-del-de-febrero.html\" class=\"news-title\">Abrir\\xe1 Pemex sus ductos y almacenamiento a la IP a partir del 1 de febrero</a>\\n    </li>\\n\\n    \\n            <li class=\"article-window\">\\n            <span class=\"publishDate\" data-timestamp=\"1480093980\">\\n        25 noviembre 2016 11:13\\n    </span>\\n\\n        <a href=\"/mundo/el-boom-de-las-carceles-privadas-con-trump.html\" class=\"news-title\">El \\'boom\\' de las c\\xe1rceles privadas con Trump</a>\\n    </li>\\n\\n    \\n            <li class=\"article-window\">\\n            <span class=\"publishDate\" data-timestamp=\"1480092060\">\\n        25 noviembre 2016 10:41\\n    </span>\\n\\n        <a href=\"/economia/balanza-comercial-registra-en-octubre-un-deficit-menor-al-esperado.html\" class=\"news-title\">Balanza comercial registra en octubre un d\\xe9ficit menor al esperado</a>\\n    </li>\\n\\n    \\n            <li class=\"article-window\">\\n            <span class=\"publishDate\" data-timestamp=\"1480091340\">\\n        25 noviembre 2016 10:29\\n    </span>\\n\\n        <a href=\"/bajio/avanzan-ingresos-de-comercios-minoristas-en-el-bajio.html\" class=\"news-title\">Avanzan ingresos de comercios minoristas en el Baj\\xedo</a>\\n    </li>\\n\\n    \\n            <li class=\"article-window\">\\n            <span class=\"publishDate\" data-timestamp=\"1480090320\">\\n        25 noviembre 2016 10:12\\n    </span>\\n\\n        <a href=\"/bajio/alistan-presupuesto-de-30-mil-mdp-para-queretaro.html\" class=\"news-title\">Alistan presupuesto de 30 mil mdp para Quer\\xe9taro</a>\\n    </li>\\n\\n    \\n            <li class=\"article-window\">\\n            <span class=\"publishDate\" data-timestamp=\"1480087920\">\\n        25 noviembre 2016 9:32\\n    </span>\\n\\n        <a href=\"/economia/estas-son-las-razones-por-las-que-los-casos-defraudacion-fiscal-se-caen.html\" class=\"news-title\">Razones por las que los casos de defraudaci\\xf3n fiscal se caen</a>\\n    </li>\\n\\n    \\n            <li class=\"article-window\">\\n            <span class=\"publishDate\" data-timestamp=\"1480084620\">\\n        25 noviembre 2016 8:37\\n    </span>\\n\\n        <a href=\"/economia/chile-mexico-y-eu-son-los-mas-desiguales.html\" class=\"news-title\">Chile, M\\xe9xico y EU son los m\\xe1s desiguales en ingresos</a>\\n    </li>\\n\\n    \\n            <li class=\"article-window\">\\n            <span class=\"publishDate\" data-timestamp=\"1480081560\">\\n        25 noviembre 2016 7:46\\n    </span>\\n\\n        <a href=\"/bajio/marquez-propone-presupuesto-para-guanajuato-de-75-mil-299-mdp-en-2017.html\" class=\"news-title\">M\\xe1rquez propone presupuesto para Guanajuato de 75 mil 299 mdp en 2017</a>\\n    </li>\\n\\n    \\n            <li class=\"article-window\">\\n            <span class=\"publishDate\" data-timestamp=\"1480071900\">\\n        25 noviembre 2016 5:5\\n    </span>\\n\\n        <a href=\"/economia/china-ya-gestiona-su-integracion-en-paises-de-latinoamerica.html\" class=\"news-title\">China ya gestiona su integraci\\xf3n en pa\\xedses de Latinoam\\xe9rica</a>\\n    </li>\\n\\n    \\n            <li class=\"article-window\">\\n            <span class=\"publishDate\" data-timestamp=\"1480071900\">\\n        25 noviembre 2016 5:5\\n    </span>\\n\\n        <a href=\"/economia/en-eu-apetecen-mas-la-comida-mexicana.html\" class=\"news-title\">En EU apetecen m\\xe1s la comida mexicana</a>\\n    </li>\\n\\n    \\n            <li class=\"article-window\">\\n            <span class=\"publishDate\" data-timestamp=\"1480071900\">\\n        25 noviembre 2016 5:5\\n    </span>\\n\\n        <a href=\"/economia/pobreza-laboral-cae-66-en-3t16-por-baja-inflacion-coneval.html\" class=\"news-title\">Pobreza laboral baja 2.66% en el tercer trimestre</a>\\n    </li>\\n\\n    \\n            <li class=\"article-window\">\\n            <span class=\"publishDate\" data-timestamp=\"1480071900\">\\n        25 noviembre 2016 5:5\\n    </span>\\n\\n        <a href=\"/economia/municipios-reprueban-en-transparencia-y-no-son-sancionados.html\" class=\"news-title\">Reprueban municipios en transparencia fiscal</a>\\n    </li>\\n\\n    \\n            <li class=\"article-window\">\\n            <span class=\"publishDate\" data-timestamp=\"1480071900\">\\n        25 noviembre 2016 5:5\\n    </span>\\n\\n        <a href=\"/economia/inflacion-repunta-y-tiene-un-nivel-mayor-al-esperado.html\" class=\"news-title\">Debilidad del peso acelera el alza en precios al consumidor</a>\\n    </li>\\n\\n    \\n            <li class=\"article-window\">\\n            <span class=\"publishDate\" data-timestamp=\"1480071600\">\\n        25 noviembre 2016 5:0\\n    </span>\\n\\n        <a href=\"/economia/en-declive-utilidad-de-las-casas-de-bolsa.html\" class=\"news-title\">En declive, utilidad de las casas de bolsa</a>\\n    </li>\\n\\n</ul>\\n\\n            <div class=\"pagination\"><ul><li class=\"prev disabled\"><a href=\"#\">\\u2190 Anterior</a></li><li class=\"active\"><a href=\"/economia?page=1\">1</a></li><li><a href=\"/economia?page=2\">2</a></li><li><a href=\"/economia?page=3\">3</a></li><li><a href=\"/economia?page=4\">4</a></li><li><a href=\"/economia?page=5\">5</a></li><li><a href=\"/economia?page=6\">6</a></li><li><a href=\"/economia?page=7\">7</a></li><li class=\"disabled\"><a href=\"#\">\\u2026</a></li><li><a href=\"/economia?page=1120\">1120</a></li><li class=\"next\"><a href=\"/economia?page=2\">Siguiente \\u2192</a></li></ul></div>\\n    \\n    \\t    </div>\\n\\n                            <div class=\"sidebar-middle\">\\n            <div class=\"sidebar-columns\">\\n            <div class=\"medium-column\">\\n<div id=\"m232-231-233\">\\n<br/><script type=\"text/javascript\">OAS_AD(\\'Position1\\');</script><script type=\"text/javascript\">OAS_AD(\\'Position2\\');</script>\\n</div>\\n<div id=\"m251-2-252\"><iframe src=\"http://graficos.elfinanciero.com.mx/2014/promos/prosuma/widget.html\" width=\"300\" height=\"100\" scrolling=\"no\" frameborder=\"0\"/>\\n</div>\\n<div class=\"most-widget\">\\n            <div class=\"box-title\">\\n            <div class=\"title-text\">\\n                                    Lo m\\xe1s\\n                            </div>\\n        </div>\\n    \\n    <div class=\"box-container\">\\n                        <div class=\"box-content\" id=\"most-read\">\\n            <ul>\\n                            <li><a href=\"/empresas/este-fue-el-secreto-para-multiplicar-oxxo-segun-el-estratega-de-femsa.html\" data-slug=\"empresas/este-fue-el-secreto-para-multiplicar-oxxo-segun-el-estratega-de-femsa\" data-pageviews=\"7051\">Este fue el secreto para multiplicar Oxxo, seg\\xfan el estratega de Femsa</a></li>\\n                            <li><a href=\"/after-office/olga-breeskin-del-glamur-al-cristianismo.html\" data-slug=\"after-office/olga-breeskin-del-glamur-al-cristianismo\" data-pageviews=\"2072\">Olga Breeskin, del glamur al cristianismo</a></li>\\n                            <li><a href=\"/opinion/regreso-al-pri-que-no-lo-quiere.html\" data-slug=\"opinion/regreso-al-pri-que-no-lo-quiere\" data-pageviews=\"1893\">Regreso al PRI\\u2026 que no lo quiere</a></li>\\n                            <li><a href=\"/opinion/quien-se-chingo-a-trump.html\" data-slug=\"opinion/quien-se-chingo-a-trump\" data-pageviews=\"1639\">\\xbfQui\\xe9n se ching\\xf3 a Trump?</a></li>\\n                            <li><a href=\"/tech/entraron-al-megacrater-yucateco-chicxulub-y-esto-hallaron-sobre-la-tierra.html\" data-slug=\"tech/entraron-al-megacrater-yucateco-chicxulub-y-esto-hallaron-sobre-la-tierra\" data-pageviews=\"1434\">Entraron al megacr\\xe1ter yucateco Chicxulub y esto hallaron sobre la Tierra</a></li>\\n                        </ul>\\n        </div>\\n    </div>\\n</div>\\n<div id=\"m408-9-409\">\\n<br/><script type=\"text/javascript\">OAS_AD(\\'Position3\\');</script>\\n</div>\\n</div>\\n\\t\\t</div>\\n\\n    </div>\\n\\n            <div class=\"small-column\">\\n        <div class=\"news-wrapper\">\\n            <h2 class=\"title\">Top News</h2>\\n            <div class=\"general-wrapper\">\\n            \\t                                    <div class=\"news-box\">\\n                        <a href=\"/mundo/castro-fue-un-dictador-brutal-trump.html\">\\n                                                            <img src=\"/files/article_small_nopattern/uploads/2016/11/26/5839b8e074b64.jpg\" alt=\"\"/>\\n                            \\n                            <div class=\"title-tiny\">\\n                                <a href=\"/mundo/castro-fue-un-dictador-brutal-trump.html\">Castro fue \"un dictador brutal\": Trump</a>\\n                            </div>\\n                        </a>\\n                    </div>\\n                                    <div class=\"news-box\">\\n                        <a href=\"/mundo/lideres-de-al-destacan-la-huella-de-castro-en-la-historia.html\">\\n                                                            <img src=\"/files/article_small_nopattern/uploads/2016/11/26/5839c21f11d83.jpg\" alt=\"\"/>\\n                            \\n                            <div class=\"title-tiny\">\\n                                <a href=\"/mundo/lideres-de-al-destacan-la-huella-de-castro-en-la-historia.html\">L\\xedderes de AL destacan la huella de Castro en la historia</a>\\n                            </div>\\n                        </a>\\n                    </div>\\n                                    <div class=\"news-box\">\\n                        <a href=\"/mundo/fidel-el-eterno-guerrillero.html\">\\n                                                            <img src=\"/files/article_small_nopattern/uploads/2016/11/26/583925fb5f303.jpg\" alt=\"\"/>\\n                            \\n                            <div class=\"title-tiny\">\\n                                <a href=\"/mundo/fidel-el-eterno-guerrillero.html\">Fidel, el eterno guerrillero</a>\\n                            </div>\\n                        </a>\\n                    </div>\\n                                    <div class=\"news-box\">\\n                        <a href=\"/mundo/estos-fueron-los-principales-eventos-en-la-vida-de-fidel-castro.html\">\\n                                                            <img src=\"/files/article_small_nopattern/files/crop/uploads/2016/11/26/583925fb5f303.r_4.0-172-383-425.jpg\" alt=\"\"/>\\n                            \\n                            <div class=\"title-tiny\">\\n                                <a href=\"/mundo/estos-fueron-los-principales-eventos-en-la-vida-de-fidel-castro.html\">Estos fueron los principales eventos en la vida de Fidel Castro</a>\\n                            </div>\\n                        </a>\\n                    </div>\\n                                    <div class=\"news-box\">\\n                        <a href=\"/fotogalerias/los-amigos-y-aliados-del-comandante.html\">\\n                                                            <img src=\"/files/article_small_nopattern/uploads/2016/11/26/58393068e0213.jpg\" alt=\"\"/>\\n                            \\n                            <div class=\"title-tiny\">\\n                                <a href=\"/fotogalerias/los-amigos-y-aliados-del-comandante.html\">Los amigos y aliados del Comandante</a>\\n                            </div>\\n                        </a>\\n                    </div>\\n                                    <div class=\"news-box\">\\n                        <a href=\"/new-york-times-syndicate/la-ambicion-del-aguacate-pone-en-peligro-el-refugio-de-las-monarca.html\">\\n                                                            <img src=\"/files/article_small_nopattern/uploads/2016/11/25/583898a5c6d6c.jpg\" alt=\"\"/>\\n                            \\n                            <div class=\"title-tiny\">\\n                                <a href=\"/new-york-times-syndicate/la-ambicion-del-aguacate-pone-en-peligro-el-refugio-de-las-monarca.html\">La \\u2018ambici\\xf3n del aguacate\\u2019 pone en peligro el refugio de las monarca</a>\\n                            </div>\\n                        </a>\\n                    </div>\\n                                    <div class=\"news-box\">\\n                        <a href=\"/mundo/suiza-decidira-el-domingo-si-abandona-la-energia-nuclear.html\">\\n                                                            <img src=\"/files/article_small_nopattern/uploads/2016/11/25/583864d8f10ea.jpg\" alt=\"\"/>\\n                            \\n                            <div class=\"title-tiny\">\\n                                <a href=\"/mundo/suiza-decidira-el-domingo-si-abandona-la-energia-nuclear.html\">Suiza votar\\xe1 para definir si abandona energ\\xeda nuclear este domingo</a>\\n                            </div>\\n                        </a>\\n                    </div>\\n                                    <div class=\"news-box\">\\n                        <a href=\"/mundo/este-es-el-machu-picchu-moderno-edificio-con-el-mejor-diseno-del-mundo.html\">\\n                                                            <img src=\"/files/article_small_nopattern/uploads/2016/11/24/58377fba7c0db.png\" alt=\"\"/>\\n                            \\n                            <div class=\"title-tiny\">\\n                                <a href=\"/mundo/este-es-el-machu-picchu-moderno-edificio-con-el-mejor-diseno-del-mundo.html\">Este edificio es conocido como el \\'Machu Picchu moderno\\' \\xbfsabes por qu\\xe9?</a>\\n                            </div>\\n                        </a>\\n                    </div>\\n                            </div>\\n        </div>\\n    </div>\\n\\n                        \\t\\t\\t\\t</div>\\n                </div>\\n                <div class=\"content-columns two-columns content-bottom\">\\n    <div class=\"columns-wrapper\">\\n        <div class=\"wide-column\">\\n            <div class=\"free-content\"><div id=\"m47-46-48\"><iframe src=\"/dev/calculadoras/default.html\" width=\"662\" height=\"300\" scroll=\"no\"> </iframe></div></div>\\n        </div>\\n        <div class=\"medium-column\">\\n            \\n        </div>\\n    </div>\\n</div>\\n\\n                    </div>\\n\\n                    <div class=\"footer\">\\n\\n\\t<div class=\"footer-content\">\\n\\n\\t\\t<ul>\\n  <li class=\"homepage first\">\\n    <a href=\"/\">Inicio</a>\\n  </li>\\n  <li class=\"link external\">\\n    <a href=\"/pages/quienes-somos-1.html\" target=\"_blank\">\\xbfQui\\xe9nes somos?</a>\\n  </li>\\n  <li class=\"link external\">\\n    <a href=\"http://www.elfinanciero.com.mx/pages/directorio-1.html\" target=\"_blank\">Directorio</a>\\n  </li>\\n  <li class=\"link external\">\\n    <a href=\"http://suscripciones.elfinanciero.com.mx/\" target=\"_blank\">Suscripciones</a>\\n  </li>\\n  <li class=\"link external\">\\n    <a href=\"http://www.elfinanciero.com.mx/uploads/pdf/legal/avisodeprivacidad.pdf\" target=\"_blank\">Aviso Privacidad</a>\\n  </li>\\n  <li class=\"link last\">\\n    <a href=\"mailto:inteligenciacomercial@elfinanciero.com.mx\">An\\xfanciate con nosotros</a>\\n  </li>\\n</ul>\\n\\n\\t\\t<div class=\"footer-text\">\\n\\t\\t\\t\\t<span class=\"title-normal\">EL FINANCIERO</span>\\n\\t\\t\\t\\t<span class=\"copyright\"><div id=\"m40-39-41\">2016 \\xa9 Copyright, Grupo Multimedia Lauman, SAPI de CV</div></span>\\n\\t\\t\\t</div>\\n\\t\\t\\n\\t\\t<a href=\"/rss\" class=\"rss-footer\">RSS</a>\\n        <div style=\"padding-left: calc(73% - 14px) !important; width:100%; margin-top: -13px !important;\"><img id=\"cita\" src=\"/dev/calculadoras/img/comscore_logo.png\" width=\"120px\" border=\"0\" alt=\"COMSCORE\"/></div>   \\n\\t\\t<link rel=\"stylesheet\" href=\"//code.jquery.com/ui/1.12.0/themes/base/jquery-ui.css\"/>\\n        <link rel=\"stylesheet\" href=\"/css/tv_fuentes.css\"/>\\n        <script src=\"http://content.jwplatform.com/libraries/XeGdlzmk.js\"/>\\n                <script type=\"text/javascript\" src=\"/javascripts/tv_player_flotante.js\"/>\\n\\n\\n                <px class=\"morado\">\\n            <div id=\"BotonesVideo\" style=\"float:none;\">\\n                <!--<a href=\"#\" id=\"cambiar\" class=\"cambiar\" onClick=\"javascript:jwplayer().setVolume(100);\"><img id=\"imagencita\" src=\"/dev/calculadoras/img/flecha-arriba.png\" width=\"11\" height=\"11\" border=\"0\" alt=\"VER +\"></span></a>\\n                <a href=\"#\" id=\"minimizar\" class=\"minimizar\" onClick=\"javascript:jwplayer().setVolume(0);\">&#8212;</a>-->\\n                <input type=\"hidden\" value=\"0\" id=\"valoroculto\"/>\\n            </div>\\n\\n            <sx style=\"width:325px !important; float:left; padding-right: 5px;\"><div id=\"myElement\">Cargando video...</div></sx>\\n           \\n            <script type=\"text/javascript\">\\n                $.getJSON(\"http://x.elfinanciero.xyz/files/playerhome/playerhome.json\",function(siono) {\\n                    activo = siono.valor;\\n                    if (activo == 1) {\\n                        console.log(\\'/VER/ \\'+SITECONF.TYPE);\\n                        if (SITECONF.TYPE==\"home\") {\\n                           pintaplayer();\\n                        }\\n                    }\\n                });\\n            </script>\\n            \\n                <div id=\"programacionactual\" class=\"tituloplayerfijohome\"/>\\n                <script type=\"text/javascript\">\\n                    console.log(\\'!  !\\');  \\n                </script>\\n                    </px>\\n\\n       \\n\\t</div>\\n\\n\\t\\n\\n</div>\\n\\n        \\n                    <div class=\"mobile-redirect\">\\n                <a href=\"#\">Pulse aqu\\xed para volver a la versi\\xf3n mobile.</a>\\n            </div>\\n            </div>\\n</div>\\n\\n    <script type=\"text/javascript\"> var _gaq = _gaq || []; _gaq.push([\\'_setAccount\\', \\'UA-425878-1\\']); _gaq.push([\\'_setDomainName\\', \\'elfinanciero.com.mx\\']); _gaq.push([\\'_trackPageview\\']); (function() { var ga = document.createElement(\\'script\\'); ga.type = \\'text/javascript\\'; ga.async = true; ga.src = (\\'https:\\' == document.location.protocol ? \\'https://\\' : \\'http://\\') + \\'stats.g.doubleclick.net/dc.js\\'; var s = document.getElementsByTagName(\\'script\\')[0]; s.parentNode.insertBefore(ga, s); })();\\n</script>\\n\\n\\n\\n<script type=\"text/javascript\">\\n    function udm_(e){var t=\"comScore=\",n=document,r=n.cookie,i=\"\",s=\"indexOf\",o=\"substring\",u=\"length\",a=2048,f,l=\"&amp;ns_\",c=\"&amp;\",h,p,d,v,m=window,g=m.encodeURIComponent||escape;if(r[s](t)+1)for(d=0,p=r.split(\";\"),v=p[u];d&lt;v;d++)h=p[d][s](t),h+1&amp;&amp;(i=c+unescape(p[d][o](h+t[u])));e+=l+\"_t=\"+ +(new Date)+l+\"c=\"+(n.characterSet||n.defaultCharset||\"\")+\"&amp;c8=\"+g(n.title)+i+\"&amp;c7=\"+g(n.URL)+\"&amp;c9=\"+g(n.referrer),e[u]&gt;a&amp;&amp;e[s](c)&gt;0&amp;&amp;(f=e[o](0,a-8).lastIndexOf(c),e=(e[o](0,f)+l+\"cut=\"+g(e[o](f+1)))[o](0,a)),n.images?(h=new Image,m.ns_p||(ns_p=h),h.src=e):n.write(\"&lt;\",\"p\",\"&gt;&lt;\",\\'img src=\"\\',e,\\'\" height=\"1\" width=\"1\" alt=\"*\"\\',\"&gt;&lt;\",\"/p\",\"&gt;\")};\\nfunction uid_call(a, b){\\n    ui_c2 = 10181342;\\n    ui_ns_site = \\'elfinanciero\\';\\n    window.b_ui_event = window.c_ui_event != null ? window.c_ui_event:\"\",window.c_ui_event = a;\\n    var ui_pixel_url = \\'http://b.scorecardresearch.com/p?c1=2&amp;c2=\\'+ui_c2+\\'&amp;ns_site=\\'+ui_ns_site+\\'&amp;name=\\'+a+\\'&amp;ns_type=hidden&amp;type=hidden&amp;ns_ui_type=\\'+b;\\n    var b=\"comScore=\",c=document,d=c.cookie,e=\"\",f=\"indexOf\",g=\"substring\",h=\"length\",i=2048,j,k=\"&amp;ns_\",l=\"&amp;\",m,n,o,p,q=window,r=q.encodeURIComponent||escape;if(d[f](b)+1)for(o=0,n=d.split(\";\"),p=n[h];o&lt;p;o++)m=n[o][f](b),m+1&amp;&amp;(e=l+unescape(n[o][g](m+b[h])));ui_pixel_url+=k+\"_t=\"+ +(new Date)+k+\"c=\"+(c.characterSet||c.defaultCharset||\"\")+\"&amp;c8=\"+r(c.title)+e+\"&amp;c7=\"+r(c.URL)+\"&amp;c9=\"+r(c.referrer)+\"&amp;b_ui_event=\"+b_ui_event+\"&amp;c_ui_event=\"+c_ui_event,ui_pixel_url[h]&gt;i&amp;&amp;ui_pixel_url[f](l)&gt;0&amp;&amp;(j=ui_pixel_url[g](0,i-8).lastIndexOf(l),ui_pixel_url=(ui_pixel_url[g](0,j)+k+\"cut=\"+r(ui_pixel_url[g](j+1)))[g](0,i)),c.images?(m=new Image,q.ns_p||(ns_p=m),m.src=ui_pixel_url):c.write(\"&lt;p&gt;&lt;img src=\\'\",ui_pixel_url,\"\\' height=\\'1\\' width=\\'1\\' alt=\\'*\\'&gt;&lt;/p&gt;\");\\n}\\n   \\tesBusqueda = SITECONF.FULL_SLUG.substr(0,6);\\n\\n\\tif(esBusqueda==\"search\"){\\n\\t\\t//console.log(\"busqueda\");\\n\\t\\tvar cadenaDeBusqueda = $(\"#adv_search_query\").val();\\n\\t\\tresultadoBusqueda =  20 * parseInt($(\".pagination li:nth-last-child(2) a\").text());\\t\\n\\t\\tdatosDeCadena = cadenaDeBusqueda.replace(/ /g, \\'%20\\');\\n\\t\\t//console.log(\"busqueda\");\\n\\t\\t//console.log(\\'http://b.scorecardresearch.com/b?c1=2&amp;c2=10181342&amp;ns_site=elfinanciero&amp;name=busqueda.resultados&amp;ns_search_term=\\'+datosDeCadena+\\'&amp;ns_search_result=\\'+resultadoBusqueda);\\n\\t\\tudm_(\\'http://b.scorecardresearch.com/b?c1=2&amp;c2=10181342&amp;ns_site=elfinanciero&amp;name=busqueda.resultados&amp;ns_search_term=\\'+datosDeCadena+\\'&amp;ns_search_result=\\'+resultadoBusqueda);\\t\\n\\t}else if(SITECONF.TYPE==\"article\" &amp;&amp; SITECONF.SLUG != \"fotogalerias\"){\\n\\t\\t\\t\\n\\t\\tif(SITECONF.SLUG == \"blogs\"){\\n\\t\\t\\tautor = $(\".author-info .author-name\").text();\\n\\t\\t\\t//autor = $(\".blog-contributor\").text();\\n\\t\\t\\t\\n\\t\\t}else if(SITECONF.SLUG == \"opinion\"){\\n\\t\\t\\tautor = $(\".author-name\").text();\\n\\t\\t}else {\\n\\t\\t\\tautor = $(\".important\").text();\\n\\t\\t}\\n\\t\\t\\n\\t\\tautorConEspacio = autor.split(\" \");\\n\\t\\ttamanio = autorConEspacio.length;\\n\\t\\tnombreCompleto=\"\";\\n\\t\\tif(tamanio==1){\\n\\t\\t\\tnombreCompleto = autor;\\n\\t\\t}else{\\n\\t\\t\\tnombreCompleto = autor.replace(/ /g, \\'%20\\');\\n\\t\\t}\\n\\t\\n\\t\\tif(SITECONF.SLUG == \"blogs\" || SITECONF.SLUG == \"fotogalerias\" || SITECONF.SLUG == \"opinion\"){\\n\\t\\t\\t//console.log(\"articulo y opinion \");\\n\\t\\t\\t//console.log(\\'http://b.scorecardresearch.com/b?c1=2&amp;c2=10181342&amp;ns_site=elfinanciero&amp;name=\\' + (SITECONF !== undefined ? (SITECONF.COMSCORE !== undefined ? SITECONF.COMSCORE : SITECONF.TYPE + \".\" + SITECONF.SLUG) : \\'unknown.unknown\\')+\\'&amp;autor=\\'+nombreCompleto);\\n\\t\\t\\tudm_(\\'http://b.scorecardresearch.com/b?c1=2&amp;c2=10181342&amp;ns_site=elfinanciero&amp;name=\\' + (SITECONF !== undefined ? (SITECONF.COMSCORE !== undefined ? SITECONF.COMSCORE : SITECONF.TYPE + \".\" + SITECONF.SLUG) : \\'unknown.unknown\\')+\\'&amp;autor=\\'+nombreCompleto);\\t\\n\\t\\t}else if(SITECONF.SLUG != \"blogs\" &amp;&amp; SITECONF.SLUG != \"fotogalerias\" &amp;&amp; SITECONF.SLUG != \"opinion\"){\\n\\t\\t\\teditor = $(\"#editor\").val();\\n\\t\\t\\tfechaCompleta = $(\"#publicado\").val();\\n\\t\\t\\tfechaSeparada = fechaCompleta.split(\\' \\');\\n\\t\\t\\tsoloFecha = fechaSeparada[0];\\n\\t\\t\\tsoloHora = fechaSeparada[1];\\n\\t\\t\\t\\n\\t\\t\\tnuevoEditor =  editor.replace(/ /g, \\'%20\\'); \\n\\t\\t\\t//console.log(\"Fechayhora\");\\n\\t\\t\\t//console.log(\\'http://b.scorecardresearch.com/b?c1=2&amp;c2=10181342&amp;ns_site=elfinanciero&amp;name=\\' + (SITECONF !== undefined ? (SITECONF.COMSCORE !== undefined ? SITECONF.COMSCORE : SITECONF.TYPE + \".\" + SITECONF.SLUG) : \\'unknown.unknown\\')+\\'&amp;autor=\\'+nombreCompleto+\\'&amp;editor=\\'+nuevoEditor+\\'&amp;fecha=\\'+soloFecha+\\'&amp;soloHora=\\'+soloHora);\\n\\t\\t\\tudm_(\\'http://b.scorecardresearch.com/b?c1=2&amp;c2=10181342&amp;ns_site=elfinanciero&amp;name=\\' + (SITECONF !== undefined ? (SITECONF.COMSCORE !== undefined ? SITECONF.COMSCORE : SITECONF.TYPE + \".\" + SITECONF.SLUG) : \\'unknown.unknown\\')+\\'&amp;autor=\\'+nombreCompleto+\\'&amp;editor=\\'+nuevoEditor);\\t\\n\\t\\t\\t\\n\\t\\t\\n\\t\\t\\tcadCompleta = $(\\'.page-slider\\').html();\\n\\t\\t\\ttamCadCompleta = cadCompleta.length;\\n\\t\\t\\tcadCompleta = $(\\'.page-slider\\').html().substring(4,tamCadCompleta-5);\\n\\t\\t\\tcadSeparada = cadCompleta.split(\\'\"\\');\\n\\t\\t\\ttamCadSeparada=cadSeparada.length;\\n\\t\\t\\t\\n\\t\\t\\tif(tamCadSeparada &gt; 5 ){\\n\\t\\t\\t\\t//console.log(\"Mayor a 5\");\\n\\t\\t\\t\\t$(\\'.page-slider\\').html(\\'&lt;a href=\"\\'+cadSeparada[1]+\\'\" class=\"article-sibling sibling-prev\" onclick=\"uid_call(\\\\\\'nota.anterior\\\\\\',\\\\\\'clickin\\\\\\')\"&gt;Anterior&lt;/a&gt;/&lt;a href=\"\\'+cadSeparada[1]+\\'\" class=\"article-sibling sibling-next\" onclick=\"uid_call(\\\\\\'nota.siguiente\\\\\\',\\\\\\'clickin\\\\\\')\"&gt;Siguiente&lt;/a&gt;\\');\\n\\t\\t\\t\\t//console.log(\\'&lt;a href=\"\\'+cadSeparada[1]+\\'\" class=\"article-sibling sibling-prev\" onclick=\"uid_call(\\\\\\'\\'+SITECONF.FULL_SLUG+\\'\\\\\\',\\\\\\'clickin\\\\\\')\"&gt;Anterior&lt;/a&gt;/&lt;a href=\"\\'+cadSeparada[5]+\\'\" class=\"article-sibling sibling-next\" onclick=\"uid_call(\\\\\\'\\'+SITECONF.FULL_SLUG+\\'\\\\\\',\\\\\\'clickin\\\\\\')\"&gt;Siguiente&lt;/a&gt;\\');\\n\\n\\t\\t\\t}else{\\n\\t\\t\\t\\t//console.log(\"Menor a 5\");\\n\\t\\t\\t\\tvar esAnterior = cadSeparada[4].indexOf(\"Anterior\");\\n\\t\\t\\t\\tvar dos = cadSeparada[4].indexOf(\"Siguiente\");\\n\\t\\t\\t\\tif(esAnterior==\"1\"){\\n\\t\\t\\t\\t\\t$(\\'.page-slider\\').html(\\'&lt;a href=\"\\'+cadSeparada[1]+\\'\" class=\"article-sibling sibling-prev\" onclick=\"uid_call(\\\\\\'nota.anterior\\\\\\',\\\\\\'clickin\\\\\\')\"&gt;Anterior&lt;/a&gt;\\');\\n\\t\\t\\t\\t\\t//console.log(\"Anterior\");\\n\\t\\t\\t\\t}else{\\n\\t\\t\\t\\t\\t$(\\'.page-slider\\').html(\\'&lt;a href=\"\\'+cadSeparada[1]+\\'\" class=\"article-sibling sibling-next\" onclick=\"uid_call(\\\\\\'nota.siguiente\\\\\\',\\\\\\'clickin\\\\\\')\"&gt;Siguiente&lt;/a&gt;\\');\\n\\t\\t\\t\\t\\t//console.log(\"Siguiente\");\\n\\t\\t\\t\\t}\\n\\t\\t\\t}\\n\\t\\t\\t$(\".artFacebook\").html(\\'&lt;img class=\"social-icon\" src=\"/images/social/facebook.png\" onclick=\"uid_call(\\\\\\'nota.facebook\\\\\\',\\\\\\'clickin\\\\\\')\"&gt;\\');\\n\\t\\t\\t$(\".artTwitter\").html(\\'&lt;img class=\"social-icon\" src=\"/images/social/twitter.png\" onclick=\"uid_call(\\\\\\'nota.twitter\\\\\\',\\\\\\'clickin\\\\\\')\"&gt;\\');\\n\\t\\t\\t$(\".artLinkedin\").html(\\'&lt;img class=\"social-icon\" src=\"/images/social/linkedin.png\" onclick=\"uid_call(\\\\\\'nota.linkedin\\\\\\',\\\\\\'clickin\\\\\\')\"&gt;\\');\\n\\t\\t\\t$(\".artGooglePlus\").html(\\'&lt;img class=\"social-icon\" src=\"/images/social/googleplus.png\" onclick=\"uid_call(\\\\\\'nota.googleplus\\\\\\',\\\\\\'clickin\\\\\\')\"&gt;\\');\\n\\t\\t\\t\\n\\t\\t\\t\\n\\t\\t\\t\\n\\t\\t}\\n\\t}else if(SITECONF.TYPE==\"article\" &amp;&amp; SITECONF.SLUG == \"fotogalerias\"){\\n\\t\\t//slider-pane\\n\\t\\t//console.log(\"articulo y fotogaleria \");\\n\\t\\t//console.log(\\'http://b.scorecardresearch.com/b?c1=2&amp;c2=10181342&amp;ns_site=elfinanciero&amp;name=\\' + (SITECONF !== undefined ? (SITECONF.COMSCORE !== undefined ? SITECONF.COMSCORE : SITECONF.TYPE + \".\" + SITECONF.SLUG) : \\'unknown.unknown\\'));\\n\\t\\tudm_(\\'http://b.scorecardresearch.com/b?c1=2&amp;c2=10181342&amp;ns_site=elfinanciero&amp;name=\\' + (SITECONF !== undefined ? (SITECONF.COMSCORE !== undefined ? SITECONF.COMSCORE : SITECONF.TYPE + \".\" + SITECONF.SLUG) : \\'unknown.unknown\\'));\\t\\n\\t\\t$(\".slider-button.left-arrow\").click(function() {\\n\\t\\t\\t//console.log(\"mensaje fuera1\");\\n\\t\\t\\tuid_call(\\'fotogaleria.anterior\\',\\'clickin\\');\\n\\t\\t});\\n\\t\\t$(\".slider-button.right-arrow\").click(function() {\\n\\t\\t\\t//console.log(\"mensaje fuera1\");\\n\\t\\t\\tuid_call(\\'fotogaleria.siguiente\\',\\'clickin\\');\\n\\t\\t});\\n\\t}else{\\n\\t\\t//console.log(\"todo\");\\n\\t\\t//console.log(\\'http://b.scorecardresearch.com/b?c1=2&amp;c2=10181342&amp;ns_site=elfinanciero&amp;name=\\' + (SITECONF !== undefined ? (SITECONF.COMSCORE !== undefined ? SITECONF.COMSCORE : SITECONF.TYPE + \".\" + SITECONF.SLUG) : \\'unknown.unknown\\'));\\n\\t\\tudm_(\\'http://b.scorecardresearch.com/b?c1=2&amp;c2=10181342&amp;ns_site=elfinanciero&amp;name=\\' + (SITECONF !== undefined ? (SITECONF.COMSCORE !== undefined ? SITECONF.COMSCORE : SITECONF.TYPE + \".\" + SITECONF.SLUG) : \\'unknown.unknown\\'));\\t\\n\\t\\t\\n\\t}\\n\\nfunction limpiar(text){\\n\\tvar text = text.toLowerCase(); // a minusculas\\n\\ttext = text.replace(/[\\xe1\\xe0\\xe4\\xe2\\xe5]/g, \\'a\\');\\n\\ttext = text.replace(/[\\xe9\\xe8\\xeb\\xea]/, \\'e\\');\\n\\ttext = text.replace(/[\\xed\\xec\\xef\\xee]/, \\'i\\');\\n\\ttext = text.replace(/[\\xf3\\xf2\\xf6\\xf4]/, \\'o\\');\\n\\ttext = text.replace(/[\\xfa\\xf9\\xfc\\xfb]/, \\'u\\');\\n\\ttext = text.replace(/[\\xfd\\xff]/, \\'y\\');\\n\\ttext = text.replace(/[\\xf1]/g, \\'n\\');\\n\\ttext = text.replace(/[\\xe7]/, \\'c\\');\\n\\n      return text;\\n   }\\n\\t\\n</script>\\n\\n<script type=\"text/javascript\">\\n\\t\\n\\t$(\".twitter\").click(function() {\\n\\t\\tuid_call(SITECONF.TYPE+\\'.redes.twitter\\',\\'clickout\\');\\n\\t});\\n\\t$(\".facebook\").click(function() {\\n\\t\\tuid_call(SITECONF.TYPE+\\'.redes.facebook\\',\\'clickout\\');\\n\\t});\\n\\t$(\".linkedin\").click(function() {\\n\\t\\tuid_call(SITECONF.TYPE+\\'.redes.linkedin\\',\\'clickout\\');\\n\\t});\\n\\t$(\".googleplus\").click(function() {\\n\\t\\tuid_call(SITECONF.TYPE+\\'.redes.googleplus\\',\\'clickout\\');\\n\\t});\\n\\t\\n\\n//udm_(\\'http://b.scorecardresearch.com/b?c1=2&amp;c2=10181342&amp;ns_site=elfinanciero&amp;name=\\' + (SITECONF !== undefined ? (SITECONF.COMSCORE !== undefined ? SITECONF.COMSCORE : SITECONF.TYPE + \".\" + SITECONF.SLUG) : \\'unknown.unknown\\'));\\n</script>\\n\\n\\n\\t<script type=\"text/javascript\">OAS_AD(\\'x04\\');</script>\\n\\n<script type=\"text/javascript\">\\n\\n$(\".content-columns2\").css(\"display\",\"none\");\\n\\nif(SITECONF.SLUG == \"\" &amp;&amp; SITECONF.TYPE == \"home\" &amp;&amp; SITECONF.FULL_SLUG == \"\" &amp;&amp; SITECONF.COMSCORE == \"inicio.portada\" ){\\n\\t$(\".skin-ad-wrapper\").css(\"background\",\"#f5f5f5 url(http://suscripciones.elfinanciero.com.mx/img/skin/skin_portada.png) no-repeat fixed center top\");\\n\\t\\n\\t\\n}else if(SITECONF.SLUG == \"economia\" &amp;&amp; SITECONF.TYPE == \"category\" &amp;&amp; SITECONF.FULL_SLUG == \"economia\" &amp;&amp; SITECONF.COMSCORE == \"economia.portada\"){\\n\\t$(\".skin-ad-wrapper\").css(\"background\",\"#f5f5f5 url(http://suscripciones.elfinanciero.com.mx/img/skin/skin_economia.jpg) no-repeat fixed center top\");\\n\\n}else if(SITECONF.SLUG == \"\" &amp;&amp; SITECONF.TYPE == \"home\" &amp;&amp; SITECONF.FULL_SLUG == \"pages/opinion\" &amp;&amp; SITECONF.COMSCORE == \"pages.opinion\"){\\n\\t$(\".skin-ad-wrapper\").css(\"background\",\"#f5f5f5 url(http://suscripciones.elfinanciero.com.mx/img/skin/skin_opinion.jpg) no-repeat fixed center top\");\\n\\t//$(\".skin-ad-wrapper\").click(function(){ window.open(\\'http://www.eraprincess.com/mx/inicio/\\',\\'_blank\\')}); \\n\\n}else if(SITECONF.SLUG == \"opinion\" &amp;&amp; SITECONF.TYPE == \"article\" ){\\n\\t$(\".skin-ad-wrapper\").css(\"background\",\"#f5f5f5 url(http://suscripciones.elfinanciero.com.mx/img/skin/skin_opinion.jpg) no-repeat fixed center top\");\\n\\t//$(\".skin-ad-wrapper\").click(function(){ window.open(\\'http://www.eraprincess.com/mx/inicio/\\',\\'_blank\\')}); \\n\\t\\n}else if(SITECONF.SLUG == \"nacional\" &amp;&amp; SITECONF.TYPE == \"category\" &amp;&amp; SITECONF.FULL_SLUG == \"nacional\" &amp;&amp; SITECONF.COMSCORE == \"nacional.portada\"){\\n\\t$(\".skin-ad-wrapper\").css(\"background\",\"#f5f5f5 url(http://suscripciones.elfinanciero.com.mx/img/skin/skin_nacional.jpg) no-repeat fixed center top\");\\n\\t\\t\\n\\t\\t\\n}else if(SITECONF.SLUG == \"empresas\" &amp;&amp; SITECONF.TYPE == \"category\" &amp;&amp; SITECONF.FULL_SLUG == \"empresas\" &amp;&amp; SITECONF.COMSCORE == \"empresas.portada\"){\\n\\t$(\".skin-ad-wrapper\").css(\"background\",\"#f5f5f5 url(http://suscripciones.elfinanciero.com.mx/img/skin/skin_empresas.jpg) no-repeat fixed center top\");\\n\\t\\n\\n\\t\\n\\n}else if(SITECONF.SLUG == \"mis-finanzas\" &amp;&amp; SITECONF.TYPE == \"category\" &amp;&amp; SITECONF.FULL_SLUG == \"mis-finanzas\" &amp;&amp; SITECONF.COMSCORE == \"mis-finanzas.portada\"){\\n\\t$(\".skin-ad-wrapper\").css(\"background\",\"#f5f5f5 url(http://graficos.elfinanciero.com.mx/comercial/2016/skin/skin_mis_finanzas.jpg) no-repeat fixed center top\");\\n\\t\\n\\t\\n}else if(SITECONF.SLUG == \"financial-times\" &amp;&amp; SITECONF.TYPE == \"category\" &amp;&amp; SITECONF.FULL_SLUG == \"financial-times\" &amp;&amp; SITECONF.COMSCORE == \"financial-times.portada\"){\\n\\t$(\".skin-ad-wrapper\").css(\"background\",\"#f5f5f5 url(http://graficos.elfinanciero.com.mx/comercial/2016/skin/skin_financial.jpg) no-repeat fixed center top\");\\n\\t//$(\".skin-ad-wrapper\").click(function(){ window.open(\\'http://www.posgradostec.info/pyee-queretaro?utm_source=externo&amp;utm_medium=elfinanciero&amp;utm_content=ceo-z3-qro&amp;utm_campaign=pyee-externo\\',\\'_blank\\')}); \\n\\t\\t\\n\\t\\n}else if(SITECONF.SLUG == \"\" &amp;&amp; SITECONF.TYPE == \"home\" &amp;&amp; SITECONF.FULL_SLUG == \"pages/xtb\" &amp;&amp; SITECONF.COMSCORE == \"pages.xtb\"){\\n\\t$(\".skin-ad-wrapper\").css(\"background\",\"#f5f5f5 url(http://graficos.elfinanciero.com.mx/comercial/2016/skin/skin_patrocinio.jpg) no-repeat fixed center top\");\\n\\t$(\".skin-ad-wrapper\").click(function(){ window.open(\\'http://www.metodotrading.com/landing-coyuntural/mx-el-financiero-como-aprovechar-la-subida-de-apple?count=MX&amp;camp=seminario_apple_mexico_ElFinancieroBanners&amp;utm_source=seminario_apple_mexico&amp;utm_medium=ElFinancieroBanners&amp;utm_campaign=seminario&amp;utm_content=apple&amp;utm_term=MX&amp;test=2\\',\\'_blank\\')}); \\n\\t\\n\\t\\n}else{\\n\\t$(\".skin-ad-wrapper\").css(\"background\",\"#f5f5f5 url(http://suscripciones.elfinanciero.com.mx/img/ef_background.png) no-repeat fixed center top\");\\n\\t\\n}\\n\\n\\t$(\".skin-ad-wrapper\").css(\"position\",\"fixed\");\\n\\t$(\".skin-ad-wrapper\").css(\"top\",\"0\");\\n\\t$(\".skin-ad-wrapper\").css(\"left\",\"0\");\\n\\t$(\".skin-ad-wrapper\").css(\"right\",\"0\");\\n\\t$(\".skin-ad-wrapper\").css(\"bottom\",\"0\");\\n\\t$(\".skin-ad-wrapper\").css(\"z-index\",\"0\");\\n\\n\\nif(SITECONF.SLUG==\"mis-finanzas\" || SITECONF.TYPE ==\"article\" ){\\n\\t$(\".sidebar-medium-col\").css(\"overflow\",\"visible\");\\n}\\n\\n</script>\\n\\n                                \\n\\n\\n        <script type=\"text/javascript\">\\n        /* configuration variables */\\n        var disqus_shortname = \\'elfinancieromx\\'; // required: replace example with your forum shortname\\n    </script>\\n    <script src=\"//elfinancieromx.disqus.com/count.js\" async=\"\"/>\\n        <script src=\"http://client.broadstant.com/live_client.js\"/>\\n<script type=\"text/javascript\">\\n    (function($) {\\n        try {\\n            new LiveClient($(\\'.radar .live-channel\\'), \\'radar\\');\\n        } catch(e) {         }\\n\\n                $(\\'.radar-toggle\\').on(\\'click\\', function() {\\n            $(\\'.container\\').toggleClass(\\'radar-active\\');\\n            $(this).trigger(\\'ef:radar:toggled\\', [$(\\'.radar:visible\\').length &gt; 0]);\\n            //$(this).hide();\\n        });\\n    })(jQuery);\\n</script>\\n    </body>\\n'"
      ]
     },
     "execution_count": 59,
     "metadata": {},
     "output_type": "execute_result"
    }
   ],
   "source": [
    "pq.html()"
   ]
  },
  {
   "cell_type": "code",
   "execution_count": 122,
   "metadata": {
    "collapsed": true
   },
   "outputs": [],
   "source": [
    "base_url='http://www.eluniversal.com.mx/cartera/economia'"
   ]
  },
  {
   "cell_type": "code",
   "execution_count": 123,
   "metadata": {
    "collapsed": true
   },
   "outputs": [],
   "source": [
    "pq = PyQuery(base_url)"
   ]
  },
  {
   "cell_type": "code",
   "execution_count": 124,
   "metadata": {
    "collapsed": false,
    "scrolled": true
   },
   "outputs": [
    {
     "data": {
      "text/plain": [
       "u'\\n<head>\\n<!--[if lt IE 9]><meta http-equiv=\"X-UA-Compatible\" content=\"IE=edge,chrome=1\" />\\n<![endif]--><meta http-equiv=\"Content-Type\" content=\"text/html; charset=utf-8\"/>\\n<link rel=\"shortcut icon\" href=\"http://www.eluniversal.com.mx/sites/default/files/favicon.png\" type=\"image/png\"/>\\n<meta property=\"fb:app_id\" content=\"163316950407128\"/>\\n<meta name=\"viewport\" content=\"width=device-width, initial-scale=1, maximum-scale=1, minimum-scale=1, user-scalable=no\"/>\\n<link sizes=\"76x76\" rel=\"apple-touch-icon-precomposed\" href=\"/sites/all/themes/universal/images/icos/76.png\"/>\\n<link sizes=\"120x120\" rel=\"apple-touch-icon-precomposed\" href=\"/sites/all/themes/universal/images/icos/120.png\"/>\\n<link sizes=\"152x152\" rel=\"apple-touch-icon-precomposed\" href=\"/sites/all/themes/universal/images/icos/152.png\"/>\\n<link rel=\"apple-touch-icon-precomposed\" href=\"/sites/all/themes/universal/images/icos/76.png\"/><meta name=\"abstract\" content=\"El peri\\xf3dico de M\\xe9xico l\\xedder en noticias y clasificados\"/>\\n<meta name=\"generator\" content=\"Drupal 7 (http://drupal.org)\"/>\\n<link rel=\"canonical\" href=\"http://www.eluniversal.com.mx/cartera/economia\"/>\\n<link rel=\"shortlink\" href=\"http://www.eluniversal.com.mx/taxonomy/term/652\"/>\\n<meta property=\"og:site_name\" content=\"El Universal\"/>\\n<meta property=\"og:type\" content=\"article\"/>\\n<meta property=\"og:url\" content=\"http://www.eluniversal.com.mx/cartera/economia\"/>\\n<meta property=\"og:title\" content=\"El Universal | Econom\\xeda\"/>\\n<meta property=\"og:description\" content=\"El peri\\xf3dico de M\\xe9xico l\\xedder en noticias y clasificados\"/>\\n<meta property=\"og:image\" content=\"http://www.eluniversal.com.mx/sites/all/themes/universal/images/default600x315px.jpg\"/>\\n<meta name=\"twitter:card\" content=\"summary_large_image\"/>\\n<meta name=\"twitter:site\" content=\"@el_universal_mx\"/>\\n<meta name=\"twitter:creator\" content=\"@el_universal_mx\"/>\\n<meta name=\"twitter:url\" content=\"http://www.eluniversal.com.mx/cartera/economia\"/>\\n<meta name=\"twitter:title\" content=\"Econom\\xeda\"/>\\n<meta name=\"twitter:image:src\" content=\"http://www.eluniversal.com.mx/sites/all/themes/universal/images/default600x315px.jpg\"/>\\n \\n<link href=\"http://fonts.googleapis.com/css?family=Roboto:400,700\" rel=\"stylesheet\" type=\"text/css\"/>\\n<title>Econom\\xeda | El Universal</title>\\n \\n<meta name=\"application-name\" content=\"El Universal\"/>\\n<meta name=\"msapplication-TileColor\" content=\"#000000\"/>\\n<meta name=\"msapplication-square70x70logo\" content=\"/sites/all/themes/universal/images/ms/tiny.png\"/>\\n<meta name=\"msapplication-square150x150logo\" content=\"/sites/all/themes/universal/images/ms/square.png\"/>\\n<meta name=\"msapplication-wide310x150logo\" content=\"/sites/all/themes/universal/images/ms/wide.png\"/>\\n<meta name=\"msapplication-square310x310logo\" content=\"/sites/all/themes/universal/images/ms/large.png\"/>\\n<meta name=\"apple-itunes-app\" content=\"app-id=483272548, app-argument=eluniversal://www.eluniversal.com.mx/economia\"/>\\n<link type=\"text/css\" rel=\"stylesheet\" href=\"http://www.eluniversal.com.mx/sites/default/files/css/css_FFMDRYZ2nSV6HGDyDVpm9-yNY8H0IkhZ90k-a2N9jFE.css\" media=\"all\"/>\\n<link type=\"text/css\" rel=\"stylesheet\" href=\"http://www.eluniversal.com.mx/sites/default/files/css/css_17-jqTbt0OKjYH36UQBrVzXPKLFEnEy-pXt-mN_Z9ws.css\" media=\"all\"/>\\n<link type=\"text/css\" rel=\"stylesheet\" href=\"http://www.eluniversal.com.mx/sites/default/files/css/css_0s-VXfqilFsh7qv9TvU7zi0xg3y0xMvxVVwPwqEfco4.css\" media=\"screen\"/>\\n<link type=\"text/css\" rel=\"stylesheet\" href=\"http://www.eluniversal.com.mx/sites/default/files/css/css_aJ3JLw4i1l7lLvDix3Lo88AaSf2BFBsdTkT18OsyDwQ.css\" media=\"all\"/>\\n<link type=\"text/css\" rel=\"stylesheet\" href=\"http://www.eluniversal.com.mx/sites/default/files/css/css_47DEQpj8HBSa-_TImW-5JCeuQeRkm5NMpJWZG3hSuFU.css\" media=\"screen\"/>\\n<link type=\"text/css\" rel=\"stylesheet\" href=\"http://www.eluniversal.com.mx/sites/default/files/css/css_8X_Ns9i-9_8_XMawFfFXnP4_qERXHLp3tJ3xeH5d3LE.css\" media=\"all\"/>\\n<link type=\"text/css\" rel=\"stylesheet\" href=\"http://www.eluniversal.com.mx/sites/default/files/css/css_idKyjP195rufhd_iLbgnJEbYqMLbzKBMqVbFP8Ep8rA.css\" media=\"all\"/>\\n<link type=\"text/css\" rel=\"stylesheet\" href=\"http://www.eluniversal.com.mx/sites/default/files/dfp/dfptemp.css\" media=\"all\"/>\\n<link type=\"text/css\" rel=\"stylesheet\" href=\"http://www.eluniversal.com.mx/sites/default/files/css/css_8DN1Hp-_aw9Q7PIf6mTzMrine5uvYuDqEZq97lPX0bg.css\" media=\"all\"/>\\n<link type=\"text/css\" rel=\"stylesheet\" href=\"http://www.eluniversal.com.mx/sites/default/files/css/css_47DEQpj8HBSa-_TImW-5JCeuQeRkm5NMpJWZG3hSuFU.css\" media=\"all\"/>\\n<link type=\"text/css\" rel=\"stylesheet\" href=\"http://www.eluniversal.com.mx/sites/default/files/css/css_r_E04-lXXgnsYD53BJVCvlHE4Pwt6vB8ZLY8OJdvC4Q.css\" media=\"all\"/>\\n<!--[if (lt IE 9)&(!IEMobile)]>\\n<link type=\"text/css\" rel=\"stylesheet\" href=\"http://www.eluniversal.com.mx/sites/default/files/css/css_StIqDdnCdtDc1S8XZyvX2pmDnKlI9sFD5mY9m-slMi8.css\" media=\"all\" />\\n<![endif]-->\\n<!--[if gte IE 9]><!-->\\n<link type=\"text/css\" rel=\"stylesheet\" href=\"http://www.eluniversal.com.mx/sites/default/files/css/css_LwsSKyMYzgnAxUdwomI2_EB7CC26nbCt21ZvIcYcbUk.css\" media=\"all\"/>\\n<!--<![endif]-->\\n<!--[if lte IE 9]>\\n<link type=\"text/css\" rel=\"stylesheet\" href=\"http://www.eluniversal.com.mx/sites/all/themes/universal/css/ie-lte-9.css?oh42in\" media=\"all\" />\\n<![endif]-->\\n<!--[if lte IE 8]>\\n<link type=\"text/css\" rel=\"stylesheet\" href=\"http://www.eluniversal.com.mx/sites/all/themes/universal/css/ie-lte-8.css?oh42in\" media=\"all\" />\\n<![endif]-->\\n<script type=\"text/javascript\" src=\"http://www.eluniversal.com.mx/sites/default/files/js/js_YzKe7n2M1zwBqEm7n0dXwNFVrn6ao9AMGOrIRGGy3G4.js\"/>\\n<script type=\"text/javascript\" src=\"http://www.eluniversal.com.mx/sites/default/files/js/js_Y-C79XPAMy24ZbeIhT0FWpSleighBSzRlTcQ04hAz40.js\"/>\\n<script type=\"text/javascript\" src=\"http://www.eluniversal.com.mx/sites/all/libraries/imediaelement/build/mediaelement.min.js?v=2.1.6\"/>\\n<script type=\"text/javascript\" src=\"http://www.eluniversal.com.mx/sites/default/files/js/js_t5yTpZge4Mu5DTfJa9cV9QG1igb9v4ne0rze8ISGi_c.js\"/>\\n<script type=\"text/javascript\" src=\"http://www.eluniversal.com.mx/sites/default/files/js/js_6uMVSUgDf9ldb_NCxvCamFQoenOq-XcovWYUCJT4HIU.js\"/>\\n<script type=\"text/javascript\" src=\"http://cdnapi.kaltura.com/p/2051731/sp/205173100/embedIframeJs/uiconf_id/32736212/partner_id/2051731\"/>\\n<script type=\"text/javascript\" src=\"http://www.eluniversaltv.com.mx/js/euVideoTV.js\"/>\\n<script type=\"text/javascript\" src=\"http://www.eluniversaltv.com.mx/js/kalscript.js\"/>\\n<script type=\"text/javascript\" src=\"http://www.eluniversaltv.com.mx/js/streamsense2.js\"/>\\n<script type=\"text/javascript\" src=\"http://www.eluniversal.com.mx/sites/default/files/js/js_xgH0tY1D0C_1KbcGFJXs8sIOpOMMQtOdKoyohOBdVtc.js\"/>\\n<script type=\"text/javascript\">\\n&lt;!--//--&gt;&lt;![CDATA[//&gt;&lt;!--\\n(function(i,s,o,g,r,a,m){i[\"GoogleAnalyticsObject\"]=r;i[r]=i[r]||function(){(i[r].q=i[r].q||[]).push(arguments)},i[r].l=1*new Date();a=s.createElement(o),m=s.getElementsByTagName(o)[0];a.async=1;a.src=g;m.parentNode.insertBefore(a,m)})(window,document,\"script\",\"//www.google-analytics.com/analytics.js\",\"ga\");ga(\"create\", \"UA-5566785-56\", \"auto\");ga(\"set\", \"anonymizeIp\", true);ga(\"send\", \"pageview\");\\n//--&gt;&lt;!]]&gt;\\n</script>\\n<script type=\"text/javascript\" src=\"http://www.eluniversal.com.mx/sites/default/files/js/js_w20c_Hwnru5cJ7dNI0xscwusSjwt7SlGHHXbqaQPwEk.js\"/>\\n<script type=\"text/javascript\" src=\"http://www.eluniversal.com.mx/sites/default/files/js/js_CaJsg1TuxWoAU6Oz05SMjvpwchsUJNbs_pzZsKquOek.js\"/>\\n<script type=\"text/javascript\">\\n&lt;!--//--&gt;&lt;![CDATA[//&gt;&lt;!--\\n\\n    var _sf_async_config = _sf_async_config || {};\\n    /** CONFIGURATION START **/\\n    _sf_async_config.uid = 64338; // ACCOUNT NUMBER EU\\n    _sf_async_config.domain = \"eluniversal.com.mx\"; // DOMAIN \\n    _sf_async_config.flickerControl = false;\\n    _sf_async_config.useCanonical = true;\\n    /** CONFIGURATION END **/\\n    var _sf_startpt = (new Date()).getTime();\\n//--&gt;&lt;!]]&gt;\\n</script>\\n<script type=\"text/javascript\" src=\"http://www.eluniversal.com.mx/sites/default/files/js/js_s-H04-jCGCLbgS34O_7df4Ve7Gc2PqEIEBdu1q528EA.js\"/>\\n<script type=\"text/javascript\">\\n&lt;!--//--&gt;&lt;![CDATA[//&gt;&lt;!--\\n\\n        &lt;!------ Inicio Ad Server de Google DFP ------&gt;\\n        (function() {\\n            var useSSL = \\'https:\\' == document.location.protocol;\\n            var src = (useSSL ? \\'https:\\' : \\'http:\\') +\\n            \\'//www.googletagservices.com/tag/js/gpt.js\\';\\n            document.write(\\'&lt;scr\\' + \\'ipt src=\"\\' + src + \\'\"&gt;&lt;/scr\\' + \\'ipt&gt;\\');\\n        })();\\n//--&gt;&lt;!]]&gt;\\n</script>\\n<script type=\"text/javascript\">\\n&lt;!--//--&gt;&lt;![CDATA[//&gt;&lt;!--\\n\\n\\n            var slots = {};\\n            googletag.cmd.push(function() {\\n\\n            var mapping_billboard = googletag.sizeMapping().\\n                addSize([320, 400], [[320, 50], [300, 50]]).\\n                addSize([320, 700], [[320, 50], [300, 50]]).\\n                addSize([480, 200], [[320, 50], [300, 50]]).\\n                addSize([768, 200], [0, 0]).\\n                addSize([980, 200], [[728, 90],[970,90]]).\\n                addSize([1000, 200],[[728, 90], [970,250], [970, 90], [980, 65],[980, 250]]).\\n              build();\\n\\n            var mapping_leaderboard_superleaderboard = googletag.sizeMapping().\\n                addSize([320, 400], [[320, 50], [300, 50]]).\\n                addSize([320, 700], [[320, 50], [300, 50]]).\\n                addSize([480, 200], [[320, 50], [300, 50]]).\\n                addSize([768, 200], [728,90]).\\n                addSize([980, 200], [[728,90], [970,90],[980, 250]]).\\n                addSize([1000, 200], [[728,90], [970,90],[980, 250]]).\\n              build();\\n\\n            var mapping_right = googletag.sizeMapping().\\n                addSize([320, 400], [[300,250], [300,600], [300,400], [300,100]]).\\n                addSize([320, 700], [[300,250], [300,600], [300,400], [300,100]]).\\n                addSize([480, 200], [[300,250], [300,600], [300,400], [300,100]]).\\n                addSize([768, 200], [0,0]).\\n                addSize([980, 200], [[300,250], [300,600], [300,400], [300,100]]).\\n                addSize([1000, 200], [[300,250], [300,600], [300,400], [300,100]]).\\n              build();\\n\\n            var mapping_skin = googletag.sizeMapping().\\n                addSize([320, 400], [0,0]).\\n                addSize([320, 700], [0,0]).\\n                addSize([480, 200], [0,0]).\\n                addSize([768, 200], [0,0]).\\n                addSize([980, 200], [0,0]).\\n                addSize([1000, 200], [[120,600],[120,960], [160,600],[160,960], [130, 1260]]).\\n              build();\\n\\n            var mapping_libre_left = googletag.sizeMapping().\\n                addSize([320, 400], [300,250]).\\n                addSize([320, 700], [300,250]).\\n                addSize([480, 200], [300,250]).\\n                addSize([768, 200], [300,250]).\\n                addSize([980, 200], [[300,250], [440,370]]).\\n                addSize([1000, 200], [[300,250], [440,370]]).\\n              build();\\n\\n            var mapping_libre_right = googletag.sizeMapping().\\n                addSize([320, 400], [300,250]).\\n                addSize([320, 700], [300,250]).\\n                addSize([480, 200], [300,250]).\\n                addSize([768, 200], [0,0]).\\n                addSize([980, 200], [[300,250],[300,90],[325,90],[120,60]]).\\n                addSize([1000, 200], [[300,250],[300,90],[325,90],[120,60]]).\\n              build();\\n\\n            var mapping_libre_center = googletag.sizeMapping().\\n                addSize([320, 400], [[150,240], [120,60]]).\\n                addSize([320, 700], [[150,240], [120,60]]).\\n                addSize([480, 200], [[150,240], [120,60]]).\\n                addSize([768, 200], [0,0]).\\n                addSize([980, 200], [[150,240], [120,60]]).\\n                addSize([1000, 200], [[150,240], [120,60]]).\\n              build();\\n\\n            var mapping_libre_top = googletag.sizeMapping().\\n                addSize([320, 400], [0,0]).\\n                addSize([320, 700], [0,0]).\\n                addSize([480, 200], [0,0]).\\n                addSize([768, 200], [0,0]).\\n                addSize([980, 200], [[300,90], [325,90], [120,60]]).\\n                addSize([1000, 200], [[300,90], [325,90], [120,60]]).\\n              build();\\n\\n            var mapping_layer = googletag.sizeMapping().\\n                addSize([320, 400], [0,0]).\\n                addSize([320, 700], [0,0]).\\n                addSize([480, 200], [0,0]).\\n                addSize([768, 200], [400,400]).\\n                addSize([980, 200],[400,400]).\\n                addSize([1000, 200],[400,400]).\\n             build();\\n\\n\\n        var width = window.innerWidth || document.documentElement.clientWidth;\\n\\n            slots[\\'top1\\'] = googletag.defineSlot(\\'/178068052/www.eluniversal.com.mx/cartera/portada_top1\\', [980,65], \\'div-dfp-top1\\').defineSizeMapping(mapping_billboard).addService(googletag.pubads()).setCollapseEmptyDiv(true,true);\\n\\n\\n\\n        if (width &gt;= 768) {\\n        googletag.defineSlot(\\'/178068052/www.eluniversal.com.mx/cartera/portada_top2\\', [980,65],\\n          \\'div-dfp-top2\\').addService(googletag.pubads()).setCollapseEmptyDiv(true,true);\\n\\n\\n        \\n\\n         googletag.defineSlot(\\'/178068052/www.eluniversal.com.mx/cartera/portada_middle1\\', [150, 240], \\'div-dfp-middle1\\').defineSizeMapping(mapping_libre_center).addService(googletag.pubads()).setCollapseEmptyDiv(true,true);\\n    \\n            googletag.defineSlot(\\'/178068052/www.eluniversal.com.mx/cartera/portada_skin1\\', [120, 600], \\'div-dfp-skin1\\').defineSizeMapping(mapping_skin).addService(googletag.pubads()).setCollapseEmptyDiv(true,true);\\n            googletag.defineSlot(\\'/178068052/www.eluniversal.com.mx/cartera/portada_skin2\\', [120, 600], \\'div-dfp-skin2\\').defineSizeMapping(mapping_skin).addService(googletag.pubads()).setCollapseEmptyDiv(true,true);\\n\\n            googletag.defineSlot(\\'/178068052/www.eluniversal.com.mx/cartera/portada_bottom1\\', [970, 90], \\'div-dfp-bottom1\\').defineSizeMapping(mapping_leaderboard_superleaderboard).addService(googletag.pubads()).setCollapseEmptyDiv(true,true);\\n           \\n\\n            googletag.defineSlot(\\'/178068052/www.eluniversal.com.mx/cartera/portada_right1\\', [300, 250], \\'div-dfp-right1\\').defineSizeMapping(mapping_right).addService(googletag.pubads()).setCollapseEmptyDiv(true,true);\\n            googletag.defineSlot(\\'/178068052/www.eluniversal.com.mx/cartera/portada_right2\\', [300, 250], \\'div-dfp-right2\\').defineSizeMapping(mapping_right).addService(googletag.pubads()).setCollapseEmptyDiv(true,true);\\n            googletag.defineSlot(\\'/178068052/www.eluniversal.com.mx/cartera/portada_right3\\', [300, 250], \\'div-dfp-right3\\').defineSizeMapping(mapping_right).addService(googletag.pubads()).setCollapseEmptyDiv(true,true);\\n            googletag.defineSlot(\\'/178068052/www.eluniversal.com.mx/cartera/portada_right4\\', [300, 250], \\'div-dfp-right4\\').defineSizeMapping(mapping_right).addService(googletag.pubads()).setCollapseEmptyDiv(true,true);\\n            googletag.defineSlot(\\'/178068052/www.eluniversal.com.mx/cartera/portada_right5\\', [300, 250], \\'div-dfp-right5\\').defineSizeMapping(mapping_right).addService(googletag.pubads()).setCollapseEmptyDiv(true,true);\\n\\n            googletag.defineSlot(\\'/178068052/www.eluniversal.com.mx/cartera/portada_right6\\', [300, 250], \\'div-dfp-right6\\').defineSizeMapping(mapping_right).addService(googletag.pubads()).setCollapseEmptyDiv(true,true);\\n\\n                googletag.defineSlot(\\'/178068052/www.eluniversal.com.mx/cartera/portada_right7\\', [300, 250], \\'div-dfp-right7\\').defineSizeMapping(mapping_right).addService(googletag.pubads()).setCollapseEmptyDiv(true,true);\\n\\n                \\n\\n            googletag.defineSlot(\\'/178068052/www.eluniversal.com.mx/cartera/portada_bottom_leaderboard\\', [728, 90], \\'div-dfp-bottom_leaderboard\\'). defineSizeMapping(mapping_leaderboard_superleaderboard).addService(googletag.pubads()).setCollapseEmptyDiv(true,true);\\n\\n        }\\n\\n        if (width &gt;= 320 &amp;&amp; width &lt; 768) {\\n\\n                  googletag.defineSlot(\\'/178068052/www.eluniversal.com.mx/cartera/portada_right1\\', [300, 250], \\'div-dfp-right1\\').defineSizeMapping(mapping_right).addService(googletag.pubads()).setCollapseEmptyDiv(true,true);\\n            googletag.defineSlot(\\'/178068052/www.eluniversal.com.mx/cartera/portada_right2\\', [300, 250], \\'div-dfp-right2\\').defineSizeMapping(mapping_right).addService(googletag.pubads()).setCollapseEmptyDiv(true,true);\\n            googletag.defineSlot(\\'/178068052/www.eluniversal.com.mx/cartera/portada_right3\\', [300, 250], \\'div-dfp-right3\\').defineSizeMapping(mapping_right).addService(googletag.pubads()).setCollapseEmptyDiv(true,true);\\n            googletag.defineSlot(\\'/178068052/www.eluniversal.com.mx/cartera/portada_right4\\', [300, 250], \\'div-dfp-right4\\').defineSizeMapping(mapping_right).addService(googletag.pubads()).setCollapseEmptyDiv(true,true);\\n            googletag.defineSlot(\\'/178068052/www.eluniversal.com.mx/cartera/portada_right5\\', [300, 250], \\'div-dfp-right5\\').defineSizeMapping(mapping_right).addService(googletag.pubads()).setCollapseEmptyDiv(true,true);\\n            googletag.defineSlot(\\'/178068052/www.eluniversal.com.mx/cartera/portada_right6\\', [300, 250], \\'div-dfp-right6\\').defineSizeMapping(mapping_right).addService(googletag.pubads()).setCollapseEmptyDiv(true,true);\\n\\n                googletag.defineSlot(\\'/178068052/www.eluniversal.com.mx/cartera/portada_right7\\', [300, 250], \\'div-dfp-right7\\').defineSizeMapping(mapping_right).addService(googletag.pubads()).setCollapseEmptyDiv(true,true);\\n\\n                \\n\\n        }\\n\\n        \\n\\n        \\n            googletag.defineSlot(\\'/178068052/www.eluniversal.com.mx/cartera/portada_left1\\', [300, 250], \\'div-dfp-left1\\').defineSizeMapping(mapping_libre_left).addService(googletag.pubads()).setCollapseEmptyDiv(true,true);\\n            googletag.defineSlot(\\'/178068052/www.eluniversal.com.mx/cartera/portada_left2\\', [300, 250], \\'div-dfp-left2\\').defineSizeMapping(mapping_libre_left).addService(googletag.pubads()).setCollapseEmptyDiv(true,true);\\n            googletag.defineSlot(\\'/178068052/www.eluniversal.com.mx/cartera/portada_left3\\', [300, 250], \\'div-dfp-left3\\').defineSizeMapping(mapping_libre_left).addService(googletag.pubads()).setCollapseEmptyDiv(true,true);\\n    \\n        googletag.defineOutOfPageSlot(\\'/178068052/www.eluniversal.com.mx/cartera/portada_takeover\\', \\'div-dfp-takeover\\').addService(googletag.pubads());\\n        \\n        googletag.pubads().enableSyncRendering();\\n         /* googletag.pubads().enableSingleRequest(); */\\n\\n        \\n        googletag.enableServices();\\n        });\\n        &lt;!------ Fin de Ad Server de Google DFP ------&gt;\\n\\n        //top1 se almacena en un objeto slots[slotname] para refrescarlo dinamicamente con esta funcion desde las galerias de manera asincrona\\n        refreshAds = function(slotname) {\\n          googletag.pubads().refresh([slots[slotname]]);\\n        };\\n        \\n//--&gt;&lt;!]]&gt;\\n</script>\\n<script type=\"text/javascript\">\\n&lt;!--//--&gt;&lt;![CDATA[//&gt;&lt;!--\\n&lt;!-- NEWSROOM SCRIPT --&gt; &lt;script&gt; window._newsroom = window._newsroom || []; !function (e, f, u) { e.async = 1; e.src = u; f.parentNode.insertBefore(e, f); }(document.createElement(\\'script\\'), document.getElementsByTagName(\\'script\\')[0], \\'//c2.taboola.com/nr/eluniversal-eluniversal/newsroom.js\\'); </script>  \\n\\n<script type=\"text/javascript\">\\n&lt;!--//--&gt;&lt;![CDATA[//&gt;&lt;!--\\njQuery.extend(Drupal.settings, {\"basePath\":\"\\\\/\",\"pathPrefix\":\"\",\"ajaxPageState\":{\"theme\":\"universal\",\"theme_token\":\"EqHpzUCzs1dR7-ahgTmxx2ZJkhV8abrLsT9L53GaPco\",\"js\":{\"sites\\\\/all\\\\/libraries\\\\/owl-carousel\\\\/owl.carousel.min.js\":1,\"http:\\\\/\\\\/b.scorecardresearch.com\\\\/c2\\\\/6906641\\\\/cs.js\":1,\"0\":1,\"1\":1,\"\\\\/sites\\\\/all\\\\/themes\\\\/universal\\\\/js\\\\/grid.js\":1,\"sites\\\\/all\\\\/modules\\\\/jquery_update\\\\/replace\\\\/jquery\\\\/1.7\\\\/jquery.min.js\":1,\"misc\\\\/jquery.once.js\":1,\"misc\\\\/drupal.js\":1,\"sites\\\\/all\\\\/modules\\\\/jquery_update\\\\/replace\\\\/ui\\\\/ui\\\\/minified\\\\/jquery.ui.core.min.js\":1,\"sites\\\\/all\\\\/modules\\\\/jquery_update\\\\/replace\\\\/ui\\\\/ui\\\\/minified\\\\/jquery.ui.widget.min.js\":1,\"sites\\\\/all\\\\/libraries\\\\/imediaelement\\\\/build\\\\/mediaelement.min.js\":1,\"sites\\\\/all\\\\/modules\\\\/jquery_update\\\\/replace\\\\/ui\\\\/ui\\\\/minified\\\\/jquery.ui.tabs.min.js\":1,\"https:\\\\/\\\\/ajax.googleapis.com\\\\/ajax\\\\/libs\\\\/angularjs\\\\/1.2.11\\\\/angular.min.js\":1,\"https:\\\\/\\\\/ajax.googleapis.com\\\\/ajax\\\\/libs\\\\/angularjs\\\\/1.2.11\\\\/angular-sanitize.min.js\":1,\"sites\\\\/all\\\\/modules\\\\/angularjs\\\\/js\\\\/angular_resource.js\":1,\"sites\\\\/all\\\\/modules\\\\/lazyloader\\\\/jquery.lazyloader.js\":1,\"http:\\\\/\\\\/cdnapi.kaltura.com\\\\/p\\\\/2051731\\\\/sp\\\\/205173100\\\\/embedIframeJs\\\\/uiconf_id\\\\/32736212\\\\/partner_id\\\\/2051731\":1,\"http:\\\\/\\\\/www.eluniversaltv.com.mx\\\\/js\\\\/euVideoTV.js\":1,\"http:\\\\/\\\\/www.eluniversaltv.com.mx\\\\/js\\\\/kalscript.js\":1,\"http:\\\\/\\\\/www.eluniversaltv.com.mx\\\\/js\\\\/streamsense2.js\":1,\"public:\\\\/\\\\/languages\\\\/es_3dCAqElPXH6R_cBDjWT_vayfAXIxnYIIVsCvMjNyoJw.js\":1,\"sites\\\\/all\\\\/modules\\\\/imediaelement\\\\/imediaelement.min.js\":1,\"sites\\\\/all\\\\/modules\\\\/panels_tabs\\\\/js\\\\/panels_tabs.js\":1,\"sites\\\\/all\\\\/modules\\\\/google_analytics\\\\/googleanalytics.js\":1,\"2\":1,\"sites\\\\/all\\\\/modules\\\\/eluniversal\\\\/dfp_uni\\\\/dfp_uni.js\":1,\"sites\\\\/all\\\\/modules\\\\/custom\\\\/el_universal\\\\/aviso_oportuno\\\\/js\\\\/scripts.js\":1,\"sites\\\\/all\\\\/themes\\\\/omega\\\\/omega\\\\/js\\\\/jquery.formalize.js\":1,\"sites\\\\/all\\\\/themes\\\\/omega\\\\/omega\\\\/js\\\\/omega-mediaqueries.js\":1,\"sites\\\\/all\\\\/themes\\\\/omega\\\\/omega\\\\/js\\\\/omega-equalheights.js\":1,\"3\":1,\"sites\\\\/all\\\\/themes\\\\/universal\\\\/js\\\\/scripts.js\":1,\"sites\\\\/all\\\\/themes\\\\/universal\\\\/js\\\\/menu_header.js\":1,\"4\":1,\"5\":1,\"6\":1},\"css\":{\"modules\\\\/system\\\\/system.base.css\":1,\"modules\\\\/system\\\\/system.menus.css\":1,\"modules\\\\/system\\\\/system.messages.css\":1,\"sites\\\\/all\\\\/libraries\\\\/imediaelement\\\\/build\\\\/mediaelementplayer.min.css\":1,\"misc\\\\/ui\\\\/jquery.ui.core.css\":1,\"misc\\\\/ui\\\\/jquery.ui.theme.css\":1,\"misc\\\\/ui\\\\/jquery.ui.tabs.css\":1,\"sites\\\\/all\\\\/libraries\\\\/owl-carousel\\\\/owl.carousel.css\":1,\"sites\\\\/all\\\\/libraries\\\\/owl-carousel\\\\/owl.theme.css\":1,\"sites\\\\/all\\\\/libraries\\\\/owl-carousel\\\\/owl.transitions.css\":1,\"sites\\\\/all\\\\/modules\\\\/date\\\\/date_api\\\\/date.css\":1,\"sites\\\\/all\\\\/modules\\\\/date\\\\/date_popup\\\\/themes\\\\/datepicker.1.7.css\":1,\"modules\\\\/field\\\\/theme\\\\/field.css\":1,\"sites\\\\/all\\\\/modules\\\\/find_content\\\\/find_content.css\":1,\"modules\\\\/node\\\\/node.css\":1,\"sites\\\\/all\\\\/modules\\\\/panopoly_core\\\\/css\\\\/panopoly-dropbutton.css\":1,\"modules\\\\/search\\\\/search.css\":1,\"modules\\\\/user\\\\/user.css\":1,\"sites\\\\/all\\\\/modules\\\\/views\\\\/css\\\\/views.css\":1,\"sites\\\\/all\\\\/modules\\\\/lazyloader\\\\/lazyloader.css\":1,\"sites\\\\/all\\\\/modules\\\\/ckeditor\\\\/css\\\\/ckeditor.css\":1,\"sites\\\\/all\\\\/modules\\\\/panels\\\\/css\\\\/panels.css\":1,\"sites\\\\/all\\\\/modules\\\\/panels\\\\/plugins\\\\/layouts\\\\/onecol\\\\/onecol.css\":1,\"sites\\\\/all\\\\/modules\\\\/eluniversal\\\\/medallero\\\\/medallero.css\":1,\"sites\\\\/all\\\\/modules\\\\/node_embed\\\\/plugins\\\\/node_embed\\\\/node_embed.css\":1,\"http:\\\\/\\\\/www.eluniversal.com.mx\\\\/sites\\\\/default\\\\/files\\\\/dfp\\\\/dfptemp.css\":1,\"sites\\\\/all\\\\/modules\\\\/eluniversal\\\\/extra\\\\/extra.css\":1,\"sites\\\\/all\\\\/themes\\\\/universal\\\\/ajustes.css\":1,\"sites\\\\/all\\\\/themes\\\\/universal\\\\/v_global.css\":1,\"sites\\\\/all\\\\/themes\\\\/universal\\\\/h_goblal.css\":1,\"sites\\\\/all\\\\/themes\\\\/universal\\\\/footer.css\":1,\"sites\\\\/all\\\\/themes\\\\/omega\\\\/alpha\\\\/css\\\\/alpha-reset.css\":1,\"sites\\\\/all\\\\/themes\\\\/omega\\\\/alpha\\\\/css\\\\/alpha-mobile.css\":1,\"sites\\\\/all\\\\/themes\\\\/omega\\\\/alpha\\\\/css\\\\/alpha-alpha.css\":1,\"sites\\\\/all\\\\/themes\\\\/omega\\\\/omega\\\\/css\\\\/formalize.css\":1,\"sites\\\\/all\\\\/themes\\\\/omega\\\\/omega\\\\/css\\\\/omega-text.css\":1,\"sites\\\\/all\\\\/themes\\\\/omega\\\\/omega\\\\/css\\\\/omega-branding.css\":1,\"sites\\\\/all\\\\/themes\\\\/omega\\\\/omega\\\\/css\\\\/omega-menu.css\":1,\"sites\\\\/all\\\\/themes\\\\/omega\\\\/omega\\\\/css\\\\/omega-forms.css\":1,\"sites\\\\/all\\\\/themes\\\\/universal\\\\/css\\\\/global.css\":1,\"sites\\\\/all\\\\/themes\\\\/universal\\\\/css\\\\/footer.css\":1,\"ie::normal::sites\\\\/all\\\\/themes\\\\/universal\\\\/css\\\\/universal-universal-default.css\":1,\"ie::normal::sites\\\\/all\\\\/themes\\\\/universal\\\\/css\\\\/universal-universal-default-normal.css\":1,\"ie::normal::sites\\\\/all\\\\/themes\\\\/universal\\\\/css\\\\/grid\\\\/universal_default\\\\/normal\\\\/universal-default-normal-24.css\":1,\"narrow::sites\\\\/all\\\\/themes\\\\/universal\\\\/css\\\\/universal-universal-default.css\":1,\"narrow::sites\\\\/all\\\\/themes\\\\/universal\\\\/css\\\\/universal-universal-default-narrow.css\":1,\"sites\\\\/all\\\\/themes\\\\/universal\\\\/css\\\\/grid\\\\/universal_default\\\\/narrow\\\\/universal-default-narrow-24.css\":1,\"normal::sites\\\\/all\\\\/themes\\\\/universal\\\\/css\\\\/universal-universal-default.css\":1,\"normal::sites\\\\/all\\\\/themes\\\\/universal\\\\/css\\\\/universal-universal-default-normal.css\":1,\"sites\\\\/all\\\\/themes\\\\/universal\\\\/css\\\\/grid\\\\/universal_default\\\\/normal\\\\/universal-default-normal-24.css\":1,\"sites\\\\/all\\\\/themes\\\\/universal\\\\/css\\\\/ie-lte-9.css\":1,\"sites\\\\/all\\\\/themes\\\\/universal\\\\/css\\\\/ie-lte-8.css\":1}},\"imediaelementAll\":true,\"panelsTabs\":{\"tabsID\":[\"tabs-mp_secc_mxm_subsecciones-middle\"]},\"googleanalytics\":{\"trackOutbound\":1,\"trackMailto\":1,\"trackDownload\":1,\"trackDownloadExtensions\":\"7z|aac|arc|arj|asf|asx|avi|bin|csv|doc|exe|flv|gif|gz|gzip|hqx|jar|jpe?g|js|mp(2|3|4|e?g)|mov(ie)?|msi|msp|pdf|phps|png|ppt|qtm?|ra(m|r)?|sea|sit|tar|tgz|torrent|txt|wav|wma|wmv|wpd|xls|xml|z|zip\"},\"omega\":{\"layouts\":{\"primary\":\"normal\",\"order\":[\"narrow\",\"normal\"],\"queries\":{\"narrow\":\"all and (min-width: 740px) and (min-device-width: 740px), (max-device-width: 800px) and (min-width: 740px) and (orientation:landscape)\",\"normal\":\"all and (min-width: 980px) and (min-device-width: 980px), all and (max-device-width: 1024px) and (min-width: 1024px) and (orientation:landscape)\"}}},\"angularjsApp\":{\"restws_csrf_token\":\"sNMvciao0OZlKPtKti-Vp5VM_NAQDAcuJlY5N1rKh0Y\",\"basePath\":\"http:\\\\/\\\\/www.eluniversal.com.mx\\\\/\"}});\\n//--&gt;&lt;!]]&gt;\\n</script>\\n<script type=\"text/javascript\"> (function(d, s, id) { var js, fjs = d.getElementsByTagName(s)[0];  if (d.getElementById(id)){ return;} js = d.createElement(s);  js.id = id; js.async = true; js.src = \"//connect.facebook.net/es_LA/all.js#xfbml=1&amp;version=v2.3&amp;appId=163316950407128\";  fjs.parentNode.insertBefore(js, fjs); }(document, \"script\", \"facebook-jssdk\")); </script> <script type=\"text/javascript\">jQuery(document).ready(function($){$(\"body\").bind(\"copy paste\",function(event){var navType = $(\"body\").attr(\"data-browsername\");if (navType==\"MSIE\"){window.clipboardData.setData(\"Text\",\"Este material cuenta con derechos de propiedad intelectual. De no existir previa autorizaci\\xf3n por escrito de EL UNIVERSAL, Compa\\xf1\\xeda Period\\xedstica Nacional S. A. de C. V., queda expresamente prohibida la publicaci\\xf3n, retransmisi\\xf3n, distribuci\\xf3n, venta, edici\\xf3n y cualquier otro uso de los contenidos (Incluyendo, pero no limitado a, contenido, texto, fotograf\\xedas, audios, videos y logotipos). Si desea hacer uso de este contenido por favor comun\\xedquese a la Agencia de Noticias de El Universal, al 57091313 extensi\\xf3n 2425. Muchas gracias.\");}else{event.originalEvent.clipboardData.setData(\"Text\",\"Este material cuenta con derechos de propiedad intelectual. De no existir previa autorizaci\\xf3n por escrito de EL UNIVERSAL, Compa\\xf1\\xeda Period\\xedstica Nacional S. A. de C. V., queda expresamente prohibida la publicaci\\xf3n, retransmisi\\xf3n, distribuci\\xf3n, venta, edici\\xf3n y cualquier otro uso de los contenidos (Incluyendo, pero no limitado a, contenido, texto, fotograf\\xedas, audios, videos y logotipos). Si desea hacer uso de este contenido por favor comun\\xedquese a la Agencia de Noticias de El Universal, al 57091313 extensi\\xf3n 2425. Muchas gracias.\"); }event.preventDefault();return false;});});</script> <script type=\"text/javascript\">window._taboola=window._taboola||[],_taboola.push({article:\"auto\"}),!function(a,b,c,d){document.getElementById(d)||(a.async=1,a.src=c,a.id=d,b.parentNode.insertBefore(a,b))}(document.createElement(\"script\"),document.getElementsByTagName(\"script\")[0],\"//cdn.taboola.com/libtrc/eluniversal-eluniversal/loader.js\",\"tb_loader_script\");</script>\\n<script async=\"\" src=\"//static.chartbeat.com/js/chartbeat_mab.js\"/>\\n</head>\\n<body class=\"html not-front not-logged-in page-taxonomy page-taxonomy-term page-taxonomy-term- page-taxonomy-term-652 region-content context-cartera seccion-cartera seccion-economia\" role=\"main\" data-browsername=\"MSIE\">\\n<div id=\"skip-link\">\\n<a href=\"#main-content\" class=\"element-invisible element-focusable\">Pasar al contenido principal</a>\\n</div>\\n<div id=\"slotdiv-dfp-skin1\" class=\"slothide\"/>\\n<div id=\"div-dfp-skin1\" class=\"dfp_slot\">\\n<span class=\"line\">\\n<script type=\"text/javascript\">\\n\\t\\t  googletag.cmd.push(function() { googletag.display(\\'div-dfp-skin1\\'); });\\n \\t  </script>\\n</span>\\n</div>\\n<div id=\"slotdiv-dfp-skin2\" class=\"slothide\"/>\\n<div id=\"div-dfp-skin2\" class=\"dfp_slot\">\\n<span class=\"line\">\\n<script type=\"text/javascript\">\\n\\t\\t  googletag.cmd.push(function() { googletag.display(\\'div-dfp-skin2\\'); });\\n \\t  </script>\\n</span>\\n</div>\\n<div id=\"universal-header\">\\n<div id=\"menu-header-top\" class=\"ng-scope\">\\n<div data-ng-controller=\"menuHeaderTop\">\\n<div class=\"universal-header-top\">\\n<div id=\"universal-header-top-wrapper\" class=\"container-24\">\\n<div class=\"universal-publidad-top\">\\n<div id=\"slotdiv-dfp-top1\" class=\"slothide\"/>\\n<div id=\"div-dfp-top1\" class=\"dfp_slot\">\\n<span class=\"line\">\\n<script type=\"text/javascript\">\\n\\t\\t  googletag.cmd.push(function() { googletag.display(\\'div-dfp-top1\\'); });\\n \\t  </script>\\n</span>\\n</div>\\n</div>\\n<div class=\"universal-menus-top content clearfix\">\\n<div class=\"menu-adicional grid-19 alpha\">\\n<ul class=\"menu menu-header-top\">\\n<li id=\"aviso\" class=\"menuheadertopitemAvisos\">\\n<a>Aviso Oportuno</a>\\n</li>\\n<li id=\"revistas\" class=\"menuheadertopitem\">\\n<a data-ng-click=\"loadMenuTop(\\'revistas\\')\">Revistas</a>\\n</li>\\n<li id=\"blogs\" class=\"menuheadertopitem\">\\n<a data-ng-click=\"loadMenuTop(\\'blogs\\')\">Blogs</a>\\n</li>\\n<li id=\"servicios\" class=\"menuheadertopitem\">\\n<a data-ng-click=\"loadMenuTop(\\'servicios\\')\">Servicios</a>\\n</li>\\n</ul>\\n</div>\\n<div class=\"redes-sociales grid-5 omega\">\\n<div class=\"rss grid-1 alpha\"><a href=\"/rss.xml\" target=\"_blank\"/></div>\\n<div class=\"gplus grid-1\"><a href=\"https://plus.google.com/u/0/113072350473630684383/posts\" target=\"_blank\"/></div>\\n<div class=\"twitter grid-1\"><a href=\"https://twitter.com/El_Universal_Mx\" target=\"_blank\"/></div>\\n<div class=\"facebook grid-1\"><a href=\"https://www.facebook.com/ElUniversalOnline\" target=\"_blank\"/></div>\\n<div class=\"miuniversal grid-1\"><a href=\"http://miuni.eluniversal.com.mx/\" target=\"_blank\"/></div>\\n</div>\\n<div class=\"menuheadertopAvisos pane-aviso-oportuno\" style=\"display:none\" data-ng-show=\"customTopAvisos\">\\n<div class=\"aviso-oportuno-inmuebles grid-12 alpha\">\\n<div class=\"Inmuebles\">\\n<a href=\"http://www.avisooportuno.mx/inmuebles/\" target=\"_blank\">Inmuebles</a></div>\\n<input type=\"hidden\" class=\"url-aviso-oportuno-1\" value=\"http://image.eluniversal.com.mx/sites/default/files/ao/inmuebles.json\"/>\\n<div class=\"owl-demo-1 owl-carousel\">\\n</div>\\n</div>\\n<div class=\"aviso oportuno-autos grid-12 omega\">\\n<div class=\"Vehiculos\">\\n<a href=\"http://www.avisooportuno.mx/vehiculos/\" target=\"_blank\">Vehiculos</a></div>\\n<input type=\"hidden\" class=\"url-aviso-oportuno-2\" value=\"http://image.eluniversal.com.mx/sites/default/files/ao/vehiculos.json\"/>\\n<div class=\"owl-demo-2 owl-carousel\">\\n</div>\\n</div>\\n</div>\\n<div class=\"loader\"/>\\n<div class=\"menuheadertop\" data-compile=\"menu_header_top\" data-ng-show=\"customTop\"/>\\n</div>\\n</div>\\n</div>\\n</div>\\n</div>\\n<div class=\"universal-header-middle container-24\">\\n<div class=\"clear\"/>\\n</div>\\n<div id=\"menu-header\" class=\"ng-scope\">\\n<div data-ng-controller=\"menuHeader\">\\n<div id=\"universal-header-bottom\" class=\"container-24\">\\n<div class=\"universal-boton-despliega\">\\n<a id=\"universal-menu-primero\" href=\"#\" class=\"boton-menu-desplegable\">\\n<div class=\"boton-link\"/>\\n</a>\\n</div>\\n<div id=\"universallogosecundario\" class=\"universal-logo-secundario cien-universal\"><a href=\"/\"/></div> <div class=\"universal-menu-segundo\">\\n<div>\\n<ul class=\"menu menu-header\">\\n<li id=\"fotos\" class=\"menuheaderitem\">\\n<a href=\"/galerias\" data-ng-mouseenter=\"loadMenu(\\'fotos\\')\">FOTOS</a>\\n</li>\\n<li id=\"universaltv\" class=\"menuheaderitem\">\\n<a href=\"http://www.eluniversaltv.com.mx/\" target=\"_blank\" data-ng-mouseenter=\"loadMenu(\\'universaltv\\')\">EL UNIVERSAL TV</a>\\n</li>\\n<li id=\"graficos\" class=\"menuheaderitem\">\\n<a href=\"/graficos\" data-ng-mouseenter=\"loadMenu(\\'graficos\\')\">GR\\xc1FICOS</a>\\n</li>\\n</ul>\\n</div>\\n</div>\\n<div class=\"universal-menu-tercero\">\\n<div>\\n<ul class=\"menu menu-header\">\\n<li id=\"mxm\" class=\"menuheaderitem\">\\n<a href=\"/minuto-x-minuto\" data-ng-mouseenter=\"loadMenu(\\'mxm\\')\">MINUTO X MINUTO</a>\\n</li>\\n<li id=\"lmv\" class=\"menuheaderitem\">\\n<a data-ng-mouseenter=\"loadMenu(\\'lmv\\')\">LO M\\xc1S VISTO</a>\\n</li>\\n</ul>\\n</div>\\n</div>\\n<div class=\"universal-bloque-buscar\">\\n<form action=\"/busca\" method=\"get\" id=\"search-block-form\" accept-charset=\"UTF-8\"><div><div class=\"container-inline\">\\n<h2 class=\"element-invisible\">Formulario de b\\xfasqueda</h2>\\n<div class=\"form-item form-type-textfield form-item-search-block-form\">\\n<label class=\"element-invisible\" for=\"edit-search-block-form--2\">T\\xe9rmino de b\\xfasqueda </label>\\n<input title=\"Escriba lo que quiere buscar.\" placeholder=\"T\\xe9rmino de b\\xfasqueda\" class=\"universal-header-buscador form-text\" type=\"search\" id=\"edit-search-block-form--2\" name=\"search_block_form\" value=\"\" size=\"18\" maxlength=\"128\"/>\\n</div>\\n<div class=\"form-actions form-wrapper\" id=\"edit-actions\"><input alt=\"B\\xfascar\" type=\"image\" src=\"/sites/all/themes/universal/images/buscar.png\" class=\"form-submit\"/></div><input type=\"hidden\" name=\"form_build_id\" value=\"form-AGjEOT4sFE3vPH35EkAdmF8ZiJG3cXkfTXJLpBorOuY\"/>\\n<input type=\"hidden\" name=\"form_id\" value=\"search_block_form\"/>\\n</div>\\n</div></form> </div>\\n<div class=\"clear\"/>\\n<div class=\"universal-secciones-desplegable menu-desplegable\">\\n<ul class=\"menu\"><li class=\"first expanded nacion\"><a href=\"/nacion\" title=\"Naci\\xf3n\">Naci\\xf3n</a><ul class=\"menu\"><li class=\"first leaf\"><a href=\"/nacion/seguridad\" title=\"Seguridad\">Seguridad</a></li>\\n<li class=\"leaf\"><a href=\"/nacion/politica\" title=\"Pol\\xedtica\">Pol\\xedtica</a></li>\\n<li class=\"last leaf\"><a href=\"/nacion/sociedad\" title=\"Sociedad\">Sociedad</a></li>\\n</ul></li>\\n<li class=\"leaf mundo\"><a href=\"/mundo\" title=\"Mundo\">Mundo</a></li>\\n<li class=\"expanded metropoli\"><a href=\"/metropoli\" title=\"Metr\\xf3poli\">Metr\\xf3poli</a><ul class=\"menu\"><li class=\"first leaf\"><a href=\"/metropoli/cdmx\" title=\"D.F.\">D.F.</a></li>\\n<li class=\"last leaf\"><a href=\"/metropoli/edomex\" title=\"Edomex\">Edomex</a></li>\\n</ul></li>\\n<li class=\"leaf estados\"><a href=\"/estados\" title=\"Estados\" class=\"estados\">Estados</a></li>\\n<li class=\"leaf opinion\"><a href=\"/opinion\">Opini\\xf3n</a></li>\\n<li class=\"expanded cartera economia\"><a href=\"/cartera\" title=\"Cartera\">Cartera</a><ul class=\"menu\"><li class=\"first leaf\"><a href=\"/cartera/finanzas\" title=\"Finanzas\">Finanzas</a></li>\\n<li class=\"leaf\"><a href=\"/cartera/economia\" title=\"Econom\\xeda\" class=\"active\">Econom\\xeda</a></li>\\n<li class=\"leaf\"><a href=\"/cartera/negocios\" title=\"Negocios\">Negocios</a></li>\\n<li class=\"leaf\"><a href=\"/cartera/management\" title=\"Management\">Management</a></li>\\n<li class=\"leaf\"><a href=\"/cartera/emprendedor\" title=\"Emprendedores\">Emprendedores</a></li>\\n<li class=\"leaf\"><a href=\"/cartera/tu-cartera\" title=\"Tu cartera\">Tu cartera</a></li>\\n<li class=\"last leaf\"><a href=\"/cartera/indicadores\" title=\"Indicadores\">Indicadores</a></li>\\n</ul></li>\\n<li class=\"expanded deportes\"><a href=\"/deportes\" title=\"Deportes\">Deportes</a><ul class=\"menu\"><li class=\"first leaf\"><a href=\"/deportes/futbol\" title=\"F\\xfatbol\">F\\xfatbol</a></li>\\n<li class=\"leaf\"><a href=\"/deportes/box\" title=\"Box\">Box</a></li>\\n<li class=\"leaf\"><a href=\"/deportes/beisbol\" title=\"B\\xe9isbol\">B\\xe9isbol</a></li>\\n<li class=\"last leaf\"><a href=\"/deportes/mas-deportes\" title=\"M\\xe1s deportes\">M\\xe1s deportes</a></li>\\n</ul></li>\\n<li class=\"expanded espectaculos\"><a href=\"/espectaculos\" title=\"Espect\\xe1culos\">Espect\\xe1culos</a><ul class=\"menu\"><li class=\"first leaf\"><a href=\"/espectaculos/musica\" title=\"M\\xfasica\">M\\xfasica</a></li>\\n<li class=\"leaf\"><a href=\"/espectaculos/television\" title=\"Televisi\\xf3n\">Televisi\\xf3n</a></li>\\n<li class=\"leaf\"><a href=\"/espectaculos/cine\" title=\"Cine\">Cine</a></li>\\n<li class=\"leaf\"><a href=\"/espectaculos/teatro\" title=\"Teatro\">Teatro</a></li>\\n<li class=\"last leaf\"><a href=\"/espectaculos/farandula\" title=\"Far\\xe1ndula\">Far\\xe1ndula</a></li>\\n</ul></li>\\n<li class=\"expanded cultura\"><a href=\"/cultura\" title=\"Cultura\">Cultura</a><ul class=\"menu\"><li class=\"first leaf\"><a href=\"/cultura/letras\" title=\"Letras\">Letras</a></li>\\n<li class=\"leaf\"><a href=\"/cultura/artes-visuales\" title=\"Artes visuales\">Artes visuales</a></li>\\n<li class=\"leaf\"><a href=\"/cultura/artes-escenicas\" title=\"Artes esc\\xe9nicas\">Artes esc\\xe9nicas</a></li>\\n<li class=\"leaf\"><a href=\"/cultura/musica\" title=\"M\\xfasica\">M\\xfasica</a></li>\\n<li class=\"leaf\"><a href=\"/cultura/patrimonio\" title=\"Patrimonio\">Patrimonio</a></li>\\n<li class=\"last leaf\"><a href=\"/cultura/confabulario\" title=\"Confabulario\">Confabulario</a></li>\\n</ul></li>\\n<li class=\"leaf periodismo-de-datos\"><a href=\"/periodismo-de-datos\" title=\"Periodismo de datos\">Periodismo de datos</a></li>\\n<li class=\"leaf periodismo-de-investigacion\"><a href=\"/periodismo-de-investigacion\">Periodismo de investigaci\\xf3n</a></li>\\n<li class=\"leaf\"><a href=\"/tiempo-de-relojes\">Tiempo de relojes</a></li>\\n<li class=\"leaf\"><a href=\"/interiorismo\">Interiorismo</a></li>\\n<li class=\"expanded ciencia\"><a href=\"/ciencia-y-salud\" title=\"Ciencia y Salud\">Ciencia y Salud</a><ul class=\"menu\"><li class=\"first leaf\"><a href=\"/ciencia-y-salud/ciencia\" title=\"Ciencia\">Ciencia</a></li>\\n<li class=\"leaf\"><a href=\"/ciencia-y-salud/tecnologia\" title=\"Tecnolog\\xeda\">Tecnolog\\xeda</a></li>\\n<li class=\"last leaf\"><a href=\"/ciencia-y-salud/salud\" title=\"Salud\">Salud</a></li>\\n</ul></li>\\n<li class=\"leaf suplementos\"><a href=\"/techbit\" title=\"Techbit\" class=\"suplementos\">Techbit</a></li>\\n<li class=\"leaf suplementos\"><a href=\"/menu\" class=\"suplementos\">Men\\xfa</a></li>\\n<li class=\"leaf suplementos\"><a href=\"/de-ultima\" class=\"suplementos\">De \\xdaltima</a></li>\\n<li class=\"leaf suplementos\"><a href=\"/destinos\" class=\"suplementos\">Destinos</a></li>\\n<li class=\"leaf suplementos\"><a href=\"/autopistas\" title=\"Autopistas\" class=\"suplementos\">Autopistas</a></li>\\n<li class=\"leaf nacion\"><a href=\"/english\">English</a></li>\\n<li class=\"leaf nacion\"><a href=\"/minuto-x-minuto\">Minuto x minuto</a></li>\\n<li class=\"last leaf nacion\"><a href=\"http://www.eluniversaltv.com.mx/\" target=\"_blank\">El Universal TV</a></li>\\n</ul> </div>\\n<div class=\"loader\"/>\\n<div class=\"menuheader\" data-compile=\"menu_header\" data-ng-show=\"custom\">\\n</div>\\n</div>\\n</div>\\n</div>\\n</div>\\n<div class=\"region region-page-top\" id=\"region-page-top\">\\n<div class=\"region-inner region-page-top-inner\">\\n \\n<script type=\"text/javascript\"> \\n\\tfunction udm_(e){var t=\"comScore=\",n=document,r=n.cookie,i=\"\",s=\"indexOf\",o=\"substring\",u=\"length\",a=2048,f,l=\"&amp;ns_\",c=\"&amp;\",h,p,d,v,m=window,g=m.encodeURIComponent||escape;if(r[s](t)+1)for(d=0,p=r.split(\";\"),v=p[u];d&lt;v;d++)h=p[d][s](t),h+1&amp;&amp;(i=c+\\tunescape(p[d][o](h+t[u])));e+=l+\"_t=\"+ +(new Date)+l+\"c=\"+(n.characterSet||n.defaultCharset||\"\")+\"&amp;c8=\"+g(n.title)+i+\"&amp;c7=\"+g(n.URL)+\"&amp;c9=\"+g(n.referrer),e[u]&gt;a&amp;&amp;e[s](c)&gt;0&amp;&amp;(f=e[o](0,a-8).lastIndexOf(c),e=(e[o](0,f)+l+\"cut=\"+g(e[o](f+1)))[o](0,a)),n.images?(h=new \\tImage,m.ns_p||(ns_p=h),h.src=e):n.write(\"&lt;\",\"p\",\"&gt;&lt;\",\\'img src=\"\\',e,\\'\" height=\"1\" width=\"1\" alt=\"*\"\\',\"&gt;&lt;\",\"/p\",\"&gt;\")};udm_(\\'http://b.scorecardresearch.com/b?c1=2&amp;c2=6906641&amp;ns_site=el-universal&amp;name=seccion.cartera.portada&amp;liga=http%3A%2F%2Fwww.eluniversal.com.mx%2Fcartera%2Feconomia&amp;category=cartera_portada&amp;seccion=cartera&amp;subseccion=economia&amp;titulo=Econom%C3%ADa\\');\\n</script>\\n<noscript><p><img src=\"http://b.scorecardresearch.com/p?c1=2&amp;c2=6906641&amp;ns_site=el-universal&amp;name=seccion.cartera.portada&amp;liga=http%3A%2F%2Fwww.eluniversal.com.mx%2Fcartera%2Feconomia&amp;category=cartera_portada&amp;seccion=cartera&amp;subseccion=economia&amp;titulo=Econom%C3%ADa\" height=\"1\" width=\"1\" alt=\"*\"/></p></noscript>\\n  </div>\\n</div>\\n<div class=\"page clearfix\" id=\"page\">\\n<header id=\"section-header\" class=\"section section-header\">\\n<div id=\"zone-menu-wrapper\" class=\"zone-wrapper zone-menu-wrapper clearfix\">\\n<div id=\"zone-menu\" class=\"zone zone-menu clearfix container-24\">\\n<div class=\"grid-8 region region-menu-multimedia\" id=\"region-menu-multimedia\">\\n<div class=\"region-inner region-menu-multimedia-inner\">\\n</div>\\n</div><div class=\"grid-16 region region-menu\" id=\"region-menu\">\\n<div class=\"region-inner region-menu-inner\">\\n</div>\\n</div>\\n</div>\\n</div></header>\\n<section id=\"section-content\" class=\"section section-content\">\\n<div id=\"zone-preface-wrapper\" class=\"zone-wrapper zone-preface-wrapper clearfix\">\\n<div id=\"zone-preface\" class=\"zone zone-preface clearfix container-24\">\\n<div class=\"grid-24 region region-preface-first cabezal\" id=\"region-preface-first\">\\n<div class=\"region-inner region-preface-first-inner\">\\n<div class=\"titulo-seccion\">\\n<div class=\"field field-name-field-seccion field-type-taxonomy-term-reference\">\\n<div class=\"nombre-seccion\"><a href=\"/cartera\">Cartera</a></div><div class=\"submenu-seccion-rss\"><a href=\"/seccion/14/rss.xml\" target=\"_blank\">rss</a></div> </div>\\n</div>\\n<div class=\"submenu-temascalientes\">\\n<div class=\"submenu-seccion\"><ul><li><a href=\"/cartera/finanzas\" class=\"normal\">Finanzas</a></li><li><a href=\"/cartera/economia\" class=\"active active\">Econom\\xeda</a></li><li><a href=\"/cartera/negocios\" class=\"normal\">Negocios</a></li><li><a href=\"/cartera/management\" class=\"normal\">Management</a></li><li><a href=\"/cartera/emprendedor\" class=\"normal\">Emprendedor</a></li><li><a href=\"/cartera/tu-cartera\" class=\"normal\">Tu cartera</a></li><li><a href=\"/cartera/telecom\" class=\"normal\">Telecom</a></li></ul></div> </div>\\n<div class=\"cintillo-interior\">\\n<div class=\"view view-cintillos view-id-cintillos view-display-id-panel_pane_2 view-dom-id-016c7daef425d2e52fc3ea640747bc7b\">\\n</div> </div>\\n</div>\\n</div> </div>\\n</div><div id=\"zone-content-wrapper\" class=\"zone-wrapper zone-content-wrapper clearfix\">\\n<div id=\"zone-content\" class=\"zone zone-content clearfix container-24\">\\n<div class=\"grid-24 region region-content\" id=\"region-content\">\\n<div class=\"region-inner region-content-inner\">\\n<a id=\"main-content\"/>\\n<div class=\"block block-system block-main block-system-main odd block-without-title\" id=\"block-system-main\">\\n<div class=\"block-inner clearfix\">\\n<div class=\"content clearfix\">\\n<div class=\"panel-display universal-grid universal-24-seccion-15-8\">\\n<div class=\"panel-panel grid-24 alpha omega\">\\n<div class=\"inside\"><div class=\"panel-pane pane-views-panes pane-temas-calientes-panel-pane-1\">\\n<h2 class=\"pane-title\">Es Noticia:</h2>\\n<div class=\"pane-content\">\\n<div class=\"view view-temas-calientes view-id-temas_calientes view-display-id-panel_pane_1 view-dom-id-548ab45f4f6c158c7aa7eca49fdf4934\">\\n<div class=\"view-content\">\\n<div class=\"views-row views-row-1 views-row-odd views-row-first\">\\n<a href=\"/es-noticia/cartera/economia/2016/11/15/efecto-trump\">Efecto Trump</a> </div>\\n<div class=\"views-row views-row-2 views-row-even\">\\n<a href=\"/es-noticia/cartera/tu-cartera/2015/11/12/el-buen-fin\">El Buen Fin</a> </div>\\n<div class=\"views-row views-row-3 views-row-odd\">\\n<a href=\"/es-noticia/cartera/telecom/2016/10/20/red-compartida\">Red Compartida</a> </div>\\n<div class=\"views-row views-row-4 views-row-even\">\\n<a href=\"/es-noticia/cartera/economia/2016/11/15/el-futuro-del-tpp\">El futuro del TPP</a> </div>\\n<div class=\"views-row views-row-5 views-row-odd views-row-last\">\\n<a href=\"/es-noticia/cartera/economia/2015/03/16/alza-del-dolar\">Alza del d\\xf3lar</a> </div>\\n</div>\\n</div> </div>\\n</div>\\n<div class=\"panel-separator\"/><div class=\"panel-pane pane-custom pane-6\">\\n<div class=\"pane-content\">\\n<div id=\"slotdiv-dfp-top2\" class=\"slothide\"/>\\n<div id=\"div-dfp-top2\" class=\"dfp_slot\">\\n<span class=\"line\">\\n<script type=\"text/javascript\">\\n\\t\\t  googletag.cmd.push(function() { googletag.display(\\'div-dfp-top2\\'); });\\n \\t  </script>\\n</span>\\n</div>\\n</div>\\n</div>\\n<div class=\"panel-separator\"/><div class=\"panel-pane pane-page-breadcrumb\">\\n<div class=\"pane-content\">\\n<h2 class=\"element-invisible\">Se encuentra usted aqu\\xed</h2><div class=\"breadcrumb\"><span class=\"inline odd first\"><a href=\"/\">INICIO</a></span> <span class=\"delimiter\">//</span> <span class=\"inline even\"><a href=\"http://www.eluniversal.com.mx/cartera\">Cartera</a></span> <span class=\"delimiter\">//</span> <span class=\"inline odd last\"><a href=\"http://www.eluniversal.com.mx/cartera/economia\">Econom\\xeda</a></span></div> </div>\\n</div>\\n</div>\\n</div>\\n<div class=\"panel-panel grid-15 alpha\">\\n<div class=\"inside\"><div class=\"panel-pane pane-views-panes pane-secciones-light-panel-pane-1\">\\n<div class=\"pane-content\">\\n<div class=\"view view-secciones-light view-id-secciones_light view-display-id-panel_pane_1 view-dom-id-654cde8c0d7f4ea65a0baf707e15c58c\">\\n<div class=\"view-content\">\\n<div class=\"views-row views-row-1 views-row-odd views-row-first\">\\n<div class=\"views-field views-field-title\"> <span class=\"field-content\"><a href=\"/articulo/cartera/economia/2016/11/26/licitacion-de-148-canales-atrae-25-interesados\">Licitaci\\xf3n de 148 canales atrae a 25 interesados</a></span> </div>\\n<div class=\"views-field views-field-field-seccion\"> <div class=\"field-content\"><a href=\"/cartera/economia\" class=\"active\">Econom\\xeda</a></div> </div>\\n<div class=\"views-field views-field-created\"> <span class=\"field-content\">05:22</span> </div>\\n<div class=\"views-field views-field-field-resumen\"> <div class=\"field-content\">La subasta de los canales va desde 13 mil hasta 425 mdp; Televisa , TV Azteca e Imagen podr\\xe1n participar en concurso</div> </div> </div>\\n<div class=\"views-row views-row-2 views-row-even\">\\n<div class=\"views-field views-field-field-image\"> <div class=\"field-content iconoWrapper\"><div class=\"view view-notas-relacionadas view-id-notas_relacionadas view-display-id-panel_pane_3 iconoTipo view-dom-id-d3b1f214562a4a83397df70785c6ef82\">\\n<div class=\"view-content\">\\n<div>\\n</div>\\n</div>\\n</div><a href=\"/articulo/cartera/economia/2016/11/26/ford-aumenta-oferta-en-pick-ups-con-modelo-raptor-2017\"><img data-src=\"http://www.eluniversal.com.mx/sites/default/files/styles/f13-231x142/public/N-B2-EU261116-4_Drupal%20Main%20Image.var_1480159451.jpg?itok=c4AMzfFt\" src=\"http://www.eluniversal.com.mx/sites/all/modules/lazyloader/image_placeholder.gif\" width=\"231\" height=\"142\" alt=\"\"/><noscript><img src=\"http://www.eluniversal.com.mx/sites/default/files/styles/f13-231x142/public/N-B2-EU261116-4_Drupal%20Main%20Image.var_1480159451.jpg?itok=c4AMzfFt\" width=\"231\" height=\"142\" alt=\"\"/></noscript></a></div> </div>\\n<div class=\"views-field views-field-title\"> <span class=\"field-content\"><a href=\"/articulo/cartera/economia/2016/11/26/ford-aumenta-oferta-en-pick-ups-con-modelo-raptor-2017\">Ford aumenta oferta en pick ups con modelo Raptor 2017 </a></span> </div>\\n<div class=\"views-field views-field-field-seccion\"> <div class=\"field-content\"><a href=\"/cartera/economia\" class=\"active\">Econom\\xeda</a></div> </div>\\n<div class=\"views-field views-field-created\"> <span class=\"field-content\">05:22</span> </div> </div>\\n<div class=\"views-row views-row-3 views-row-odd\">\\n<div class=\"views-field views-field-field-image\"> <div class=\"field-content iconoWrapper\"><div class=\"view view-notas-relacionadas view-id-notas_relacionadas view-display-id-panel_pane_3 iconoTipo view-dom-id-f41472c5df8f4804ddc1a0f580c7efc6\">\\n<div class=\"view-content\">\\n<div>\\n</div>\\n</div>\\n</div><a href=\"/articulo/cartera/economia/2016/11/26/pide-anierm-intercambio-comercial-con-otros-paises\"><img data-src=\"http://www.eluniversal.com.mx/sites/default/files/styles/f13-231x142/public/N-B1-EU261116-7_Drupal%20Main%20Image.var_1480159166.jpg?itok=lcmG-5H5\" src=\"http://www.eluniversal.com.mx/sites/all/modules/lazyloader/image_placeholder.gif\" width=\"231\" height=\"142\" alt=\"\"/><noscript><img src=\"http://www.eluniversal.com.mx/sites/default/files/styles/f13-231x142/public/N-B1-EU261116-7_Drupal%20Main%20Image.var_1480159166.jpg?itok=lcmG-5H5\" width=\"231\" height=\"142\" alt=\"\"/></noscript></a></div> </div>\\n<div class=\"views-field views-field-title\"> <span class=\"field-content\"><a href=\"/articulo/cartera/economia/2016/11/26/pide-anierm-intercambio-comercial-con-otros-paises\">Pide Anierm intercambio comercial con otros pa\\xedses </a></span> </div>\\n<div class=\"views-field views-field-field-seccion\"> <div class=\"field-content\"><a href=\"/cartera/economia\" class=\"active\">Econom\\xeda</a></div> </div>\\n<div class=\"views-field views-field-created\"> <span class=\"field-content\">05:17</span> </div>\\n<div class=\"views-field views-field-field-resumen\"> <div class=\"field-content\">Asegura que es importante que M\\xe9xico busque m\\xe1s oportunidades en naciones distintas a Estados Unidos</div> </div> </div>\\n<div class=\"views-row views-row-4 views-row-even\">\\n<div class=\"views-field views-field-title\"> <span class=\"field-content\"><a href=\"/articulo/cartera/economia/2016/11/26/retroceden-44-las-exportaciones-en-octubre-inegi\">Retroceden 4.4% las exportaciones en octubre: Inegi</a></span> </div>\\n<div class=\"views-field views-field-field-seccion\"> <div class=\"field-content\"><a href=\"/cartera/economia\" class=\"active\">Econom\\xeda</a></div> </div>\\n<div class=\"views-field views-field-created\"> <span class=\"field-content\">05:17</span> </div>\\n<div class=\"views-field views-field-field-resumen\"> <div class=\"field-content\">Ventas al exterior sumaron 32 mil 593 mdd luego de dos meses al alza</div> </div> </div>\\n<div class=\"views-row views-row-5 views-row-odd\">\\n<div class=\"views-field views-field-field-image\"> <div class=\"field-content iconoWrapper\"><div class=\"view view-notas-relacionadas view-id-notas_relacionadas view-display-id-panel_pane_3 iconoTipo view-dom-id-da0c6241773f4460d63e9a748d46c033\">\\n<div class=\"view-content\">\\n<div>\\n</div>\\n</div>\\n</div><a href=\"/articulo/cartera/economia/2016/11/26/sufre-economia-desaceleracion\"><img data-src=\"http://www.eluniversal.com.mx/sites/default/files/styles/f13-231x142/public/2016/11/26/tailandia_economia_14452202_0.jpg?itok=7YaU3WUX\" src=\"http://www.eluniversal.com.mx/sites/all/modules/lazyloader/image_placeholder.gif\" width=\"231\" height=\"142\" alt=\"\"/><noscript><img src=\"http://www.eluniversal.com.mx/sites/default/files/styles/f13-231x142/public/2016/11/26/tailandia_economia_14452202_0.jpg?itok=7YaU3WUX\" width=\"231\" height=\"142\" alt=\"\"/></noscript></a></div> </div>\\n<div class=\"views-field views-field-title\"> <span class=\"field-content\"><a href=\"/articulo/cartera/economia/2016/11/26/sufre-economia-desaceleracion\">Sufre econom\\xeda desaceleraci\\xf3n</a></span> </div>\\n<div class=\"views-field views-field-field-seccion\"> <div class=\"field-content\"><a href=\"/cartera/economia\" class=\"active\">Econom\\xeda</a></div> </div>\\n<div class=\"views-field views-field-created\"> <span class=\"field-content\">04:30</span> </div>\\n<div class=\"views-field views-field-field-resumen\"> <div class=\"field-content\">Subgobernador prev\\xe9 cierre de a\\xf1o con menor dinamismo que 2015; elecciones en EU y volatilidad impactan en la balanza de pagos</div> </div> </div>\\n<div class=\"views-row views-row-6 views-row-even\">\\n<div class=\"views-field views-field-field-image\"> <div class=\"field-content iconoWrapper\"><div class=\"view view-notas-relacionadas view-id-notas_relacionadas view-display-id-panel_pane_3 iconoTipo view-dom-id-1e6796c1d8eb76ccb067b1b63a9779c5\">\\n<div class=\"view-content\">\\n<div>\\n</div>\\n</div>\\n</div><a href=\"/articulo/cartera/economia/2016/11/25/banxico-advierte-de-fase-de-desaceleracion\"><img data-src=\"http://www.eluniversal.com.mx/sites/default/files/styles/f13-231x142/public/2016/11/25/economia_2511.jpg?itok=zZvpP9ey\" src=\"http://www.eluniversal.com.mx/sites/all/modules/lazyloader/image_placeholder.gif\" width=\"231\" height=\"142\" alt=\"Econom\\xeda est\\xe1 en fase de desaceleraci\\xf3n: Banxico\" title=\"Econom\\xeda est\\xe1 en fase de desaceleraci\\xf3n: Banxico\"/><noscript><img src=\"http://www.eluniversal.com.mx/sites/default/files/styles/f13-231x142/public/2016/11/25/economia_2511.jpg?itok=zZvpP9ey\" width=\"231\" height=\"142\" alt=\"Econom\\xeda est\\xe1 en fase de desaceleraci\\xf3n: Banxico\" title=\"Econom\\xeda est\\xe1 en fase de desaceleraci\\xf3n: Banxico\"/></noscript></a></div> </div>\\n<div class=\"views-field views-field-title\"> <span class=\"field-content\"><a href=\"/articulo/cartera/economia/2016/11/25/banxico-advierte-de-fase-de-desaceleracion\">Banxico advierte de fase de desaceleraci\\xf3n</a></span> </div>\\n<div class=\"views-field views-field-field-seccion\"> <div class=\"field-content\"><a href=\"/cartera/economia\" class=\"active\">Econom\\xeda</a></div> </div>\\n<div class=\"views-field views-field-created\"> <span class=\"field-content\">2016-11-25</span> </div>\\n<div class=\"views-field views-field-field-resumen\"> <div class=\"field-content\">El subgobernador Javier Guzm\\xe1n Calafell hizo ver que para 2017 y los pr\\xf3ximos a\\xf1os es muy dif\\xedcil pronosticar la trayectoria de la econom\\xeda nacional, dado el resultado de las elecciones en EU</div> </div> </div>\\n<div class=\"views-row views-row-7 views-row-odd\">\\n<div class=\"views-field views-field-field-image\"> <div class=\"field-content iconoWrapper\"><div class=\"view view-notas-relacionadas view-id-notas_relacionadas view-display-id-panel_pane_3 iconoTipo view-dom-id-fc2bc10e0d6c02d6885b346954d34eb0\">\\n<div class=\"view-content\">\\n<div>\\n</div>\\n</div>\\n</div><a href=\"/articulo/cartera/economia/2016/11/25/cierra-dolar-al-menudeo-en-2095\"><img data-src=\"http://www.eluniversal.com.mx/sites/default/files/styles/f13-231x142/public/2016/11/25/dolar_universal.jpg?itok=_oDx-bTh\" src=\"http://www.eluniversal.com.mx/sites/all/modules/lazyloader/image_placeholder.gif\" width=\"231\" height=\"142\" alt=\"\"/><noscript><img src=\"http://www.eluniversal.com.mx/sites/default/files/styles/f13-231x142/public/2016/11/25/dolar_universal.jpg?itok=_oDx-bTh\" width=\"231\" height=\"142\" alt=\"\"/></noscript></a></div> </div>\\n<div class=\"views-field views-field-title\"> <span class=\"field-content\"><a href=\"/articulo/cartera/economia/2016/11/25/cierra-dolar-al-menudeo-en-2095\">Cierra d\\xf3lar al menudeo en $20.95</a></span> </div>\\n<div class=\"views-field views-field-field-seccion\"> <div class=\"field-content\"><a href=\"/cartera/economia\" class=\"active\">Econom\\xeda</a></div> </div>\\n<div class=\"views-field views-field-created\"> <span class=\"field-content\">2016-11-25</span> </div>\\n<div class=\"views-field views-field-field-resumen\"> <div class=\"field-content\">El billete verde registr\\xf3 una baja 10 centavos; la Bolsa Mexicana de Valores cerr\\xf3 la \\xfaltima sesi\\xf3n de la semana con una ganancia de 0.20%</div> </div> </div>\\n<div class=\"views-row views-row-8 views-row-even\">\\n<div class=\"views-field views-field-field-image\"> <div class=\"field-content iconoWrapper\"><div class=\"view view-notas-relacionadas view-id-notas_relacionadas view-display-id-panel_pane_3 iconoTipo view-dom-id-92af03733e4b0a32b7bc1485dd1d6dba\">\\n<div class=\"view-content\">\\n<div>\\n</div>\\n</div>\\n</div><a href=\"/articulo/cartera/economia/2016/11/25/concluye-gira-de-trabajo-de-shcp-pemex-en-reino-unido\"><img data-src=\"http://www.eluniversal.com.mx/sites/default/files/styles/f13-231x142/public/2016/11/25/gira_shcp_pemex.jpg?itok=EO4BDn-v\" src=\"http://www.eluniversal.com.mx/sites/all/modules/lazyloader/image_placeholder.gif\" width=\"231\" height=\"142\" alt=\"\"/><noscript><img src=\"http://www.eluniversal.com.mx/sites/default/files/styles/f13-231x142/public/2016/11/25/gira_shcp_pemex.jpg?itok=EO4BDn-v\" width=\"231\" height=\"142\" alt=\"\"/></noscript></a></div> </div>\\n<div class=\"views-field views-field-title\"> <span class=\"field-content\"><a href=\"/articulo/cartera/economia/2016/11/25/concluye-gira-de-trabajo-de-shcp-pemex-en-reino-unido\">Concluye gira de trabajo de SHCP-Pemex en Reino Unido </a></span> </div>\\n<div class=\"views-field views-field-field-seccion\"> <div class=\"field-content\"><a href=\"/cartera/economia\" class=\"active\">Econom\\xeda</a></div> </div>\\n<div class=\"views-field views-field-created\"> <span class=\"field-content\">2016-11-25</span> </div>\\n<div class=\"views-field views-field-field-resumen\"> <div class=\"field-content\">La gira de trabajo por el Reino Unido tuvo como prop\\xf3sito presentar ante inversionistas y la comunidad financiera brit\\xe1nica la expectativas econ\\xf3micas de M\\xe9xico y el plan de negocios de la empresa petrolera</div> </div> </div>\\n<div class=\"views-row views-row-9 views-row-odd\">\\n<div class=\"views-field views-field-field-image\"> <div class=\"field-content iconoWrapper\"><div class=\"view view-notas-relacionadas view-id-notas_relacionadas view-display-id-panel_pane_3 iconoTipo view-dom-id-c60841257afa3ac3e7d54628f1ea4fcb\">\\n<div class=\"view-content\">\\n<div>\\n</div>\\n</div>\\n</div><a href=\"/articulo/cartera/economia/2016/11/25/recomienda-sojo-explotar-informacion-estadistica-para-entender\"><img data-src=\"http://www.eluniversal.com.mx/sites/default/files/styles/f13-231x142/public/2016/11/25/sojo.jpg?itok=e0YpFeQG\" src=\"http://www.eluniversal.com.mx/sites/all/modules/lazyloader/image_placeholder.gif\" width=\"231\" height=\"142\" alt=\"\"/><noscript><img src=\"http://www.eluniversal.com.mx/sites/default/files/styles/f13-231x142/public/2016/11/25/sojo.jpg?itok=e0YpFeQG\" width=\"231\" height=\"142\" alt=\"\"/></noscript></a></div> </div>\\n<div class=\"views-field views-field-title\"> <span class=\"field-content\"><a href=\"/articulo/cartera/economia/2016/11/25/recomienda-sojo-explotar-informacion-estadistica-para-entender\">Recomienda Sojo explotar informaci\\xf3n estad\\xedstica para entender el \"efecto Trump\"</a></span> </div>\\n<div class=\"views-field views-field-field-seccion\"> <div class=\"field-content\"><a href=\"/cartera/economia\" class=\"active\">Econom\\xeda</a></div> </div>\\n<div class=\"views-field views-field-created\"> <span class=\"field-content\">2016-11-25</span> </div>\\n<div class=\"views-field views-field-field-resumen\"> <div class=\"field-content\">El ex presidente del Inegi, Eduardo Sojo, inform\\xf3 que la informaci\\xf3n estad\\xedstica con que cuenta el Instituto ser\\xe1 de gran valor para planear escenarios</div> </div> </div>\\n<div class=\"views-row views-row-10 views-row-even views-row-last\">\\n<div class=\"views-field views-field-field-image\"> <div class=\"field-content iconoWrapper\"><div class=\"view view-notas-relacionadas view-id-notas_relacionadas view-display-id-panel_pane_3 iconoTipo view-dom-id-5d212357e535eb2589f7ee86066cfd57\">\\n<div class=\"view-content\">\\n<div>\\n</div>\\n</div>\\n</div><a href=\"/articulo/cartera/economia/2016/11/25/retroceden-exportaciones-durante-octubre\"><img data-src=\"http://www.eluniversal.com.mx/sites/default/files/styles/f13-231x142/public/2016/11/25/pemex_redis.jpg?itok=rG6E6avT\" src=\"http://www.eluniversal.com.mx/sites/all/modules/lazyloader/image_placeholder.gif\" width=\"231\" height=\"142\" alt=\"\"/><noscript><img src=\"http://www.eluniversal.com.mx/sites/default/files/styles/f13-231x142/public/2016/11/25/pemex_redis.jpg?itok=rG6E6avT\" width=\"231\" height=\"142\" alt=\"\"/></noscript></a></div> </div>\\n<div class=\"views-field views-field-title\"> <span class=\"field-content\"><a href=\"/articulo/cartera/economia/2016/11/25/retroceden-exportaciones-durante-octubre\">Retroceden exportaciones durante octubre</a></span> </div>\\n<div class=\"views-field views-field-field-seccion\"> <div class=\"field-content\"><a href=\"/cartera/economia\" class=\"active\">Econom\\xeda</a></div> </div>\\n<div class=\"views-field views-field-created\"> <span class=\"field-content\">2016-11-25</span> </div>\\n<div class=\"views-field views-field-field-resumen\"> <div class=\"field-content\">El valor de las ventas al exterior sumaron 32 mil 593 mdd en el d\\xe9cimo mes del a\\xf1o, cifra 4.4% inferior a la reportada en el mismo periodo del a\\xf1o anterior, reporta el Inegi</div> </div> </div>\\n</div>\\n</div> </div>\\n</div>\\n</div>\\n</div>\\n<div class=\"panel-panel grid-8 omega prefix-1\">\\n<div class=\"inside\"><div class=\"panel-pane pane-custom pane-1\">\\n<div class=\"pane-content\">\\n<div id=\"slotdiv-dfp-right1\" class=\"slothide\"/>\\n<div id=\"div-dfp-right1\" class=\"dfp_slot\">\\n<span class=\"line\">\\n<script type=\"text/javascript\">\\n\\t\\t  googletag.cmd.push(function() { googletag.display(\\'div-dfp-right1\\'); });\\n \\t  </script>\\n</span>\\n</div>\\n</div>\\n</div>\\n<div class=\"panel-separator\"/><div class=\"panel-pane pane-panels-mini pane-mp-secc-mxm-subsecciones\">\\n<div class=\"pane-content\">\\n<div class=\"panel-display panel-1col clearfix\" id=\"mini-panel-mp_secc_mxm_subsecciones\">\\n<div class=\"panel-panel panel-col\">\\n<div><div id=\"tabs-mp_secc_mxm_subsecciones-middle\"><div class=\"item-list\"><ul><li class=\"first\"><a href=\"#tabs-mp_secc_mxm_subsecciones-middle-1\">Minuto por minuto El Universal</a></li><li class=\"last\"><a href=\"#tabs-mp_secc_mxm_subsecciones-middle-2\">Minuto por minuto Cartera</a></li></ul></div><div id=\"tabs-mp_secc_mxm_subsecciones-middle-1\"><div class=\"panel-pane pane-views-panes pane-minuto-por-minuto-panel-pane-4\">\\n<div class=\"pane-content\">\\n<div class=\"view view-minuto-por-minuto view-id-minuto_por_minuto view-display-id-panel_pane_4 quick-mxm view-dom-id-8c23b801b3033bfc171ccc0349231695\">\\n<div class=\"view-content\">\\n<div class=\"seccion-1671\">\\n<span class=\"fecha\">13:25</span>\\n<span><a href=\"http://www.eluniversal.com.mx/articulo/english/2016/11/26/mexico-expresses-condolences-fidel-castros-death\">Mexico expresses condolences for Fidel Castro\\u2019s death</a></span> </div>\\n<div class=\"seccion-133\">\\n<span class=\"fecha\">13:16</span>\\n<span><a href=\"http://www.eluniversal.com.mx/articulo/espectaculos/2016/11/26/carlos-ballarta-hara-reir-en-el-comedy-fest\">Carlos Ballarta har\\xe1 re\\xedr en el Comedy Fest </a></span> </div>\\n<div class=\"seccion-1\">\\n<span class=\"fecha\">13:15</span>\\n<span><a href=\"http://www.eluniversal.com.mx/articulo/nacion/politica/2016/11/26/exige-prd-destitucion-de-miranda-nava-de-sedesol\">Exige PRD destituci\\xf3n de Miranda Nava de Sedesol</a></span> </div>\\n<div class=\"seccion-5\">\\n<span class=\"fecha\">13:13</span>\\n<span><a href=\"http://www.eluniversal.com.mx/articulo/mundo/2016/11/26/fidel-castro-el-barbudo-que-comando-una-revolucion\">Fidel Castro, el barbudo que comand\\xf3 una revoluci\\xf3n</a></span> </div>\\n<div class=\"seccion-133\">\\n<span class=\"fecha\">13:07</span>\\n<span><a href=\"http://www.eluniversal.com.mx/articulo/espectaculos/musica/2016/11/26/enterate-las-canciones-que-hablan-sobre-fidel-castro\">Ent\\xe9rate. Las canciones que hablan sobre Fidel Castro</a></span> </div>\\n<div class=\"seccion-5\">\\n<span class=\"fecha\">13:06</span>\\n<span><a href=\"http://www.eluniversal.com.mx/articulo/mundo/2016/11/26/cuba-se-acerca-la-hora-del-poscastrismo\">Cuba se acerca a la hora del poscastrismo</a></span> </div>\\n<div class=\"seccion-133\">\\n<span class=\"fecha\">12:57</span>\\n<span><a href=\"http://www.eluniversal.com.mx/articulo/espectaculos/musica/2016/11/26/ricky-martin-pone-euforico-al-auditorio-nacional\">Ricky Martin pone euf\\xf3rico al Auditorio Nacional</a></span> </div>\\n<div class=\"seccion-5\">\\n<span class=\"fecha\">12:51</span>\\n<span><a href=\"http://www.eluniversal.com.mx/articulo/mundo/2016/11/26/rendirian-homenaje-fidel-castro-en-mexico\">Rendir\\xedan homenaje a Fidel Castro en M\\xe9xico</a></span> </div>\\n<div class=\"seccion-5\">\\n<span class=\"fecha\">12:50</span>\\n<span><a href=\"http://www.eluniversal.com.mx/articulo/mundo/2016/11/26/muerte-de-fidel-castro-reaviva-debate-sobre-futuro-del-embargo\">Muerte de Fidel Castro reaviva debate sobre futuro del embargo</a></span> </div>\\n</div>\\n</div> </div>\\n</div>\\n</div><div id=\"tabs-mp_secc_mxm_subsecciones-middle-2\"><div class=\"panel-pane pane-views-panes pane-minuto-por-minuto-panel-pane-2\">\\n<div class=\"pane-content\">\\n<div class=\"view view-minuto-por-minuto view-id-minuto_por_minuto view-display-id-panel_pane_2 quick-mxm view-dom-id-60af5527315cb10cccac9f3b4a36494c\">\\n<div class=\"view-content\">\\n<div class=\"seccion-14\">\\n<span class=\"fecha\">05:22</span>\\n<span><a href=\"http://www.eluniversal.com.mx/articulo/cartera/economia/2016/11/26/licitacion-de-148-canales-atrae-25-interesados\">Licitaci\\xf3n de 148 canales atrae a 25 interesados</a></span> </div>\\n<div class=\"seccion-14\">\\n<span class=\"fecha\">05:22</span>\\n<span><a href=\"http://www.eluniversal.com.mx/articulo/cartera/economia/2016/11/26/ford-aumenta-oferta-en-pick-ups-con-modelo-raptor-2017\">Ford aumenta oferta en pick ups con modelo Raptor 2017 </a></span> </div>\\n<div class=\"seccion-14\">\\n<span class=\"fecha\">05:17</span>\\n<span><a href=\"http://www.eluniversal.com.mx/articulo/cartera/economia/2016/11/26/pide-anierm-intercambio-comercial-con-otros-paises\">Pide Anierm intercambio comercial con otros pa\\xedses </a></span> </div>\\n<div class=\"seccion-14\">\\n<span class=\"fecha\">05:17</span>\\n<span><a href=\"http://www.eluniversal.com.mx/articulo/cartera/economia/2016/11/26/retroceden-44-las-exportaciones-en-octubre-inegi\">Retroceden 4.4% las exportaciones en octubre: Inegi</a></span> </div>\\n<div class=\"seccion-14\">\\n<span class=\"fecha\">04:30</span>\\n<span><a href=\"http://www.eluniversal.com.mx/articulo/cartera/economia/2016/11/26/sufre-economia-desaceleracion\">Sufre econom\\xeda desaceleraci\\xf3n</a></span> </div>\\n</div>\\n</div> </div>\\n</div>\\n</div></div></div>\\n</div>\\n</div>\\n</div>\\n</div>\\n<div class=\"panel-separator\"/><div class=\"panel-pane pane-custom pane-2\">\\n<div class=\"pane-content\">\\n<div id=\"slotdiv-dfp-right2\" class=\"slothide\"/>\\n<div id=\"div-dfp-right2\" class=\"dfp_slot\">\\n<span class=\"line\">\\n<script type=\"text/javascript\">\\n\\t\\t  googletag.cmd.push(function() { googletag.display(\\'div-dfp-right2\\'); });\\n \\t  </script>\\n</span>\\n</div>\\n</div>\\n</div>\\n<div class=\"panel-separator\"/><div class=\"panel-pane pane-views-panes pane-promo-externos-lateral-panel-pane-4\">\\n<div class=\"pane-content\">\\n<div class=\"view view-promo-externos-lateral view-id-promo_externos_lateral view-display-id-panel_pane_4 view-lista-notas-de-seccion view-dom-id-ef30625bbc44d3487a0fbb2d11c67be8\">\\n<div class=\"view-content\">\\n<div class=\"views-row views-row-1 views-row-odd views-row-first views-row-last seccion-14\">\\n<div class=\"views-field views-field-field-link-promo-ext-lateral\"> <div class=\"field-content views-field-field-seccion-1\"><a href=\"http://www.eluniversaltv.com.mx/video/cartera/2016/walmart-seguira-pagando-15-por-hora-en-mexico-65279\" target=\"_blank\">Econom\\xeda Universal</a></div> </div>\\n<div class=\"views-field views-field-nothing\"> <div class=\"field-content seccion-14\"><div class=\"view view-promo-externos-lateral view-id-promo_externos_lateral view-display-id-panel_pane_1 view-dom-id-d70719967e00cd32b41bc5641be9f16c\">\\n<div class=\"view-content\">\\n<div class=\"views-row views-row-1 views-row-odd views-row-first views-row-last\">\\n<div class=\"views-field views-field-field-imagen-promo-ext-lateral\"> <div class=\"field-content\"><a href=\"http://www.eluniversaltv.com.mx/video/cartera/2016/walmart-seguira-pagando-15-por-hora-en-mexico-65279\" target=\"_blank\"><img data-src=\"http://www.eluniversal.com.mx/sites/default/files/styles/promo_ext_lateral/public/2016/11/25/miguel.jpg?itok=iaaLAFAp\" src=\"http://www.eluniversal.com.mx/sites/all/modules/lazyloader/image_placeholder.gif\" width=\"315\" height=\"194\" alt=\"\"/><noscript><img src=\"http://www.eluniversal.com.mx/sites/default/files/styles/promo_ext_lateral/public/2016/11/25/miguel.jpg?itok=iaaLAFAp\" width=\"315\" height=\"194\" alt=\"\"/></noscript></a></div> </div>\\n<div class=\"views-field views-field-field-link-promo-ext-lateral-1\"> <div class=\"field-content\"><a href=\"http://www.eluniversaltv.com.mx/video/cartera/2016/walmart-seguira-pagando-15-por-hora-en-mexico-65279\" target=\"_blank\">Walmart seguir\\xe1 pagando $15 por hora en M\\xe9xico</a></div> </div>\\n<div class=\"views-field views-field-field-sumario-promo-ext-lateral\"> <div class=\"field-content\"><div class=\"views-field-field-seccion\"/> El mayor empleador privado del pa\\xeds tuvo en 2015 ganancias por 26 mil mdp, pero algunos de sus trabajadores ganaron menos de 3 mil al mes</div> </div> </div>\\n</div>\\n</div>\\n<div class=\"view view-promo-externos-lateral view-id-promo_externos_lateral view-display-id-panel_pane_2 view-dom-id-fa2351011ee448f253fc39a2d17004ae\">\\n<div class=\"view-content\">\\n<div class=\"views-row views-row-1 views-row-odd views-row-first views-row-last\">\\n<div class=\"views-field views-field-field-imagen-promo-ext-lateral\"> <div class=\"field-content\"><a href=\"http://www.eluniversaltv.com.mx/video/cartera/2016/preparan-estrategia-empresarios-de-mexico-y-eu\" target=\"_blank\"><img data-src=\"http://www.eluniversal.com.mx/sites/default/files/styles/promo_ext_lateral_thumb/public/2016/11/24/ivette.jpg?itok=ddw3IS5G\" src=\"http://www.eluniversal.com.mx/sites/all/modules/lazyloader/image_placeholder.gif\" width=\"147\" height=\"90\" alt=\"\"/><noscript><img src=\"http://www.eluniversal.com.mx/sites/default/files/styles/promo_ext_lateral_thumb/public/2016/11/24/ivette.jpg?itok=ddw3IS5G\" width=\"147\" height=\"90\" alt=\"\"/></noscript></a></div> </div>\\n<div class=\"views-field views-field-field-link-promo-ext-lateral-1\"> <div class=\"field-content\"><a href=\"http://www.eluniversaltv.com.mx/video/cartera/2016/preparan-estrategia-empresarios-de-mexico-y-eu\" target=\"_blank\">Por Trump, empresarios de M\\xe9xico y EU alistan estrategia</a></div> </div> </div>\\n</div>\\n</div>\\n<div class=\"view view-promo-externos-lateral view-id-promo_externos_lateral view-display-id-panel_pane_3 view-dom-id-091db4cf5876ac2badf8da6900781185\">\\n</div></div> </div> </div>\\n</div>\\n</div> </div>\\n</div>\\n<div class=\"panel-separator\"/><div class=\"panel-pane pane-custom pane-3\">\\n<div class=\"pane-content\">\\n<div id=\"slotdiv-dfp-right3\" class=\"slothide\"/>\\n<div id=\"div-dfp-right3\" class=\"dfp_slot\">\\n<span class=\"line\">\\n<script type=\"text/javascript\">\\n\\t\\t  googletag.cmd.push(function() { googletag.display(\\'div-dfp-right3\\'); });\\n \\t  </script>\\n</span>\\n</div>\\n</div>\\n</div>\\n<div class=\"panel-separator\"/><div class=\"panel-pane pane-custom pane-4\">\\n<div class=\"pane-content\">\\n<div id=\"slotdiv-dfp-right4\" class=\"slothide\"/>\\n<div id=\"div-dfp-right4\" class=\"dfp_slot\">\\n<span class=\"line\">\\n<script type=\"text/javascript\">\\n\\t\\t  googletag.cmd.push(function() { googletag.display(\\'div-dfp-right4\\'); });\\n \\t  </script>\\n</span>\\n</div>\\n</div>\\n</div>\\n<div class=\"panel-separator\"/><div class=\"panel-pane pane-custom pane-5\">\\n<div class=\"pane-content\">\\n<div id=\"slotdiv-dfp-right5\" class=\"slothide\"/>\\n<div id=\"div-dfp-right5\" class=\"dfp_slot\">\\n<span class=\"line\">\\n<script type=\"text/javascript\">\\n\\t\\t  googletag.cmd.push(function() { googletag.display(\\'div-dfp-right5\\'); });\\n \\t  </script>\\n</span>\\n</div>\\n</div>\\n</div>\\n</div>\\n</div>\\n<div class=\"panel-panel grid-24 alpha omega\">\\n<div class=\"inside\"><div class=\"panel-pane pane-custom pane-7\">\\n<div class=\"pane-content\">\\n<div id=\"slotdiv-dfp-bottom1\" class=\"slothide\"/>\\n<div id=\"div-dfp-bottom1\" class=\"dfp_slot\">\\n<span class=\"line\">\\n<script type=\"text/javascript\">\\n\\t\\t  googletag.cmd.push(function() { googletag.display(\\'div-dfp-bottom1\\'); });\\n \\t  </script>\\n</span>\\n</div>\\n</div>\\n</div>\\n<div class=\"panel-separator\"/><div class=\"panel-pane pane-custom pane-8\">\\n<div class=\"pane-content\">\\n<div id=\"slotdiv-dfp-bottom2\" class=\"slothide\"/>\\n<div id=\"div-dfp-bottom2\" class=\"dfp_slot\">\\n<span class=\"line\">\\n<script type=\"text/javascript\">\\n\\t\\t  googletag.cmd.push(function() { googletag.display(\\'div-dfp-bottom2\\'); });\\n \\t  </script>\\n</span>\\n</div>\\n</div>\\n</div>\\n<div class=\"panel-separator\"/><div class=\"panel-pane pane-custom pane-9\">\\n<div class=\"pane-content\">\\n<div id=\"slotdiv-dfp-bottom3\" class=\"slothide\"/>\\n<div id=\"div-dfp-bottom3\" class=\"dfp_slot\">\\n<span class=\"line\">\\n<script type=\"text/javascript\">\\n\\t\\t  googletag.cmd.push(function() { googletag.display(\\'div-dfp-bottom3\\'); });\\n \\t  </script>\\n</span>\\n</div>\\n</div>\\n</div>\\n</div>\\n</div>\\n</div>\\n</div>\\n</div>\\n</div> </div>\\n</div> </div>\\n  \\n<footer id=\"section-footer\" class=\"section section-footer\">\\n<div id=\"zone-footer-wrapper\" class=\"zone-wrapper zone-footer-wrapper clearfix\">\\n<div id=\"zone-footer\" class=\"zone zone-footer clearfix container-24\">\\n<div class=\"grid-24 region region-footer-second\" id=\"region-footer-second\">\\n<div class=\"region-inner region-footer-second-inner\">\\n<div class=\"grid-22 prefix-1 suffix-1 alpha\">\\n<ul class=\"links\"><li class=\"menu-4688 first\"><a href=\"/directorio\">Directorio</a></li><li class=\"menu-4689\"><a href=\"/contacto\">Cont\\xe1ctanos</a></li><li class=\"menu-5135\"><a href=\"/codigo-de-etica\">C\\xf3digo de \\xc9tica</a></li><li class=\"menu-5136\"><a href=\"/criterios-ante-violencia\">C\\xf3mo cubrimos la Violencia</a></li><li class=\"menu-5137\"><a href=\"/publicidad\">Publicidad</a></li><li class=\"menu-5138\"><a href=\"/politicas-de-privacidad\">Aviso Legal</a></li><li class=\"menu-5139\"><a href=\"http://www.eluniversal.com.mx/sites/default/files/eluniversal_aviso_privacidad.pdf\" target=\"_blank\">Aviso Privacidad</a></li><li class=\"menu-5140\"><a href=\"/mapa-del-sitio\">Mapa del Sitio</a></li><li class=\"menu-5141\"><a href=\"/historia-breve\">Historia</a></li><li class=\"menu-6509 last\"><a href=\"http://interactivo.eluniversal.com.mx/online/PDF_16/aviso-privacidad.pdf\" target=\"_blank\">Aviso de Privacidad: EL UNIVERSAL, COMPA\\xd1\\xcdA PERIOD\\xcdSTICA NACIONAL, S.A. DE C.V.</a></li></ul> </div>\\n<div class=\"grid-24 alpha\">\\n<div class=\"grid-8 alpha comscoreLogo\">\\n<a href=\"http://www.comscore.com/esl/\" title=\"ComScore\" target=\"_blank\"/>\\n</div>\\n<div class=\"grid-8 universalLogo\">\\n<a href=\"/servicios#apps\" target=\"_self\" id=\"appdownload\">Descargar nuestra app</a>\\n<a href=\"/\" class=\"logo cienUniversal\"/>\\n</div>\\n<div class=\"grid-8 omega gdaLogo\">\\n<a href=\"http://www.gda.com/\" title=\"GDA\" target=\"_blank\"/>\\n</div>\\n</div>\\n<div class=\"grid-24 alpha\">\\n<p>\\xa9 2000 - 2016 Todos los derechos reservados<br/>\\nEL UNIVERSAL, Compa\\xf1\\xeda Period\\xedstica Nacional. De no existir previa autorizaci\\xf3n, queda expresamente prohibida la Publicaci\\xf3n, retransmisi\\xf3n, edici\\xf3n y cualquier otro uso de los contenidos</p>\\n</div>\\n</div>\\n</div>\\n<div id=\"div-dfp-bottom_leaderboard\" class=\"dfp_slot\">\\n<div class=\"dfp-bottom_leaderboard-close\">X</div>\\n<span class=\"line\">\\n<script type=\"text/javascript\">\\n\\t\\t  googletag.cmd.push(function() { googletag.display(\\'div-dfp-bottom_leaderboard\\'); });\\n \\t  </script>\\n</span>\\n</div> </div>\\n</div></footer> </div> <div class=\"region region-page-bottom\" id=\"region-page-bottom\">\\n<div class=\"region-inner region-page-bottom-inner\">\\n<noscript>\\n<style type=\"text/css\" media=\"all\" scoped=\"\">img[data-src]{display:none!important;}</style>\\n</noscript> </div>\\n</div><script type=\"text/javascript\" src=\"http://www.eluniversal.com.mx/sites/default/files/js/js__JoTd9Oxwhsenh2V4oPwBopK_5ZERouXB3otHIn_MrM.js\"/>\\n<script type=\"text/javascript\" src=\"http://b.scorecardresearch.com/c2/6906641/cs.js\"/>\\n<script type=\"text/javascript\">\\n&lt;!--//--&gt;&lt;![CDATA[//&gt;&lt;!--\\n      (function ($) {\\n        Drupal.behaviors.lazyloader = {\\n          attach: function (context, settings) {\\n            $(\"img[data-src]\").lazyloader({distance: 0, icon: \"\" });\\n          }\\n        };\\n      }(jQuery));\\n//--&gt;&lt;!]]&gt;\\n</script>\\n<script type=\"text/javascript\">\\n&lt;!--//--&gt;&lt;![CDATA[//&gt;&lt;!--\\n\\n      var _sf_async_config = _sf_async_config || {};\\n      /** CONFIGURATION START **/\\n      _sf_async_config.sections = \\'Economia\\';\\n      _sf_async_config.authors = \\'Redaccion\\';\\n      \\n      /** CONFIGURATION END **/\\n      (function() {\\n          function loadChartbeat() {\\n              window._sf_endpt = (new Date()).getTime();\\n              var e = document.createElement(\\'script\\');\\n              e.setAttribute(\\'language\\', \\'javascript\\');\\n              e.setAttribute(\\'type\\', \\'text/javascript\\');\\n              e.setAttribute(\\'src\\', \\'//static.chartbeat.com/js/chartbeat.js\\');\\n              \\n              document.body.appendChild(e);\\n          }\\n          var oldonload = window.onload;\\n          window.onload = (typeof window.onload != \\'function\\') ?\\n              loadChartbeat : function() {\\n                  oldonload();\\n                  loadChartbeat();\\n              };\\n          \\n          })();\\n//--&gt;&lt;!]]&gt;\\n</script>\\n<script type=\"text/javascript\" src=\"/sites/all/themes/universal/js/grid.js\"/>\\n<div id=\"div-dfp-takeover\" class=\"dfp_slot\">\\n<script type=\"text/javascript\">\\n\\t\\tgoogletag.cmd.push(function() { googletag.display(\\'div-dfp-takeover\\'); });\\n \\t</script>\\n</div> <script type=\"text/javascript\">window._taboola=window._taboola||[],_taboola.push({flush:!0});</script> </section></div></body>\\n'"
      ]
     },
     "execution_count": 124,
     "metadata": {},
     "output_type": "execute_result"
    }
   ],
   "source": [
    "pq.html()"
   ]
  },
  {
   "cell_type": "code",
   "execution_count": 156,
   "metadata": {
    "collapsed": false,
    "scrolled": true
   },
   "outputs": [
    {
     "name": "stdout",
     "output_type": "stream",
     "text": [
      "Licitación de 148 canales atrae a 25 interesados\n",
      "Economía\n",
      "None\n",
      "Ford aumenta oferta en pick ups con modelo Raptor 2017 \n",
      "Economía\n",
      "None\n",
      "Pide Anierm intercambio comercial con otros países \n",
      "Economía\n",
      "Retroceden 4.4% las exportaciones en octubre: Inegi\n",
      "Economía\n",
      "None\n",
      "Sufre economía desaceleración\n",
      "Economía\n",
      "None\n",
      "Banxico advierte de fase de desaceleración\n",
      "Economía\n",
      "None\n",
      "Cierra dólar al menudeo en $20.95\n",
      "Economía\n",
      "None\n",
      "Concluye gira de trabajo de SHCP-Pemex en Reino Unido \n",
      "Economía\n",
      "None\n",
      "Recomienda Sojo explotar información estadística para entender el \"efecto Trump\"\n",
      "Economía\n",
      "None\n",
      "Retroceden exportaciones durante octubre\n",
      "Economía\n",
      "Economía Universal\n",
      "None\n",
      "Walmart seguirá pagando $15 por hora en México\n",
      "None\n",
      "Por Trump, empresarios de México y EU alistan estrategia\n"
     ]
    }
   ],
   "source": [
    "urls=[]\n",
    "texto=[]\n",
    "#for item in pq(' .field-content a'):\n",
    "for item in pq('.field-content a'):\n",
    "    href  = item.attrib['href']\n",
    "    if href is None:\n",
    "        continue\n",
    "    if item.text is None:\n",
    "        continue\n",
    "    if len(item.text)<10:\n",
    "        continue\n",
    "        \n",
    "    if base_url in href:\n",
    "        urls.append(href)\n",
    "        texto.append(item.text)\n",
    "    else:\n",
    "        urls.append(base_url+href)\n",
    "        texto.append(item.text)\n",
    "    #print href"
   ]
  },
  {
   "cell_type": "code",
   "execution_count": 157,
   "metadata": {
    "collapsed": false
   },
   "outputs": [
    {
     "data": {
      "text/plain": [
       "[u'Licitaci\\xf3n de 148 canales atrae a 25 interesados',\n",
       " 'Ford aumenta oferta en pick ups con modelo Raptor 2017 ',\n",
       " u'Pide Anierm intercambio comercial con otros pa\\xedses ',\n",
       " 'Retroceden 4.4% las exportaciones en octubre: Inegi',\n",
       " u'Sufre econom\\xeda desaceleraci\\xf3n',\n",
       " u'Banxico advierte de fase de desaceleraci\\xf3n',\n",
       " u'Cierra d\\xf3lar al menudeo en $20.95',\n",
       " 'Concluye gira de trabajo de SHCP-Pemex en Reino Unido ',\n",
       " u'Recomienda Sojo explotar informaci\\xf3n estad\\xedstica para entender el \"efecto Trump\"',\n",
       " 'Retroceden exportaciones durante octubre',\n",
       " u'Econom\\xeda Universal',\n",
       " u'Walmart seguir\\xe1 pagando $15 por hora en M\\xe9xico',\n",
       " u'Por Trump, empresarios de M\\xe9xico y EU alistan estrategia']"
      ]
     },
     "execution_count": 157,
     "metadata": {},
     "output_type": "execute_result"
    }
   ],
   "source": [
    "texto"
   ]
  },
  {
   "cell_type": "code",
   "execution_count": 158,
   "metadata": {
    "collapsed": false
   },
   "outputs": [
    {
     "data": {
      "text/plain": [
       "['http://www.eluniversal.com.mx/cartera/economia/articulo/cartera/economia/2016/11/26/licitacion-de-148-canales-atrae-25-interesados',\n",
       " 'http://www.eluniversal.com.mx/cartera/economia/articulo/cartera/economia/2016/11/26/ford-aumenta-oferta-en-pick-ups-con-modelo-raptor-2017',\n",
       " 'http://www.eluniversal.com.mx/cartera/economia/articulo/cartera/economia/2016/11/26/pide-anierm-intercambio-comercial-con-otros-paises',\n",
       " 'http://www.eluniversal.com.mx/cartera/economia/articulo/cartera/economia/2016/11/26/retroceden-44-las-exportaciones-en-octubre-inegi',\n",
       " 'http://www.eluniversal.com.mx/cartera/economia/articulo/cartera/economia/2016/11/26/sufre-economia-desaceleracion',\n",
       " 'http://www.eluniversal.com.mx/cartera/economia/articulo/cartera/economia/2016/11/25/banxico-advierte-de-fase-de-desaceleracion',\n",
       " 'http://www.eluniversal.com.mx/cartera/economia/articulo/cartera/economia/2016/11/25/cierra-dolar-al-menudeo-en-2095',\n",
       " 'http://www.eluniversal.com.mx/cartera/economia/articulo/cartera/economia/2016/11/25/concluye-gira-de-trabajo-de-shcp-pemex-en-reino-unido',\n",
       " 'http://www.eluniversal.com.mx/cartera/economia/articulo/cartera/economia/2016/11/25/recomienda-sojo-explotar-informacion-estadistica-para-entender',\n",
       " 'http://www.eluniversal.com.mx/cartera/economia/articulo/cartera/economia/2016/11/25/retroceden-exportaciones-durante-octubre',\n",
       " 'http://www.eluniversal.com.mx/cartera/economiahttp://www.eluniversaltv.com.mx/video/cartera/2016/walmart-seguira-pagando-15-por-hora-en-mexico-65279',\n",
       " 'http://www.eluniversal.com.mx/cartera/economiahttp://www.eluniversaltv.com.mx/video/cartera/2016/walmart-seguira-pagando-15-por-hora-en-mexico-65279',\n",
       " 'http://www.eluniversal.com.mx/cartera/economiahttp://www.eluniversaltv.com.mx/video/cartera/2016/preparan-estrategia-empresarios-de-mexico-y-eu']"
      ]
     },
     "execution_count": 158,
     "metadata": {},
     "output_type": "execute_result"
    }
   ],
   "source": [
    "urls"
   ]
  },
  {
   "cell_type": "code",
   "execution_count": 1,
   "metadata": {
    "collapsed": false
   },
   "outputs": [
    {
     "data": {
      "text/plain": [
       "u'/Users/joseantonioperez/Dropbox/NAFTA'"
      ]
     },
     "execution_count": 1,
     "metadata": {},
     "output_type": "execute_result"
    }
   ],
   "source": [
    "pwd"
   ]
  },
  {
   "cell_type": "code",
   "execution_count": null,
   "metadata": {
    "collapsed": true
   },
   "outputs": [],
   "source": []
  }
 ],
 "metadata": {
  "kernelspec": {
   "display_name": "Python 2",
   "language": "python",
   "name": "python2"
  },
  "language_info": {
   "codemirror_mode": {
    "name": "ipython",
    "version": 2
   },
   "file_extension": ".py",
   "mimetype": "text/x-python",
   "name": "python",
   "nbconvert_exporter": "python",
   "pygments_lexer": "ipython2",
   "version": "2.7.12"
  }
 },
 "nbformat": 4,
 "nbformat_minor": 0
}

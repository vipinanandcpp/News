{
 "cells": [
  {
   "cell_type": "code",
   "execution_count": 1,
   "metadata": {
    "collapsed": false
   },
   "outputs": [],
   "source": [
    "from apscheduler.schedulers.blocking import BlockingScheduler\n",
    "from pyquery import PyQuery\n",
    "import pandas as pd\n",
    "\n",
    "import smtplib\n",
    "\n",
    "from email.mime.multipart import MIMEMultipart\n",
    "from email.mime.text import MIMEText\n",
    "\n",
    "# In[2]:\n",
    "import time\n",
    "import datetime\n",
    "#import win32com.client\n",
    "import numpy as np\n",
    "import collections\n",
    "#import pythoncom\n",
    "\n",
    "import logging\n",
    "\n",
    "sched = BlockingScheduler()\n",
    "logging.basicConfig()\n",
    "\n",
    "\n",
    "# In[3]:\n",
    "\n",
    "import sys, logging, traceback\n",
    "import concurrent.futures as cf\n",
    "from concurrent.futures import ThreadPoolExecutor\n",
    "from goose import Goose"
   ]
  },
  {
   "cell_type": "code",
   "execution_count": 2,
   "metadata": {
    "collapsed": true
   },
   "outputs": [],
   "source": [
    "import sys, logging, traceback\n",
    "import concurrent.futures as cf\n",
    "from concurrent.futures import ThreadPoolExecutor\n",
    "from goose import Goose\n"
   ]
  },
  {
   "cell_type": "code",
   "execution_count": 3,
   "metadata": {
    "collapsed": true
   },
   "outputs": [],
   "source": [
    "class URLProcessor(object):\n",
    "\tg = Goose()\n",
    "\n",
    "\tdef __init__(self, max_workers=50):\n",
    "\t\tself.max_workers = max_workers\n",
    "\n",
    "\t@staticmethod\n",
    "\tdef run_extraction(url):\n",
    "\t\textracted = None\n",
    "\t\ttry:\n",
    "\t\t\textracted = URLProcessor.g.extract(url = url)\n",
    "\t\texcept Exception as e:\n",
    "\t\t\tsys.stderr.write('\\n\\t' + str(traceback.print_exc()))\n",
    "\t\t\tlogging.error(e, exc_info=1)\n",
    "\t\t\textracted = None\n",
    "\t\treturn extracted\n",
    "\n",
    "\tdef process_url(self, url):\n",
    "\t\treturn URLProcessor.run_extraction(url)\n",
    "\n",
    "\tdef process_urls(self, urls, timeout = 600):\n",
    "\t\tresults = {}\n",
    "\t\twith ThreadPoolExecutor(max_workers=self.max_workers) as executor:\n",
    "\t\t\tfutures = {executor.submit(self.process_url, url):url for url in urls}\n",
    "\t\t\tfor future in cf.as_completed(futures, timeout=timeout):\n",
    "\t\t\t\tif future.result() is not None:\n",
    "\t\t\t\t\turl = futures[future]\n",
    "\t\t\t\t\ttry:\n",
    "\t\t\t\t\t\tresults[url] = future.result()\n",
    "\t\t\t\t\texcept Exception as e:\n",
    "\t\t\t\t\t\tsys.stderr.write('\\n\\t' + str(traceback.print_exc()))\n",
    "\t\t\t\t\t\tlogging.error(e, exc_info=1)\n",
    "\t\treturn results\n",
    "url_processor = URLProcessor()"
   ]
  },
  {
   "cell_type": "code",
   "execution_count": 4,
   "metadata": {
    "collapsed": true
   },
   "outputs": [],
   "source": [
    "def prepare_html(liston,color):\n",
    "    liston_out=list()\n",
    "    for headline,url in liston:\n",
    "        if(len(headline)>0):\n",
    "            out1_jose = \"<tr><td BGCOLOR=\"+color+\">\" + headline + \"<td align=center>\" + url +  \"</tr>\";\n",
    "            #out1_jose = \"<tr><td BGCOLOR=#F7BE81>\" + headline + \"<td align=center>\" + url +  \"</tr>\";\n",
    "            liston_out.append(out1_jose)\n",
    "    return liston_out"
   ]
  },
  {
   "cell_type": "code",
   "execution_count": 5,
   "metadata": {
    "collapsed": false
   },
   "outputs": [],
   "source": [
    "def prepare_wsj():\n",
    "    pq = PyQuery('http://www.wsj.com/news/heard-on-the-street')\n",
    "\n",
    "    base_url = 'http://www.wsj.com/'\n",
    "    \n",
    "    blog_url='http://blogs.wsj.com/'\n",
    "\n",
    "    urls = []\n",
    "\n",
    "\n",
    "    for item in pq('.headline-container .headline a').items():\n",
    "        href  = item.attr['href']\n",
    "        if base_url in href:\n",
    "            urls.append(href)\n",
    "        else:\n",
    "            if blog_url not in href:\n",
    "                urls.append(base_url+href)\n",
    "            else:\n",
    "                urls.append(href)\n",
    "\n",
    "    #url_processor = URLProcessor()\n",
    "\n",
    "    liston_wsj=list()\n",
    "    \n",
    "    for elem in urls:\n",
    "        article=url_processor.process_url(elem)\n",
    "        liston_wsj.append((article.title,elem))\n",
    "\n",
    "    return liston_wsj    \n",
    "\n",
    "    \n",
    "    "
   ]
  },
  {
   "cell_type": "code",
   "execution_count": 6,
   "metadata": {
    "collapsed": true
   },
   "outputs": [],
   "source": [
    "def prepare_bb():\n",
    "    pq = PyQuery('http://www.bloomberg.com')\n",
    "\n",
    "    base_url = 'http://www.bloomberg.com/'\n",
    "\n",
    "    urls = []\n",
    "\n",
    "\n",
    "    for item in pq('.hero-v6-story__info-container .hero-v6-story__info a').items():\n",
    "        href  = item.attr['href']\n",
    "        if base_url in href:\n",
    "            urls.append(href)\n",
    "        else:\n",
    "            urls.append(base_url+href)\n",
    "\n",
    "    liston_bb=list()\n",
    "\n",
    "\n",
    "    for elem in urls:\n",
    "        article=url_processor.process_url(elem)\n",
    "        liston_bb.append((article.title,elem))\n",
    "\n",
    "    return liston_bb"
   ]
  },
  {
   "cell_type": "code",
   "execution_count": 7,
   "metadata": {
    "collapsed": true
   },
   "outputs": [],
   "source": [
    "def prepare_cnn():\n",
    "    pq = PyQuery(\"http://money.cnn.com/news/economy/\")\n",
    "\n",
    "\n",
    "    #\n",
    "    base_url = 'http://money.cnn.com/'\n",
    "\n",
    "\n",
    "    urls = []\n",
    "\n",
    "\n",
    "    for item in pq('article  a').items():\n",
    "        href  = item.attr['href']\n",
    "        if base_url in href:\n",
    "            urls.append(href)\n",
    "        else:\n",
    "            urls.append(base_url+href)\n",
    "\n",
    "    talla=len(urls)\n",
    "\n",
    "    limite=min(talla,5)\n",
    "\n",
    "    liston_cnn=list()\n",
    "\n",
    "\n",
    "\n",
    "    for elem in urls[0:limite]:\n",
    "        article=url_processor.process_url(elem)\n",
    "        liston_cnn.append((article.title,elem))\n",
    "\n",
    "    return liston_cnn"
   ]
  },
  {
   "cell_type": "code",
   "execution_count": 8,
   "metadata": {
    "collapsed": true
   },
   "outputs": [],
   "source": [
    "def prepare_bi():\n",
    "    pq = PyQuery(\"http://www.businessinsider.com.au/category/10-things-before-opening-bell\")\n",
    "\n",
    "\n",
    "    #\n",
    "    base_url = 'http://www.businessinsider.com.au/'\n",
    "\n",
    "\n",
    "    urls = []\n",
    "\n",
    "\n",
    "    for item in pq('.post-description .post-title a').items():\n",
    "        href  = item.attr['href']\n",
    "        if base_url in href:\n",
    "            urls.append(href)\n",
    "        else:\n",
    "            urls.append(base_url+href)\n",
    "\n",
    "    talla=len(urls)\n",
    "\n",
    "    limite=min(talla,2)\n",
    "\n",
    "    liston_bi=list()\n",
    "\n",
    "\n",
    "\n",
    "    for elem in urls[0:limite]:\n",
    "        article=url_processor.process_url(elem)\n",
    "        liston_bi.append((article.title,elem))\n",
    "\n",
    "    return liston_bi"
   ]
  },
  {
   "cell_type": "code",
   "execution_count": 9,
   "metadata": {
    "collapsed": false
   },
   "outputs": [],
   "source": [
    "def prepare_financiero():\n",
    "    urls=[]\n",
    "    texto=[]\n",
    "    base_url = 'http://www.elfinanciero.com.mx'\n",
    "    pq = PyQuery('http://www.elfinanciero.com.mx/economia/')\n",
    "\n",
    "    for item in pq('.category-main-news .title a'):\n",
    "        #print item.text\n",
    "        href  = item.attrib['href']\n",
    "        if base_url in href:\n",
    "            urls.append(href)\n",
    "            texto.append(item.text)\n",
    "        else:\n",
    "            urls.append(base_url+href)\n",
    "            texto.append(item.text)\n",
    "    liston_financiero=list()\n",
    "    \n",
    "    for aux  in range(len(urls)):\n",
    "        liston_financiero.append((texto[aux],urls[aux]))\n",
    "    return  liston_financiero  \n",
    "        \n",
    "        \n",
    "        \n",
    "        \n",
    "        \n",
    "    \n"
   ]
  },
  {
   "cell_type": "code",
   "execution_count": 12,
   "metadata": {
    "collapsed": true
   },
   "outputs": [],
   "source": [
    "def prepare_universal():\n",
    "    urls=[]\n",
    "    urls=[]\n",
    "    texto=[]\n",
    "    base_url='http://www.eluniversal.com.mx'\n",
    "    pq = PyQuery('http://www.eluniversal.com.mx/cartera/economia/')\n",
    "    \n",
    "    #for item in pq(' .field-content a'):\n",
    "    for item in pq('.field-content a'):\n",
    "        href  = item.attrib['href']\n",
    "        if href is None:\n",
    "            continue\n",
    "        if item.text is None:\n",
    "            continue\n",
    "        if len(item.text)<10:\n",
    "            continue\n",
    "\n",
    "        if base_url in href:\n",
    "            urls.append(href)\n",
    "            texto.append(item.text)\n",
    "        else:\n",
    "            urls.append(base_url+href)\n",
    "            texto.append(item.text)\n",
    "            \n",
    "    liston_universal=list()\n",
    "    \n",
    "    for aux  in range(len(urls)):\n",
    "        liston_universal.append((texto[aux],urls[aux]))\n",
    "    return  liston_universal  \n",
    "        \n",
    "            \n",
    "    "
   ]
  },
  {
   "cell_type": "code",
   "execution_count": 13,
   "metadata": {
    "collapsed": true
   },
   "outputs": [],
   "source": [
    "def prepare_big_csv(big_liston):\n",
    "    path='/Users/joseantonioperez/Dropbox/NAFTA/stored_news/'\n",
    "    today=datetime.datetime.now().date()\n",
    "    df_out=pd.DataFrame(columns=['text','url'])\n",
    "    contador=0\n",
    "    for agency in big_liston:\n",
    "        for news in agency:\n",
    "            df_out.loc[contador]=news\n",
    "            contador=contador+1\n",
    "            \n",
    "    df_out.to_csv(path+\"\\\\\"+\"TOP_NEWS_\"+today.strftime('%m%d%Y')+\".csv\",encoding='utf-8')\n",
    "    print \"news done\"\n",
    "           \n",
    "            \n",
    "            \n",
    "        "
   ]
  },
  {
   "cell_type": "code",
   "execution_count": 17,
   "metadata": {
    "collapsed": true
   },
   "outputs": [],
   "source": [
    "def prepare_big_html(big_liston,color):\n",
    "    total = \"<html><body><table border=5 BORDERCOLOR=BLUE><CAPTION><b><u>  NAFTA INSIGHT 1345 </u></b></CAPTION>\";\n",
    "    total = total + \"<tr><td><b>\" + \"TITLE\" + \"</b><td width='230' align=center><b>\"  + \"URL\" + \"</b></tr>\";\n",
    "    tempo=prepare_html(big_liston[0],color[0])\n",
    "    if  len(tempo)>0:\n",
    "        for elem in tempo:\n",
    "            total=total+elem\n",
    "    tempo=prepare_html(big_liston[1],color[1])\n",
    "    if  len(tempo)>0:\n",
    "        for elem in tempo:\n",
    "            total=total+elem\n",
    "    tempo=prepare_html(big_liston[2],color[2])\n",
    "    if  len(tempo)>0:\n",
    "        for elem in tempo:\n",
    "            total=total+elem\n",
    "\n",
    "    tempo=prepare_html(big_liston[3],color[3])\n",
    "    if  len(tempo)>0:\n",
    "        for elem in tempo:\n",
    "            total=total+elem\n",
    "            \n",
    "            \n",
    "    tempo=prepare_html(big_liston[4],color[4])\n",
    "    if  len(tempo)>0:\n",
    "        for elem in tempo:\n",
    "            total=total+elem\n",
    "            \n",
    "    tempo=prepare_html(big_liston[5],color[5])\n",
    "    if  len(tempo)>0:\n",
    "        for elem in tempo:\n",
    "            total=total+elem\n",
    "\n",
    "\n",
    "\n",
    "    total = total + \"</table></body></html>\";\n",
    "\n",
    "    return total\n",
    "        "
   ]
  },
  {
   "cell_type": "code",
   "execution_count": 18,
   "metadata": {
    "collapsed": false
   },
   "outputs": [],
   "source": [
    "def send_email_new(users,total):\n",
    "\ttoday=datetime.datetime.now()\n",
    "\ttext=\"PRE MARKET REPORT \"+today.strftime('%m/%d/%Y %H:%M')\n",
    "\ts = smtplib.SMTP(\"smtp.gmail.com\",587)\n",
    "\t\n",
    "\tme = 'naftainsight1345@gmail.com'\n",
    "\tpwd='emerson1954'\n",
    "\ts.ehlo()\n",
    "\ts.starttls()\n",
    "\ts.login(me, pwd)\n",
    "    \n",
    "\tyou =users\n",
    "\tmsg = MIMEMultipart('alternative')\n",
    "\tmsg['Subject'] =text\n",
    "\tmsg['From'] = me\n",
    "\tmsg['To'] =[]\n",
    "\tmsg['Cc'] =[]\n",
    "\t#msg['Bcc'] =you\n",
    "\t\n",
    "\t#html=total\n",
    "\tpart1 = MIMEText(text, 'plain')\n",
    "\tpart2 = MIMEText(total, 'html','utf-8')\n",
    "\n",
    "\t# Attach parts into message container.\n",
    "\t# According to RFC 2046, the last part of a multipart message, in this case\n",
    "\t# the HTML message, is best and preferred.\n",
    "\tmsg.attach(part1)\n",
    "\tmsg.attach(part2)\n",
    "\ts.sendmail(me,[me]+[me]+ you.split(\";\"), msg.as_string().encode('ascii'))\n",
    "\ts.quit()\n",
    "\tprint('email sent.')\n"
   ]
  },
  {
   "cell_type": "code",
   "execution_count": 19,
   "metadata": {
    "collapsed": false
   },
   "outputs": [
    {
     "name": "stdout",
     "output_type": "stream",
     "text": [
      "email sent.\n",
      "news done\n"
     ]
    }
   ],
   "source": [
    "#brain\n",
    "liston_bi=prepare_bi()\n",
    "liston_wsj=prepare_wsj()\n",
    "liston_bb=prepare_bb()\n",
    "liston_cnn=prepare_cnn()\n",
    "liston_financiero=prepare_financiero()\n",
    "liston_universal=prepare_universal()\n",
    "\n",
    "big_liston=[liston_universal,liston_financiero,liston_bi,liston_cnn,liston_bb,liston_wsj]\n",
    "color=['#809ff7','#f780e3','#ff9900','#00FF00','#00FFFF','#F3F781']\n",
    "\n",
    "total=prepare_big_html(big_liston,color)\n",
    "\n",
    "\n",
    "\n",
    "#users=\"jose.pereza@me.com;vipin.anand.cpp@gmail.com;\"\n",
    "\n",
    "users='jose.pereza@me.com;vipin.anand.cpp@gmail.com;japerez20@gmail.com;juanmanuelhec@gmail.com;salumgreco@hotmail.com'\n",
    "\n",
    "send_email_new(users,total)\n",
    "prepare_big_csv(big_liston)"
   ]
  },
  {
   "cell_type": "code",
   "execution_count": null,
   "metadata": {
    "collapsed": true
   },
   "outputs": [],
   "source": []
  },
  {
   "cell_type": "raw",
   "metadata": {},
   "source": []
  },
  {
   "cell_type": "code",
   "execution_count": null,
   "metadata": {
    "collapsed": true
   },
   "outputs": [],
   "source": []
  },
  {
   "cell_type": "code",
   "execution_count": null,
   "metadata": {
    "collapsed": true
   },
   "outputs": [],
   "source": []
  }
 ],
 "metadata": {
  "kernelspec": {
   "display_name": "Python 2",
   "language": "python",
   "name": "python2"
  },
  "language_info": {
   "codemirror_mode": {
    "name": "ipython",
    "version": 2
   },
   "file_extension": ".py",
   "mimetype": "text/x-python",
   "name": "python",
   "nbconvert_exporter": "python",
   "pygments_lexer": "ipython2",
   "version": "2.7.12"
  }
 },
 "nbformat": 4,
 "nbformat_minor": 0
}
